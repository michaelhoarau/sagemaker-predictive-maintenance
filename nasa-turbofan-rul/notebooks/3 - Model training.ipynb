{
 "cells": [
  {
   "cell_type": "markdown",
   "metadata": {},
   "source": [
    "# Predictive Maintenance using Machine Learning on Sagemaker\n",
    "*Part 3 - Model training*"
   ]
  },
  {
   "cell_type": "markdown",
   "metadata": {},
   "source": [
    "## Initialization\n",
    "---\n",
    "Directory structure to run this notebook:\n",
    "```\n",
    "sagemaker-predictive-maintenance\n",
    "|\n",
    "+--- data\n",
    "|   |\n",
    "|   +--- interim: intermediate data we can manipulate and process\n",
    "|   |\n",
    "|   \\--- raw: *immutable* data downloaded from the source website\n",
    "|\n",
    "+--- notebooks: all the notebooks are positionned here\n",
    "```\n",
    "\n",
    "### Loading data from the previous notebook"
   ]
  },
  {
   "cell_type": "code",
   "execution_count": 1,
   "metadata": {},
   "outputs": [],
   "source": [
    "%store -r"
   ]
  },
  {
   "cell_type": "markdown",
   "metadata": {},
   "source": [
    "### Imports"
   ]
  },
  {
   "cell_type": "code",
   "execution_count": 2,
   "metadata": {},
   "outputs": [],
   "source": [
    "import os\n",
    "import numpy as np\n",
    "import matplotlib.pyplot as plt\n",
    "import sagemaker\n",
    "import pickle as pkl\n",
    "import boto3\n",
    "import seaborn as sns\n",
    "import pandas as pd\n",
    "import re\n",
    "\n",
    "from sagemaker.amazon.amazon_estimator import get_image_uri\n",
    "from datetime import datetime\n",
    "from sklearn.externals import joblib\n",
    "from sklearn.model_selection import train_test_split\n",
    "from sklearn.preprocessing import MinMaxScaler\n",
    "\n",
    "# Helper functions\n",
    "import utils\n",
    "\n",
    "sns.set_style('darkgrid')"
   ]
  },
  {
   "cell_type": "markdown",
   "metadata": {},
   "source": [
    "### Get general information about this SageMaker session"
   ]
  },
  {
   "cell_type": "code",
   "execution_count": 3,
   "metadata": {},
   "outputs": [],
   "source": [
    "role = sagemaker.get_execution_role()\n",
    "session = sagemaker.Session()\n",
    "bucket_name = session.default_bucket()\n",
    "region = boto3.Session().region_name\n",
    "prefix = 'nasa_engine_data'"
   ]
  },
  {
   "cell_type": "markdown",
   "metadata": {},
   "source": [
    "### Set random seed\n",
    "This will fix the random behavior of all this notebook to ease reproducibility. **Remove this in a production setting.**"
   ]
  },
  {
   "cell_type": "code",
   "execution_count": 4,
   "metadata": {},
   "outputs": [],
   "source": [
    "import random\n",
    "random.seed(42)"
   ]
  },
  {
   "cell_type": "markdown",
   "metadata": {},
   "source": [
    "## Preparing training and validation data\n",
    "---\n",
    "As a first step, **we will consider each measurement as an independant event**, irregardless of the unit on which the measure took place. We will not consider this as a timeseries analysis and the two question we want to answer to are the following:\n",
    "\n",
    "> 1. Given a set of sensor measurements and operation settings, is this unit considered healthy (`label = 0`) or unhealthy (`label = 1` with a `rul` lesser than 30)?\n",
    "> 2. Given a set of sensor measurements and operation settings, how many cycles does the engine has left (estimating the `rul` column)?\n",
    "\n",
    "Obviously, this is a big approximation as engine wear down is progressive and each timestep depends from the past behavior measured. We will explore this in a subsequent notebook dedicated to timeseries analysis with services like SageMaker DeepAR built-in algorithm or Amazon Forecast if it makes sense."
   ]
  },
  {
   "cell_type": "markdown",
   "metadata": {},
   "source": [
    "### Splitting data"
   ]
  },
  {
   "cell_type": "code",
   "execution_count": 5,
   "metadata": {},
   "outputs": [],
   "source": [
    "# Extract the features (and convert them to float64 to prevent \n",
    "# warning from the scalign step later on) and the target dataframes:\n",
    "X = data.loc[:, 'operational_setting_1':'sensor_measurement_21'].astype(np.float64)\n",
    "y_class = data.loc[:, 'label'] # Target value for the classification problem (question #1)\n",
    "y_reg = data.loc[:, 'rul']     # Target value for the regression problem (question #2)\n",
    "\n",
    "# Splitting training and validation data for the classification problem:\n",
    "X_train, X_val, y_class_train, y_class_val = train_test_split(X, y_class, test_size=0.20)\n",
    "\n",
    "# Applying the same split to the target data for the regression problem:\n",
    "y_reg_train = y_reg[y_class_train.index]\n",
    "y_reg_val = y_reg[y_class_val.index]"
   ]
  },
  {
   "cell_type": "markdown",
   "metadata": {},
   "source": [
    "### Normalizing data\n",
    "Normalizing the features as they have wildly different ranges. We only need to scale the features as the target can only take two values (0 or 1):"
   ]
  },
  {
   "cell_type": "code",
   "execution_count": 6,
   "metadata": {},
   "outputs": [
    {
     "data": {
      "text/plain": [
       "'s3://sagemaker-eu-west-1-123031033346/nasa_engine_data/preprocessing/MinMaxScaler.joblib'"
      ]
     },
     "execution_count": 6,
     "metadata": {},
     "output_type": "execute_result"
    }
   ],
   "source": [
    "# We build a scaler from the training dataset and apply the same \n",
    "# scaler to the validation one. Pay attention that scaling will \n",
    "# yield numpy arrays and not Pandas dataframes:\n",
    "scaler = MinMaxScaler()\n",
    "X_train_scaled = pd.DataFrame(scaler.fit_transform(X_train))\n",
    "X_val_scaled = pd.DataFrame(scaler.fit_transform(X_val))\n",
    "\n",
    "# No normalization applied on the target data, just putting them in a Pandas Series form:\n",
    "y_class_train = pd.DataFrame(y_class_train).reset_index(drop=True)\n",
    "y_class_val = pd.DataFrame(y_class_val).reset_index(drop=True)\n",
    "y_reg_train = pd.DataFrame(y_reg_train).reset_index(drop=True)\n",
    "y_reg_val = pd.DataFrame(y_reg_val).reset_index(drop=True)\n",
    "\n",
    "# This exact same scaler will have to be used again on the testing \n",
    "# data before feeding them to the model. Let's persist it on S3:\n",
    "joblib.dump(scaler, 'MinMaxScaler.joblib')\n",
    "session.upload_data(path='MinMaxScaler.joblib', bucket=bucket_name, key_prefix='{}/preprocessing'.format(prefix))"
   ]
  },
  {
   "cell_type": "markdown",
   "metadata": {},
   "source": [
    "### Uploading to S3"
   ]
  },
  {
   "cell_type": "markdown",
   "metadata": {},
   "source": [
    "The XGBoost algorithm we want to use needs a dataset with the **target values in the first column** and the features in the remaining ones. Moreover, we want to **remove any header or index** from the dataframe. Let's assemble our training and validation datasets like this before uploading them to S3:"
   ]
  },
  {
   "cell_type": "code",
   "execution_count": 7,
   "metadata": {},
   "outputs": [],
   "source": [
    "# Saving datasets to disk:\n",
    "pd.concat([y_class_train, X_train_scaled], axis='columns').to_csv('training_classification.csv', header=False, index=False)\n",
    "pd.concat([y_class_val, X_val_scaled], axis='columns').to_csv('validation_classification.csv', header=False, index=False)\n",
    "\n",
    "pd.concat([y_reg_train, X_train_scaled], axis='columns').to_csv('training_regression.csv', header=False, index=False)\n",
    "pd.concat([y_reg_val, X_val_scaled], axis='columns').to_csv('validation_regression.csv', header=False, index=False)\n",
    "\n",
    "# Uploading them to S3:\n",
    "session.upload_data(path='training_classification.csv', bucket=bucket_name, key_prefix='{}/input'.format(prefix));\n",
    "session.upload_data(path='validation_classification.csv', bucket=bucket_name, key_prefix='{}/input'.format(prefix));\n",
    "\n",
    "session.upload_data(path='training_regression.csv', bucket=bucket_name, key_prefix='{}/input'.format(prefix));\n",
    "session.upload_data(path='validation_regression.csv', bucket=bucket_name, key_prefix='{}/input'.format(prefix));\n",
    "\n",
    "# Cleanup: remove the local files once uploaded:\n",
    "os.remove('training_classification.csv')\n",
    "os.remove('validation_classification.csv')\n",
    "os.remove('training_regression.csv')\n",
    "os.remove('validation_regression.csv')"
   ]
  },
  {
   "cell_type": "markdown",
   "metadata": {},
   "source": [
    "## Model training\n",
    "---\n",
    "### Model 1: classification problem: *is my engine healthy?*\n",
    "Encapsulating inputs in S3 object to ensure content type (text/csv in this case) is correctly identified by the algorithm:"
   ]
  },
  {
   "cell_type": "code",
   "execution_count": 8,
   "metadata": {},
   "outputs": [],
   "source": [
    "s3_input_class_train = sagemaker.s3_input(s3_data='s3://{}/{}/input/training_classification.csv'.format(bucket_name, prefix), content_type='text/csv')\n",
    "s3_input_class_val = sagemaker.s3_input(s3_data='s3://{}/{}/input/validation_classification.csv'.format(bucket_name, prefix), content_type='text/csv')"
   ]
  },
  {
   "cell_type": "markdown",
   "metadata": {},
   "source": [
    "Build an `Estimator` object that will be used to train the model afterward:"
   ]
  },
  {
   "cell_type": "code",
   "execution_count": 9,
   "metadata": {},
   "outputs": [],
   "source": [
    "# Fetch the training container for SageMaker built-in XGBoost algorithm:\n",
    "xgb_container = get_image_uri(region, 'xgboost', '0.90-1')\n",
    "\n",
    "# Build a training job name:\n",
    "training_job_name = 'xgboost-nasa-health-class'\n",
    "\n",
    "# Build the estimator object:\n",
    "model_artifacts_path = 's3://{}/{}/output'.format(bucket_name, prefix)\n",
    "xgb_estimator = sagemaker.estimator.Estimator(\n",
    "    image_name=xgb_container,\n",
    "    role=role,\n",
    "    train_instance_count=1,\n",
    "    train_instance_type='ml.m5.large',\n",
    "    output_path=model_artifacts_path,\n",
    "    sagemaker_session=session,\n",
    "    base_job_name=training_job_name\n",
    ")"
   ]
  },
  {
   "cell_type": "markdown",
   "metadata": {},
   "source": [
    "Apart from the above set of parameters, there are hyperparameters that are specific to the algorithm. For XGBoost they can be found in the [Amazon SageMaker developer guide](https://docs.aws.amazon.com/sagemaker/latest/dg/xgboost_hyperparameters.html):"
   ]
  },
  {
   "cell_type": "code",
   "execution_count": 10,
   "metadata": {},
   "outputs": [],
   "source": [
    "# Link hyperparameters to this estimator:\n",
    "xgb_estimator.set_hyperparameters(\n",
    "    max_depth=6,                   # Max depth of a given tree\n",
    "    eta=0.3,                       # Step size shrinkage used in updates to prevent overfitting\n",
    "    gamma=0,                       # Minimum loss reduction required to make a further partition on a leaf node of the tree\n",
    "    min_child_weight=1,            # Minimum sum of instance weight (hessian) needed in a child\n",
    "    subsample=1.0,                 # Subsample ratio of the training instance\n",
    "    silent=0,                      # 0 means print running messages\n",
    "    #objective='reg:squarederror', # Learning task and learning objective\n",
    "    objective='binary:logistic',   # Learning task and learning objective\n",
    "    \n",
    "    num_round=40                   # The number of rounds to run the training\n",
    ")\n",
    "\n",
    "# This model is better (the default values overfit quite severely but it will do for the hyperparameter tuning demonstration later on)\n",
    "#xgb_estimator.set_hyperparameters(\n",
    "#    max_depth=3,                   # Max depth of a given tree\n",
    "#    eta=0.2,                       # Step size shrinkage used in updates to prevent overfitting\n",
    "#    gamma=5,                       # Minimum loss reduction required to make a further partition on a leaf node of the tree\n",
    "#    min_child_weight=6,            # Minimum sum of instance weight (hessian) needed in a child\n",
    "#    subsample=0.5,                 # Subsample ratio of the training instance\n",
    "#    silent=0,                      # 0 means print running messages\n",
    "#    #objective='reg:squarederror', # Learning task and learning objective\n",
    "#    objective='binary:logistic',   # Learning task and learning objective\n",
    "#    num_round=40                   # The number of rounds to run the training\n",
    "#)"
   ]
  },
  {
   "cell_type": "markdown",
   "metadata": {},
   "source": [
    "Launch training:"
   ]
  },
  {
   "cell_type": "code",
   "execution_count": 11,
   "metadata": {
    "scrolled": true
   },
   "outputs": [
    {
     "name": "stdout",
     "output_type": "stream",
     "text": [
      "2020-05-14 14:47:07 Starting - Starting the training job...\n",
      "2020-05-14 14:47:09 Starting - Launching requested ML instances............\n",
      "2020-05-14 14:49:11 Starting - Preparing the instances for training......\n",
      "2020-05-14 14:50:15 Downloading - Downloading input data...\n",
      "2020-05-14 14:51:06 Training - Training image download completed. Training in progress.\n",
      "2020-05-14 14:51:06 Uploading - Uploading generated training model.\u001b[34mINFO:sagemaker-containers:Imported framework sagemaker_xgboost_container.training\u001b[0m\n",
      "\u001b[34mINFO:sagemaker-containers:Failed to parse hyperparameter objective value binary:logistic to Json.\u001b[0m\n",
      "\u001b[34mReturning the value itself\u001b[0m\n",
      "\u001b[34mINFO:sagemaker-containers:No GPUs detected (normal if no gpus installed)\u001b[0m\n",
      "\u001b[34mINFO:sagemaker_xgboost_container.training:Running XGBoost Sagemaker in algorithm mode\u001b[0m\n",
      "\u001b[34mINFO:root:Determined delimiter of CSV input is ','\u001b[0m\n",
      "\u001b[34mINFO:root:Determined delimiter of CSV input is ','\u001b[0m\n",
      "\u001b[34mINFO:root:Determined delimiter of CSV input is ','\u001b[0m\n",
      "\u001b[34m[14:51:02] 16504x17 matrix with 280568 entries loaded from /opt/ml/input/data/train?format=csv&label_column=0&delimiter=,\u001b[0m\n",
      "\u001b[34mINFO:root:Determined delimiter of CSV input is ','\u001b[0m\n",
      "\u001b[34m[14:51:02] 4127x17 matrix with 70159 entries loaded from /opt/ml/input/data/validation?format=csv&label_column=0&delimiter=,\u001b[0m\n",
      "\u001b[34mINFO:root:Single node training.\u001b[0m\n",
      "\u001b[34mINFO:root:Train matrix has 16504 rows\u001b[0m\n",
      "\u001b[34mINFO:root:Validation matrix has 4127 rows\u001b[0m\n",
      "\u001b[34m[0]#011train-error:0.035446#011validation-error:0.048219\u001b[0m\n",
      "\u001b[34m[1]#011train-error:0.031629#011validation-error:0.045311\u001b[0m\n",
      "\u001b[34m[2]#011train-error:0.030962#011validation-error:0.041919\u001b[0m\n",
      "\u001b[34m[3]#011train-error:0.028175#011validation-error:0.044342\u001b[0m\n",
      "\u001b[34m[4]#011train-error:0.028296#011validation-error:0.043615\u001b[0m\n",
      "\u001b[34m[5]#011train-error:0.02769#011validation-error:0.042888\u001b[0m\n",
      "\u001b[34m[6]#011train-error:0.027145#011validation-error:0.043373\u001b[0m\n",
      "\u001b[34m[7]#011train-error:0.026721#011validation-error:0.043615\u001b[0m\n",
      "\u001b[34m[8]#011train-error:0.025085#011validation-error:0.042888\u001b[0m\n",
      "\u001b[34m[9]#011train-error:0.024661#011validation-error:0.043858\u001b[0m\n",
      "\u001b[34m[10]#011train-error:0.024358#011validation-error:0.044827\u001b[0m\n",
      "\u001b[34m[11]#011train-error:0.023873#011validation-error:0.044342\u001b[0m\n",
      "\u001b[34m[12]#011train-error:0.023631#011validation-error:0.044827\u001b[0m\n",
      "\u001b[34m[13]#011train-error:0.023631#011validation-error:0.045796\u001b[0m\n",
      "\u001b[34m[14]#011train-error:0.023691#011validation-error:0.04725\u001b[0m\n",
      "\u001b[34m[15]#011train-error:0.023388#011validation-error:0.04725\u001b[0m\n",
      "\u001b[34m[16]#011train-error:0.022904#011validation-error:0.048219\u001b[0m\n",
      "\u001b[34m[17]#011train-error:0.022479#011validation-error:0.049431\u001b[0m\n",
      "\u001b[34m[18]#011train-error:0.021995#011validation-error:0.049188\u001b[0m\n",
      "\u001b[34m[19]#011train-error:0.021571#011validation-error:0.049188\u001b[0m\n",
      "\u001b[34m[20]#011train-error:0.021025#011validation-error:0.049673\u001b[0m\n",
      "\u001b[34m[21]#011train-error:0.020843#011validation-error:0.0504\u001b[0m\n",
      "\u001b[34m[22]#011train-error:0.020662#011validation-error:0.0504\u001b[0m\n",
      "\u001b[34m[23]#011train-error:0.019995#011validation-error:0.051369\u001b[0m\n",
      "\u001b[34m[24]#011train-error:0.019207#011validation-error:0.051127\u001b[0m\n",
      "\u001b[34m[25]#011train-error:0.018965#011validation-error:0.052338\u001b[0m\n",
      "\u001b[34m[26]#011train-error:0.01848#011validation-error:0.052823\u001b[0m\n",
      "\u001b[34m[27]#011train-error:0.018056#011validation-error:0.053307\u001b[0m\n",
      "\u001b[34m[28]#011train-error:0.017269#011validation-error:0.05355\u001b[0m\n",
      "\u001b[34m[29]#011train-error:0.016905#011validation-error:0.053307\u001b[0m\n",
      "\u001b[34m[30]#011train-error:0.01642#011validation-error:0.05355\u001b[0m\n",
      "\u001b[34m[31]#011train-error:0.016238#011validation-error:0.053792\u001b[0m\n",
      "\u001b[34m[32]#011train-error:0.016057#011validation-error:0.055731\u001b[0m\n",
      "\u001b[34m[33]#011train-error:0.01539#011validation-error:0.055731\u001b[0m\n",
      "\u001b[34m[34]#011train-error:0.015451#011validation-error:0.054761\u001b[0m\n",
      "\u001b[34m[35]#011train-error:0.015451#011validation-error:0.055246\u001b[0m\n",
      "\u001b[34m[36]#011train-error:0.014178#011validation-error:0.054519\u001b[0m\n",
      "\u001b[34m[37]#011train-error:0.013936#011validation-error:0.054761\u001b[0m\n",
      "\u001b[34m[38]#011train-error:0.01333#011validation-error:0.054277\u001b[0m\n",
      "\u001b[34m[39]#011train-error:0.013209#011validation-error:0.053792\u001b[0m\n",
      "\n",
      "2020-05-14 14:51:13 Completed - Training job completed\n",
      "Training seconds: 58\n",
      "Billable seconds: 58\n"
     ]
    }
   ],
   "source": [
    "xgb_estimator.fit({'train': s3_input_class_train, 'validation': s3_input_class_val})"
   ]
  },
  {
   "cell_type": "markdown",
   "metadata": {},
   "source": [
    "Plot training metrics: the metrics are stored in the Amazon Cloudwatch Logs service. Check the `get_training_metrics()` helper functions in the `utils.py` module for more details:"
   ]
  },
  {
   "cell_type": "code",
   "execution_count": 12,
   "metadata": {},
   "outputs": [
    {
     "data": {
      "image/png": "[encoded data removed]",
      "text/plain": [
       "<Figure size 1296x288 with 1 Axes>"
      ]
     },
     "metadata": {},
     "output_type": "display_data"
    }
   ],
   "source": [
    "# Extract the metrics from the Cloudwatch logs:\n",
    "metrics_df = utils.get_training_metrics(xgb_estimator.latest_training_job.name, 'train-error:', 'validation-error:')\n",
    "\n",
    "# Plot the metrics:\n",
    "fig1 = plt.figure(figsize=(18,4))\n",
    "chart = sns.lineplot(data=metrics_df)\n",
    "chart.set_ylabel('Training metrics');\n",
    "chart.set_xlabel('Rounds');"
   ]
  },
  {
   "cell_type": "markdown",
   "metadata": {},
   "source": [
    "This model with default values for XGBoost hyperparameters clearly demonstrates severe overfitting. We will address this in the hyperparameter tuning notebook, but this will give us a baseline to improve from."
   ]
  },
  {
   "cell_type": "markdown",
   "metadata": {},
   "source": [
    "### Model 2: regression problem: *how long does my engine still has before break up?*\n",
    "Encapsulating inputs in S3 object to ensure content type (text/csv in this case) is correctly identified by the algorithm:"
   ]
  },
  {
   "cell_type": "code",
   "execution_count": 13,
   "metadata": {},
   "outputs": [],
   "source": [
    "s3_input_reg_train = sagemaker.s3_input(s3_data='s3://{}/{}/input/training_regression.csv'.format(bucket_name, prefix), content_type='text/csv')\n",
    "s3_input_reg_val = sagemaker.s3_input(s3_data='s3://{}/{}/input/validation_regression.csv'.format(bucket_name, prefix), content_type='text/csv')"
   ]
  },
  {
   "cell_type": "markdown",
   "metadata": {},
   "source": [
    "Build an `Estimator` object that will be used to train the model afterward:"
   ]
  },
  {
   "cell_type": "code",
   "execution_count": 14,
   "metadata": {},
   "outputs": [],
   "source": [
    "# Build a training job name:\n",
    "training_job_name = 'xgboost-nasa-rul-reg'\n",
    "\n",
    "# Build the estimator object:\n",
    "model_artifacts_path = 's3://{}/{}/output'.format(bucket_name, prefix)\n",
    "xgb_estimator2 = sagemaker.estimator.Estimator(\n",
    "    image_name=xgb_container,\n",
    "    role=role,\n",
    "    train_instance_count=1,\n",
    "    train_instance_type='ml.m5.large',\n",
    "    output_path=model_artifacts_path,\n",
    "    sagemaker_session=session,\n",
    "    base_job_name=training_job_name\n",
    ")"
   ]
  },
  {
   "cell_type": "markdown",
   "metadata": {},
   "source": [
    "Apart from the above set of parameters, there are hyperparameters that are specific to the algorithm. For XGBoost they can be found in the [Amazon SageMaker developer guide](https://docs.aws.amazon.com/sagemaker/latest/dg/xgboost_hyperparameters.html):"
   ]
  },
  {
   "cell_type": "code",
   "execution_count": 15,
   "metadata": {},
   "outputs": [],
   "source": [
    "# Link hyperparameters to this estimator:\n",
    "xgb_estimator2.set_hyperparameters(\n",
    "    max_depth=6,                   # Max depth of a given tree\n",
    "    eta=0.3,                       # Step size shrinkage used in updates to prevent overfitting\n",
    "    gamma=0,                       # Minimum loss reduction required to make a further partition on a leaf node of the tree\n",
    "    min_child_weight=1,            # Minimum sum of instance weight (hessian) needed in a child\n",
    "    subsample=1.0,                 # Subsample ratio of the training instance\n",
    "    silent=0,                      # 0 means print running messages\n",
    "    objective='reg:squarederror', # Learning task and learning objective\n",
    "    num_round=40                   # The number of rounds to run the training\n",
    ")"
   ]
  },
  {
   "cell_type": "markdown",
   "metadata": {},
   "source": [
    "Launch training:"
   ]
  },
  {
   "cell_type": "code",
   "execution_count": 16,
   "metadata": {
    "scrolled": true
   },
   "outputs": [
    {
     "name": "stdout",
     "output_type": "stream",
     "text": [
      "2020-05-14 14:51:50 Starting - Starting the training job...\n",
      "2020-05-14 14:51:52 Starting - Launching requested ML instances......\n",
      "2020-05-14 14:53:19 Starting - Preparing the instances for training......\n",
      "2020-05-14 14:54:08 Downloading - Downloading input data...\n",
      "2020-05-14 14:54:43 Training - Downloading the training image..\u001b[34mINFO:sagemaker-containers:Imported framework sagemaker_xgboost_container.training\u001b[0m\n",
      "\u001b[34mINFO:sagemaker-containers:Failed to parse hyperparameter objective value reg:squarederror to Json.\u001b[0m\n",
      "\u001b[34mReturning the value itself\u001b[0m\n",
      "\u001b[34mINFO:sagemaker-containers:No GPUs detected (normal if no gpus installed)\u001b[0m\n",
      "\u001b[34mINFO:sagemaker_xgboost_container.training:Running XGBoost Sagemaker in algorithm mode\u001b[0m\n",
      "\u001b[34mINFO:root:Determined delimiter of CSV input is ','\u001b[0m\n",
      "\u001b[34mINFO:root:Determined delimiter of CSV input is ','\u001b[0m\n",
      "\u001b[34mINFO:root:Determined delimiter of CSV input is ','\u001b[0m\n",
      "\u001b[34m[14:54:59] 16504x17 matrix with 280568 entries loaded from /opt/ml/input/data/train?format=csv&label_column=0&delimiter=,\u001b[0m\n",
      "\u001b[34mINFO:root:Determined delimiter of CSV input is ','\u001b[0m\n",
      "\u001b[34m[14:54:59] 4127x17 matrix with 70159 entries loaded from /opt/ml/input/data/validation?format=csv&label_column=0&delimiter=,\u001b[0m\n",
      "\u001b[34mINFO:root:Single node training.\u001b[0m\n",
      "\u001b[34mINFO:root:Train matrix has 16504 rows\u001b[0m\n",
      "\u001b[34mINFO:root:Validation matrix has 4127 rows\u001b[0m\n",
      "\u001b[34m[0]#011train-rmse:94.6852#011validation-rmse:95.0312\u001b[0m\n",
      "\u001b[34m[1]#011train-rmse:72.8914#011validation-rmse:74.205\u001b[0m\n",
      "\u001b[34m[2]#011train-rmse:58.9886#011validation-rmse:61.159\u001b[0m\n",
      "\u001b[34m[3]#011train-rmse:50.5653#011validation-rmse:53.4026\u001b[0m\n",
      "\u001b[34m[4]#011train-rmse:45.6021#011validation-rmse:48.9641\u001b[0m\n",
      "\u001b[34m[5]#011train-rmse:42.7377#011validation-rmse:46.1876\u001b[0m\n",
      "\u001b[34m[6]#011train-rmse:41.0708#011validation-rmse:44.8012\u001b[0m\n",
      "\u001b[34m[7]#011train-rmse:40.072#011validation-rmse:43.9298\u001b[0m\n",
      "\u001b[34m[8]#011train-rmse:39.3916#011validation-rmse:43.235\u001b[0m\n",
      "\u001b[34m[9]#011train-rmse:38.9075#011validation-rmse:42.9881\u001b[0m\n",
      "\u001b[34m[10]#011train-rmse:38.595#011validation-rmse:42.8278\u001b[0m\n",
      "\u001b[34m[11]#011train-rmse:38.2274#011validation-rmse:42.916\u001b[0m\n",
      "\u001b[34m[12]#011train-rmse:38.0535#011validation-rmse:42.8931\u001b[0m\n",
      "\u001b[34m[13]#011train-rmse:37.9047#011validation-rmse:42.8209\u001b[0m\n",
      "\u001b[34m[14]#011train-rmse:37.7482#011validation-rmse:42.7592\u001b[0m\n",
      "\u001b[34m[15]#011train-rmse:37.5955#011validation-rmse:42.742\u001b[0m\n",
      "\u001b[34m[16]#011train-rmse:37.5258#011validation-rmse:42.7263\u001b[0m\n",
      "\u001b[34m[17]#011train-rmse:37.403#011validation-rmse:42.7396\u001b[0m\n",
      "\u001b[34m[18]#011train-rmse:37.2087#011validation-rmse:42.933\u001b[0m\n",
      "\u001b[34m[19]#011train-rmse:37.0524#011validation-rmse:42.9634\u001b[0m\n",
      "\u001b[34m[20]#011train-rmse:36.92#011validation-rmse:42.9346\u001b[0m\n",
      "\u001b[34m[21]#011train-rmse:36.8054#011validation-rmse:42.9531\u001b[0m\n",
      "\u001b[34m[22]#011train-rmse:36.6773#011validation-rmse:43.0648\u001b[0m\n",
      "\u001b[34m[23]#011train-rmse:36.4358#011validation-rmse:43.2451\u001b[0m\n",
      "\u001b[34m[24]#011train-rmse:36.353#011validation-rmse:43.2505\u001b[0m\n",
      "\u001b[34m[25]#011train-rmse:36.2051#011validation-rmse:43.2578\u001b[0m\n",
      "\u001b[34m[26]#011train-rmse:35.9975#011validation-rmse:43.2753\u001b[0m\n",
      "\u001b[34m[27]#011train-rmse:35.781#011validation-rmse:43.3807\u001b[0m\n",
      "\u001b[34m[28]#011train-rmse:35.6426#011validation-rmse:43.3848\u001b[0m\n",
      "\u001b[34m[29]#011train-rmse:35.4847#011validation-rmse:43.4504\u001b[0m\n",
      "\u001b[34m[30]#011train-rmse:35.4032#011validation-rmse:43.4555\u001b[0m\n",
      "\u001b[34m[31]#011train-rmse:35.1618#011validation-rmse:43.3857\u001b[0m\n",
      "\u001b[34m[32]#011train-rmse:34.8602#011validation-rmse:43.4848\u001b[0m\n",
      "\u001b[34m[33]#011train-rmse:34.8034#011validation-rmse:43.4987\u001b[0m\n",
      "\u001b[34m[34]#011train-rmse:34.6452#011validation-rmse:43.5733\u001b[0m\n",
      "\u001b[34m[35]#011train-rmse:34.4801#011validation-rmse:43.6564\u001b[0m\n",
      "\u001b[34m[36]#011train-rmse:34.3913#011validation-rmse:43.6285\u001b[0m\n",
      "\u001b[34m[37]#011train-rmse:34.2229#011validation-rmse:43.6629\u001b[0m\n",
      "\u001b[34m[38]#011train-rmse:34.1025#011validation-rmse:43.6746\u001b[0m\n",
      "\u001b[34m[39]#011train-rmse:33.9066#011validation-rmse:43.7112\u001b[0m\n",
      "\n",
      "2020-05-14 14:55:10 Uploading - Uploading generated training model\n",
      "2020-05-14 14:55:10 Completed - Training job completed\n",
      "Training seconds: 62\n",
      "Billable seconds: 62\n"
     ]
    }
   ],
   "source": [
    "xgb_estimator2.fit({'train': s3_input_reg_train, 'validation': s3_input_reg_val})"
   ]
  },
  {
   "cell_type": "markdown",
   "metadata": {},
   "source": [
    "Plot training metrics: the metrics are stored in the Amazon Cloudwatch Logs service. Check the `get_training_metrics()` helper functions in the `utils.py` module for more details:"
   ]
  },
  {
   "cell_type": "code",
   "execution_count": 17,
   "metadata": {},
   "outputs": [
    {
     "data": {
      "image/png": "[encoded data removed]",
      "text/plain": [
       "<Figure size 1296x288 with 1 Axes>"
      ]
     },
     "metadata": {},
     "output_type": "display_data"
    }
   ],
   "source": [
    "# Extract the metrics from the Cloudwatch logs:\n",
    "metrics_df = utils.get_training_metrics(xgb_estimator2.latest_training_job.name, 'train-rmse:', 'validation-rmse:')\n",
    "\n",
    "# Plot the metric:\n",
    "fig2 = plt.figure(figsize=(18,4))\n",
    "chart = sns.lineplot(data=metrics_df)\n",
    "chart.set_ylabel('Training metrics');\n",
    "chart.set_xlabel('Rounds');"
   ]
  },
  {
   "cell_type": "markdown",
   "metadata": {},
   "source": [
    "With default values for XGBoost hyperparameters, this regression model also demonstrates some overfitting. We will address this in the hyperparameter tuning notebook, but this will give us a baseline to improve from."
   ]
  },
  {
   "cell_type": "markdown",
   "metadata": {},
   "source": [
    "### Feature importance\n",
    "To get the feature importance, we need to download first the model artifacts stored during the training on S3. Let's get it for the last model trained (the regression problem):"
   ]
  },
  {
   "cell_type": "code",
   "execution_count": 18,
   "metadata": {},
   "outputs": [
    {
     "name": "stdout",
     "output_type": "stream",
     "text": [
      "Downloading model artifacts from s3://sagemaker-eu-west-1-123031033346/nasa_engine_data/output/xgboost-nasa-rul-reg-2020-05-14-14-51-50-227/output/model.tar.gz\n"
     ]
    }
   ],
   "source": [
    "model_artifacts_key = 'nasa_engine_data/output/{}/output/model.tar.gz'.format(xgb_estimator2._current_job_name)\n",
    "print('Downloading model artifacts from s3://{}/{}'.format(bucket_name, model_artifacts_key))\n",
    "s3_client = boto3.Session().resource('s3')\n",
    "s3_client.Bucket(bucket_name).download_file(model_artifacts_key, 'model.tar.gz')\n",
    "!tar -xzf model.tar.gz\n",
    "!rm model.tar.gz"
   ]
  },
  {
   "cell_type": "markdown",
   "metadata": {},
   "source": [
    "XGBoost is installed in the training container we used previously. It is not installed by default on the notebook instance. Installing the open source XGBoost module (with the same version as the latest built-in SageMaker one):"
   ]
  },
  {
   "cell_type": "code",
   "execution_count": 19,
   "metadata": {},
   "outputs": [
    {
     "name": "stdout",
     "output_type": "stream",
     "text": [
      "Requirement already satisfied: xgboost==0.90 in /home/ec2-user/anaconda3/envs/python3/lib/python3.6/site-packages (0.90)\n",
      "Requirement already satisfied: numpy in /home/ec2-user/anaconda3/envs/python3/lib/python3.6/site-packages (from xgboost==0.90) (1.14.3)\n",
      "Requirement already satisfied: scipy in /home/ec2-user/anaconda3/envs/python3/lib/python3.6/site-packages (from xgboost==0.90) (1.1.0)\n",
      "\u001b[33mYou are using pip version 10.0.1, however version 20.1 is available.\n",
      "You should consider upgrading via the 'pip install --upgrade pip' command.\u001b[0m\n"
     ]
    }
   ],
   "source": [
    "!pip install xgboost==0.90"
   ]
  },
  {
   "cell_type": "markdown",
   "metadata": {},
   "source": [
    "Load the model into a booster object:"
   ]
  },
  {
   "cell_type": "code",
   "execution_count": 20,
   "metadata": {},
   "outputs": [],
   "source": [
    "booster = pkl.load(open('xgboost-model', 'rb'))\n",
    "!rm xgboost-model"
   ]
  },
  {
   "cell_type": "markdown",
   "metadata": {},
   "source": [
    "Get feature importance from the XGBoost model:"
   ]
  },
  {
   "cell_type": "code",
   "execution_count": 21,
   "metadata": {},
   "outputs": [],
   "source": [
    "fscores = booster.get_fscore()\n",
    "feature_importance = pd.DataFrame(columns=['feature', 'score'])\n",
    "for feature in fscores:\n",
    "    index = int(feature[1:])\n",
    "    feature_importance = feature_importance.append({\n",
    "        'feature': X_train.columns.tolist()[index],\n",
    "        'score': fscores[feature]\n",
    "    }, ignore_index=True)\n",
    "    \n",
    "feature_importance = feature_importance.sort_values(by='score', ascending=False)"
   ]
  },
  {
   "cell_type": "code",
   "execution_count": 22,
   "metadata": {},
   "outputs": [
    {
     "data": {
      "image/png": "[encoded data removed]",
      "text/plain": [
       "<Figure size 1080x432 with 1 Axes>"
      ]
     },
     "metadata": {},
     "output_type": "display_data"
    }
   ],
   "source": [
    "fig3 = plt.figure(figsize=(15,6))\n",
    "chart = sns.barplot(x='feature', y='score', data=feature_importance)\n",
    "chart.set_xticklabels(chart.get_xticklabels(), rotation=45, horizontalalignment='right');\n",
    "chart.set_title('NASA Turbofan Engine Faults - XGBoost Feature Importance for the regression model');"
   ]
  },
  {
   "cell_type": "markdown",
   "metadata": {},
   "source": [
    "## Cleanup\n",
    "---"
   ]
  },
  {
   "cell_type": "code",
   "execution_count": 23,
   "metadata": {},
   "outputs": [],
   "source": [
    "fig1.clear()\n",
    "fig2.clear()\n",
    "fig3.clear()\n",
    "plt.close(fig1)\n",
    "plt.close(fig2)\n",
    "plt.close(fig3)"
   ]
  },
  {
   "cell_type": "markdown",
   "metadata": {},
   "source": [
    "### Storing data for the next notebook"
   ]
  },
  {
   "cell_type": "code",
   "execution_count": 26,
   "metadata": {},
   "outputs": [
    {
     "name": "stdout",
     "output_type": "stream",
     "text": [
      "Stored 'X_train' (DataFrame)\n",
      "Stored 'xgb_classification_job' (str)\n",
      "Stored 'xgb_regression_job' (str)\n"
     ]
    }
   ],
   "source": [
    "xgb_classification_job = xgb_estimator.latest_training_job.name\n",
    "xgb_regression_job = xgb_estimator2.latest_training_job.name\n",
    "%store X_train\n",
    "%store xgb_classification_job\n",
    "%store xgb_regression_job"
   ]
  }
 ],
 "metadata": {
  "kernelspec": {
   "display_name": "conda_python3",
   "language": "python",
   "name": "conda_python3"
  },
  "language_info": {
   "codemirror_mode": {
    "name": "ipython",
    "version": 3
   },
   "file_extension": ".py",
   "mimetype": "text/x-python",
   "name": "python",
   "nbconvert_exporter": "python",
   "pygments_lexer": "ipython3",
   "version": "3.6.5"
  }
 },
 "nbformat": 4,
 "nbformat_minor": 4
}
