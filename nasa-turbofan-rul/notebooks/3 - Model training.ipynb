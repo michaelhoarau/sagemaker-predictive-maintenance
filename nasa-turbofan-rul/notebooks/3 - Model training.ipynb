{
 "cells": [
  {
   "cell_type": "markdown",
   "metadata": {},
   "source": [
    "# Predictive Maintenance using Machine Learning on Sagemaker\n",
    "*Part 3 - Model training*"
   ]
  },
  {
   "cell_type": "markdown",
   "metadata": {},
   "source": [
    "## Initialization\n",
    "---\n",
    "Directory structure to run this notebook:\n",
    "```\n",
    "sagemaker-predictive-maintenance\n",
    "|\n",
    "+--- data\n",
    "|   |\n",
    "|   +--- interim: intermediate data we can manipulate and process\n",
    "|   |\n",
    "|   \\--- raw: *immutable* data downloaded from the source website\n",
    "|\n",
    "+--- notebooks: all the notebooks are positionned here\n",
    "```\n",
    "\n",
    "### Loading data from the previous notebook"
   ]
  },
  {
   "cell_type": "code",
   "execution_count": 2,
   "metadata": {},
   "outputs": [],
   "source": [
    "%store -r"
   ]
  },
  {
   "cell_type": "markdown",
   "metadata": {},
   "source": [
    "### Imports"
   ]
  },
  {
   "cell_type": "code",
   "execution_count": 23,
   "metadata": {},
   "outputs": [],
   "source": [
    "import numpy as np\n",
    "import matplotlib.pyplot as plt\n",
    "import sagemaker\n",
    "import pickle as pkl\n",
    "import boto3\n",
    "\n",
    "from sagemaker.amazon.amazon_estimator import get_image_uri\n",
    "\n",
    "from datetime import datetime\n",
    "from sklearn.externals import joblib\n",
    "from sklearn.model_selection import train_test_split\n",
    "from sklearn.preprocessing import MinMaxScaler\n",
    "\n",
    "sns.set_style('darkgrid')"
   ]
  },
  {
   "cell_type": "markdown",
   "metadata": {},
   "source": [
    "### Get general information about this SageMaker session"
   ]
  },
  {
   "cell_type": "code",
   "execution_count": 5,
   "metadata": {},
   "outputs": [],
   "source": [
    "role = sagemaker.get_execution_role()\n",
    "session = sagemaker.Session()\n",
    "bucket_name = session.default_bucket()\n",
    "region = boto3.Session().region_name\n",
    "prefix = 'nasa_engine_data'"
   ]
  },
  {
   "cell_type": "markdown",
   "metadata": {},
   "source": [
    "### Set random seed\n",
    "This will fix the random behavior of all this notebook to ease reproducibility. **Remove this in a production setting.**"
   ]
  },
  {
   "cell_type": "code",
   "execution_count": 6,
   "metadata": {},
   "outputs": [],
   "source": [
    "import random\n",
    "random.seed(42)"
   ]
  },
  {
   "cell_type": "markdown",
   "metadata": {},
   "source": [
    "## Preparing training and validation data\n",
    "---\n",
    "As a first step, **we will consider each measurement as an independant event**, irregardless of the unit on which the measure took place. We will not consider this as a timeseries analysis and the question we want to answer to is the following:\n",
    "\n",
    "> Given a set of sensor measurements and operation settings, how many cycles does the engine has left (estimating the `rul` column)?\n",
    "\n",
    "Obviously, this is a big approximation as engine wear down is progressive and each timestep depends from the past behavior measured. We will explore this in a subsequent notebook dedicated to timeseries analysis with services like SageMaker DeepAR built-in algorithm or Amazon Forecast."
   ]
  },
  {
   "cell_type": "markdown",
   "metadata": {},
   "source": [
    "### Splitting data"
   ]
  },
  {
   "cell_type": "code",
   "execution_count": 9,
   "metadata": {},
   "outputs": [],
   "source": [
    "# Extract the features (and convert them to float64 to prevent \n",
    "# warning from the scalign step later on) and the target dataframes:\n",
    "X = data.loc[:, 'operational_setting_1':'sensor_measurement_21'].astype(np.float64)\n",
    "y = data.loc[:, 'rul']\n",
    "\n",
    "# Splitting training and validation data:\n",
    "X_train, X_val, y_train, y_val = train_test_split(X, y, test_size=0.20)"
   ]
  },
  {
   "cell_type": "markdown",
   "metadata": {},
   "source": [
    "### Normalizing data\n",
    "Normalizing the features as they have wildly different ranges. We only need to scale the features as the target can only take two values (0 or 1):"
   ]
  },
  {
   "cell_type": "code",
   "execution_count": 10,
   "metadata": {},
   "outputs": [
    {
     "data": {
      "text/plain": [
       "'s3://sagemaker-eu-west-1-123031033346/nasa_engine_data/preprocessing/MinMaxScaler.joblib'"
      ]
     },
     "execution_count": 10,
     "metadata": {},
     "output_type": "execute_result"
    }
   ],
   "source": [
    "# We build a scaler from the training dataset and apply the same \n",
    "# scaler to the validation one. Pay attention that scaling will \n",
    "# yield numpy arrays and not Pandas dataframes:\n",
    "scaler = MinMaxScaler()\n",
    "X_train_scaled = pd.DataFrame(scaler.fit_transform(X_train))\n",
    "X_val_scaled = pd.DataFrame(scaler.fit_transform(X_val))\n",
    "y_train = pd.DataFrame(y_train).reset_index(drop=True)\n",
    "y_val = pd.DataFrame(y_val).reset_index(drop=True)\n",
    "\n",
    "# This exact same scaler will have to be used again on the testing \n",
    "# data before feeding them to the model. Let's persist it on S3:\n",
    "joblib.dump(scaler, 'MinMaxScaler.joblib')\n",
    "session.upload_data(path='MinMaxScaler.joblib', bucket=bucket_name, key_prefix='{}/preprocessing'.format(prefix))"
   ]
  },
  {
   "cell_type": "markdown",
   "metadata": {},
   "source": [
    "### Uploading to S3"
   ]
  },
  {
   "cell_type": "markdown",
   "metadata": {},
   "source": [
    "The XGBoost algorithm we want to use needs a dataset with the **target values in the first column** and the features in the remaining ones. Moreover, we want to **remove any header or index** from the dataframe. Let's assemble our training and validation datasets like this before uploading them to S3:"
   ]
  },
  {
   "cell_type": "code",
   "execution_count": 11,
   "metadata": {},
   "outputs": [],
   "source": [
    "pd.concat([y_train, X_train_scaled], axis='columns').to_csv('training.csv', header=False, index=False)\n",
    "pd.concat([y_val, X_val_scaled], axis='columns').to_csv('validation.csv', header=False, index=False)\n",
    "session.upload_data(path='training.csv', bucket=bucket_name, key_prefix='{}/input'.format(prefix));\n",
    "session.upload_data(path='validation.csv', bucket=bucket_name, key_prefix='{}/input'.format(prefix));"
   ]
  },
  {
   "cell_type": "markdown",
   "metadata": {},
   "source": [
    "## Model training\n",
    "---\n",
    "Encapsulating inputs in S3 object to ensure content type (text/csv in this case) is correctly identified by the algorithm:"
   ]
  },
  {
   "cell_type": "code",
   "execution_count": 12,
   "metadata": {},
   "outputs": [],
   "source": [
    "s3_input_train = sagemaker.s3_input(s3_data='s3://{}/{}/input/training.csv'.format(bucket_name, prefix), content_type='text/csv')\n",
    "s3_input_validation = sagemaker.s3_input(s3_data='s3://{}/{}/input/validation.csv'.format(bucket_name, prefix), content_type='text/csv')"
   ]
  },
  {
   "cell_type": "markdown",
   "metadata": {},
   "source": [
    "Build an `Estimator` object that will be used to train the model afterward:"
   ]
  },
  {
   "cell_type": "code",
   "execution_count": 14,
   "metadata": {},
   "outputs": [],
   "source": [
    "# Fetch the training container for SageMaker built-in XGBoost algorithm:\n",
    "xgb_container = get_image_uri(region, 'xgboost', '0.90-1')\n",
    "\n",
    "# Build a training job name:\n",
    "training_job_name = 'xgboost-model-v1-small-instance'\n",
    "\n",
    "# Build the estimator object:\n",
    "model_artifacts_path = 's3://{}/{}/output'.format(bucket_name, prefix)\n",
    "xgb_estimator = sagemaker.estimator.Estimator(\n",
    "    image_name=xgb_container,\n",
    "    role=role,\n",
    "    train_instance_count=1,\n",
    "    train_instance_type='ml.m5.large',\n",
    "    output_path=model_artifacts_path,\n",
    "    sagemaker_session=session,\n",
    "    base_job_name=training_job_name\n",
    ")\n",
    "\n",
    "# Link hyperparameters to this estimator:\n",
    "xgb_estimator.set_hyperparameters(\n",
    "    max_depth=6,\n",
    "    eta=0.2,\n",
    "    gamma=5,\n",
    "    min_child_weight=6,\n",
    "    subsample=0.9,\n",
    "    silent=0,\n",
    "    objective='reg:squarederror',\n",
    "    num_round=40\n",
    ")"
   ]
  },
  {
   "cell_type": "markdown",
   "metadata": {},
   "source": [
    "Launch training:"
   ]
  },
  {
   "cell_type": "code",
   "execution_count": 15,
   "metadata": {
    "scrolled": true
   },
   "outputs": [
    {
     "name": "stdout",
     "output_type": "stream",
     "text": [
      "2020-05-11 12:00:59 Starting - Starting the training job...\n",
      "2020-05-11 12:01:01 Starting - Launching requested ML instances...\n",
      "2020-05-11 12:01:59 Starting - Preparing the instances for training......\n",
      "2020-05-11 12:02:44 Downloading - Downloading input data......\n",
      "2020-05-11 12:03:54 Training - Downloading the training image...\n",
      "2020-05-11 12:04:24 Uploading - Uploading generated training model\n",
      "2020-05-11 12:04:24 Completed - Training job completed\n",
      "\u001b[34mINFO:sagemaker-containers:Imported framework sagemaker_xgboost_container.training\u001b[0m\n",
      "\u001b[34mINFO:sagemaker-containers:Failed to parse hyperparameter objective value reg:squarederror to Json.\u001b[0m\n",
      "\u001b[34mReturning the value itself\u001b[0m\n",
      "\u001b[34mINFO:sagemaker-containers:No GPUs detected (normal if no gpus installed)\u001b[0m\n",
      "\u001b[34mINFO:sagemaker_xgboost_container.training:Running XGBoost Sagemaker in algorithm mode\u001b[0m\n",
      "\u001b[34mINFO:root:Determined delimiter of CSV input is ','\u001b[0m\n",
      "\u001b[34mINFO:root:Determined delimiter of CSV input is ','\u001b[0m\n",
      "\u001b[34mINFO:root:Determined delimiter of CSV input is ','\u001b[0m\n",
      "\u001b[34m[12:04:13] 16504x17 matrix with 280568 entries loaded from /opt/ml/input/data/train?format=csv&label_column=0&delimiter=,\u001b[0m\n",
      "\u001b[34mINFO:root:Determined delimiter of CSV input is ','\u001b[0m\n",
      "\u001b[34m[12:04:13] 4127x17 matrix with 70159 entries loaded from /opt/ml/input/data/validation?format=csv&label_column=0&delimiter=,\u001b[0m\n",
      "\u001b[34mINFO:root:Single node training.\u001b[0m\n",
      "\u001b[34mINFO:root:Train matrix has 16504 rows\u001b[0m\n",
      "\u001b[34mINFO:root:Validation matrix has 4127 rows\u001b[0m\n",
      "\u001b[34m[0]#011train-rmse:105.585#011validation-rmse:106.639\u001b[0m\n",
      "\u001b[34m[1]#011train-rmse:88.2895#011validation-rmse:90.9564\u001b[0m\n",
      "\u001b[34m[2]#011train-rmse:74.9968#011validation-rmse:79.0661\u001b[0m\n",
      "\u001b[34m[3]#011train-rmse:64.9055#011validation-rmse:69.9064\u001b[0m\n",
      "\u001b[34m[4]#011train-rmse:57.4477#011validation-rmse:62.9893\u001b[0m\n",
      "\u001b[34m[5]#011train-rmse:51.9555#011validation-rmse:58.1276\u001b[0m\n",
      "\u001b[34m[6]#011train-rmse:48.0078#011validation-rmse:54.4243\u001b[0m\n",
      "\u001b[34m[7]#011train-rmse:45.1645#011validation-rmse:51.5793\u001b[0m\n",
      "\u001b[34m[8]#011train-rmse:43.2241#011validation-rmse:49.6255\u001b[0m\n",
      "\u001b[34m[9]#011train-rmse:41.7971#011validation-rmse:48.1349\u001b[0m\n",
      "\u001b[34m[10]#011train-rmse:40.8826#011validation-rmse:47.0254\u001b[0m\n",
      "\u001b[34m[11]#011train-rmse:40.2326#011validation-rmse:46.3312\u001b[0m\n",
      "\u001b[34m[12]#011train-rmse:39.7044#011validation-rmse:45.7455\u001b[0m\n",
      "\u001b[34m[13]#011train-rmse:39.2809#011validation-rmse:45.3163\u001b[0m\n",
      "\u001b[34m[14]#011train-rmse:38.9827#011validation-rmse:44.9373\u001b[0m\n",
      "\u001b[34m[15]#011train-rmse:38.7397#011validation-rmse:44.6771\u001b[0m\n",
      "\u001b[34m[16]#011train-rmse:38.5397#011validation-rmse:44.6503\u001b[0m\n",
      "\u001b[34m[17]#011train-rmse:38.3625#011validation-rmse:44.5883\u001b[0m\n",
      "\u001b[34m[18]#011train-rmse:38.2024#011validation-rmse:44.5004\u001b[0m\n",
      "\u001b[34m[19]#011train-rmse:38.1073#011validation-rmse:44.4345\u001b[0m\n",
      "\u001b[34m[20]#011train-rmse:37.984#011validation-rmse:44.3885\u001b[0m\n",
      "\u001b[34m[21]#011train-rmse:37.8933#011validation-rmse:44.3188\u001b[0m\n",
      "\u001b[34m[22]#011train-rmse:37.7922#011validation-rmse:44.2769\u001b[0m\n",
      "\u001b[34m[23]#011train-rmse:37.656#011validation-rmse:44.2363\u001b[0m\n",
      "\u001b[34m[24]#011train-rmse:37.5038#011validation-rmse:44.2369\u001b[0m\n",
      "\u001b[34m[25]#011train-rmse:37.4487#011validation-rmse:44.2487\u001b[0m\n",
      "\u001b[34m[26]#011train-rmse:37.3111#011validation-rmse:44.2784\u001b[0m\n",
      "\u001b[34m[27]#011train-rmse:37.2637#011validation-rmse:44.2818\u001b[0m\n",
      "\u001b[34m[28]#011train-rmse:37.1957#011validation-rmse:44.2856\u001b[0m\n",
      "\u001b[34m[29]#011train-rmse:37.08#011validation-rmse:44.3343\u001b[0m\n",
      "\u001b[34m[30]#011train-rmse:36.9559#011validation-rmse:44.3672\u001b[0m\n",
      "\u001b[34m[31]#011train-rmse:36.9052#011validation-rmse:44.359\u001b[0m\n",
      "\u001b[34m[32]#011train-rmse:36.7616#011validation-rmse:44.3739\u001b[0m\n",
      "\u001b[34m[33]#011train-rmse:36.6909#011validation-rmse:44.3929\u001b[0m\n",
      "\u001b[34m[34]#011train-rmse:36.5475#011validation-rmse:44.4525\u001b[0m\n",
      "\u001b[34m[35]#011train-rmse:36.4065#011validation-rmse:44.4467\u001b[0m\n",
      "\u001b[34m[36]#011train-rmse:36.3849#011validation-rmse:44.4421\u001b[0m\n",
      "\u001b[34m[37]#011train-rmse:36.2189#011validation-rmse:44.5062\u001b[0m\n",
      "\u001b[34m[38]#011train-rmse:36.0501#011validation-rmse:44.5139\u001b[0m\n",
      "\u001b[34m[39]#011train-rmse:35.9923#011validation-rmse:44.6511\u001b[0m\n",
      "Training seconds: 100\n",
      "Billable seconds: 100\n"
     ]
    }
   ],
   "source": [
    "xgb_estimator.fit({'train': s3_input_train, 'validation': s3_input_validation})"
   ]
  },
  {
   "cell_type": "markdown",
   "metadata": {},
   "source": [
    "### Plot training metrics\n",
    "The metrics are stored in the Amazon Cloudwatch Logs service."
   ]
  },
  {
   "cell_type": "code",
   "execution_count": 18,
   "metadata": {},
   "outputs": [
    {
     "data": {
      "text/html": [
       "<div>\n",
       "<style scoped>\n",
       "    .dataframe tbody tr th:only-of-type {\n",
       "        vertical-align: middle;\n",
       "    }\n",
       "\n",
       "    .dataframe tbody tr th {\n",
       "        vertical-align: top;\n",
       "    }\n",
       "\n",
       "    .dataframe thead th {\n",
       "        text-align: right;\n",
       "    }\n",
       "</style>\n",
       "<table border=\"1\" class=\"dataframe\">\n",
       "  <thead>\n",
       "    <tr style=\"text-align: right;\">\n",
       "      <th></th>\n",
       "      <th>train:rmse</th>\n",
       "      <th>validation:rmse</th>\n",
       "    </tr>\n",
       "  </thead>\n",
       "  <tbody>\n",
       "    <tr>\n",
       "      <th>0</th>\n",
       "      <td>105.7020</td>\n",
       "      <td>103.1410</td>\n",
       "    </tr>\n",
       "    <tr>\n",
       "      <th>1</th>\n",
       "      <td>88.4114</td>\n",
       "      <td>85.7857</td>\n",
       "    </tr>\n",
       "    <tr>\n",
       "      <th>2</th>\n",
       "      <td>75.1583</td>\n",
       "      <td>72.1567</td>\n",
       "    </tr>\n",
       "    <tr>\n",
       "      <th>3</th>\n",
       "      <td>65.1313</td>\n",
       "      <td>61.9541</td>\n",
       "    </tr>\n",
       "    <tr>\n",
       "      <th>4</th>\n",
       "      <td>57.6777</td>\n",
       "      <td>54.5083</td>\n",
       "    </tr>\n",
       "  </tbody>\n",
       "</table>\n",
       "</div>"
      ],
      "text/plain": [
       "   train:rmse  validation:rmse\n",
       "0    105.7020         103.1410\n",
       "1     88.4114          85.7857\n",
       "2     75.1583          72.1567\n",
       "3     65.1313          61.9541\n",
       "4     57.6777          54.5083"
      ]
     },
     "execution_count": 18,
     "metadata": {},
     "output_type": "execute_result"
    }
   ],
   "source": [
    "# Gets a Cloudwatch logs client:\n",
    "cwlogs_client = boto3.client('logs')\n",
    "\n",
    "# Each training has its log stored in a given log stream under the TrainingJobs logs group:\n",
    "response = cwlogs_client.describe_log_streams(\n",
    "    logGroupName='/aws/sagemaker/TrainingJobs',\n",
    "    logStreamNamePrefix=training_job_name,\n",
    ")\n",
    "training_log_stream_name = response['logStreams'][0]['logStreamName']\n",
    "\n",
    "# We can then get the events from this particular log stream:\n",
    "response = cwlogs_client.get_log_events(\n",
    "    logGroupName='/aws/sagemaker/TrainingJobs',\n",
    "    logStreamName=training_log_stream_name,\n",
    "    startFromHead=True\n",
    ")\n",
    "\n",
    "# Process the event logs to get the detailed train and validation metrics:\n",
    "metrics_df = pd.DataFrame(columns=['train:rmse', 'validation:rmse'])\n",
    "for event in response['events']:\n",
    "    message = event['message'].split('#')\n",
    "    if (len(message) > 1):\n",
    "        train_rmse = float(message[1][14:])\n",
    "        validation_rmse = float(message[2][19:])\n",
    "        timestamp = datetime.fromtimestamp(float(event['timestamp'])/1000)\n",
    "        \n",
    "        metrics_df = metrics_df.append({'train:rmse': train_rmse, 'validation:rmse': validation_rmse}, ignore_index=True)\n",
    "\n",
    "metrics_df.head()"
   ]
  },
  {
   "cell_type": "code",
   "execution_count": 19,
   "metadata": {},
   "outputs": [
    {
     "data": {
      "image/png": "[encoded data removed]",
      "text/plain": [
       "<Figure size 1296x288 with 1 Axes>"
      ]
     },
     "metadata": {},
     "output_type": "display_data"
    }
   ],
   "source": [
    "fig = plt.figure(figsize=(18,4))\n",
    "chart = sns.lineplot(data=metrics_df)\n",
    "chart.set_ylabel('Training metrics');\n",
    "chart.set_xlabel('Rounds');"
   ]
  },
  {
   "cell_type": "markdown",
   "metadata": {},
   "source": [
    "### Feature importance\n",
    "To get the feature importance, we need to download first the model artifacts stored during the training on S3:"
   ]
  },
  {
   "cell_type": "code",
   "execution_count": 20,
   "metadata": {},
   "outputs": [
    {
     "name": "stdout",
     "output_type": "stream",
     "text": [
      "Downloading model artifacts from s3://sagemaker-eu-west-1-123031033346/nasa_engine_data/output/xgboost-model-v1-small-instance-2020-05-11-12-00-59-646/output/model.tar.gz\n"
     ]
    }
   ],
   "source": [
    "model_artifacts_key = 'nasa_engine_data/output/{}/output/model.tar.gz'.format(xgb_estimator._current_job_name)\n",
    "print('Downloading model artifacts from s3://{}/{}'.format(bucket_name, model_artifacts_key))\n",
    "s3_client = boto3.Session().resource('s3')\n",
    "s3_client.Bucket(bucket_name).download_file(model_artifacts_key, 'model.tar.gz')\n",
    "!tar -xzf model.tar.gz"
   ]
  },
  {
   "cell_type": "markdown",
   "metadata": {},
   "source": [
    "XGBoost is installed in the training container we used previously. It is not installed by default on the notebook instance. Installing the open source XGBoost module (with the same version as the latest built-in SageMaker one):"
   ]
  },
  {
   "cell_type": "code",
   "execution_count": 21,
   "metadata": {},
   "outputs": [
    {
     "name": "stdout",
     "output_type": "stream",
     "text": [
      "Requirement already satisfied: xgboost==0.90 in /home/ec2-user/anaconda3/envs/python3/lib/python3.6/site-packages (0.90)\n",
      "Requirement already satisfied: numpy in /home/ec2-user/anaconda3/envs/python3/lib/python3.6/site-packages (from xgboost==0.90) (1.14.3)\n",
      "Requirement already satisfied: scipy in /home/ec2-user/anaconda3/envs/python3/lib/python3.6/site-packages (from xgboost==0.90) (1.1.0)\n",
      "\u001b[33mYou are using pip version 10.0.1, however version 20.1 is available.\n",
      "You should consider upgrading via the 'pip install --upgrade pip' command.\u001b[0m\n"
     ]
    }
   ],
   "source": [
    "!pip install xgboost==0.90"
   ]
  },
  {
   "cell_type": "markdown",
   "metadata": {},
   "source": [
    "Load the model into a booster object:"
   ]
  },
  {
   "cell_type": "code",
   "execution_count": 24,
   "metadata": {},
   "outputs": [],
   "source": [
    "booster = pkl.load(open('xgboost-model', 'rb'))"
   ]
  },
  {
   "cell_type": "markdown",
   "metadata": {},
   "source": [
    "Get feature importance from the XGBoost model:"
   ]
  },
  {
   "cell_type": "code",
   "execution_count": 25,
   "metadata": {},
   "outputs": [],
   "source": [
    "fscores = booster.get_fscore()\n",
    "feature_importance = pd.DataFrame(columns=['feature', 'score'])\n",
    "for feature in fscores:\n",
    "    index = int(feature[1:])\n",
    "    feature_importance = feature_importance.append({\n",
    "        'feature': X_train.columns.tolist()[index],\n",
    "        'score': fscores[feature]\n",
    "    }, ignore_index=True)\n",
    "    \n",
    "feature_importance = feature_importance.sort_values(by='score', ascending=False)"
   ]
  },
  {
   "cell_type": "code",
   "execution_count": 26,
   "metadata": {},
   "outputs": [
    {
     "data": {
      "image/png": "[encoded data removed]",
      "text/plain": [
       "<Figure size 1080x432 with 1 Axes>"
      ]
     },
     "metadata": {},
     "output_type": "display_data"
    }
   ],
   "source": [
    "fig = plt.figure(figsize=(15,6))\n",
    "chart = sns.barplot(x='feature', y='score', data=feature_importance)\n",
    "chart.set_xticklabels(chart.get_xticklabels(), rotation=45, horizontalalignment='right');\n",
    "chart.set_title('NASA Turbofan Engine Faults - XGBoost Feature Importance');"
   ]
  },
  {
   "cell_type": "code",
   "execution_count": 34,
   "metadata": {},
   "outputs": [
    {
     "name": "stdout",
     "output_type": "stream",
     "text": [
      "Stored 'X_train' (DataFrame)\n",
      "Stored 'xgb_last_training_job' (str)\n"
     ]
    }
   ],
   "source": [
    "xgb_last_training_job = xgb_estimator.latest_training_job.name\n",
    "%store X_train\n",
    "%store xgb_last_training_job"
   ]
  }
 ],
 "metadata": {
  "kernelspec": {
   "display_name": "conda_python3",
   "language": "python",
   "name": "conda_python3"
  },
  "language_info": {
   "codemirror_mode": {
    "name": "ipython",
    "version": 3
   },
   "file_extension": ".py",
   "mimetype": "text/x-python",
   "name": "python",
   "nbconvert_exporter": "python",
   "pygments_lexer": "ipython3",
   "version": "3.6.5"
  }
 },
 "nbformat": 4,
 "nbformat_minor": 4
}
