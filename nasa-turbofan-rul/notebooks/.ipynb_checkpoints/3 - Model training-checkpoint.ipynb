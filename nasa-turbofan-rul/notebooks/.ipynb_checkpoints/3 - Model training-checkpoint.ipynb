{
 "cells": [
  {
   "cell_type": "markdown",
   "metadata": {},
   "source": [
    "# Predictive Maintenance using Machine Learning on Sagemaker\n",
    "*Part 3 - Model training*"
   ]
  },
  {
   "cell_type": "markdown",
   "metadata": {},
   "source": [
    "## Initialization\n",
    "---\n",
    "Directory structure to run this notebook:\n",
    "```\n",
    "sagemaker-predictive-maintenance\n",
    "|\n",
    "+--- data\n",
    "|   |\n",
    "|   +--- interim: intermediate data we can manipulate and process\n",
    "|   |\n",
    "|   \\--- raw: *immutable* data downloaded from the source website\n",
    "|\n",
    "+--- notebooks: all the notebooks are positionned here\n",
    "```\n",
    "\n",
    "### Loading data from the previous notebook"
   ]
  },
  {
   "cell_type": "code",
   "execution_count": 2,
   "metadata": {},
   "outputs": [],
   "source": [
    "%store -r"
   ]
  },
  {
   "cell_type": "markdown",
   "metadata": {},
   "source": [
    "### Notebook instance update"
   ]
  },
  {
   "cell_type": "markdown",
   "metadata": {},
   "source": [
    "Updating `seaborn` and `pandas` to last version:"
   ]
  },
  {
   "cell_type": "code",
   "execution_count": 3,
   "metadata": {},
   "outputs": [
    {
     "name": "stdout",
     "output_type": "stream",
     "text": [
      "Latest version for seaborn found, no upgrade needed.\n",
      "Latest version for pandas found, no upgrade needed.\n"
     ]
    }
   ],
   "source": [
    "import seaborn as sns\n",
    "sns_version = sns.__version__\n",
    "if (sns_version != '0.10.0'):\n",
    "    !pip install seaborn==0.10.0\n",
    "    print('*** New version of seaborn installed, kernel restart might be needed. ***')\n",
    "else:\n",
    "    print('Latest version for seaborn found, no upgrade needed.')\n",
    "\n",
    "import pandas as pd\n",
    "pd_version = pd.__version__\n",
    "if (pd_version != '1.0.3'):\n",
    "    !pip install pandas==1.0.3\n",
    "    print('*** New version of pandas installed, kernel restart might be needed. ***')\n",
    "else:\n",
    "    print('Latest version for pandas found, no upgrade needed.')"
   ]
  },
  {
   "cell_type": "code",
   "execution_count": 13,
   "metadata": {},
   "outputs": [],
   "source": [
    "#import os\n",
    "import numpy as np\n",
    "import matplotlib.pyplot as plt\n",
    "#import pickle as pkl\n",
    "import sagemaker\n",
    "import boto3\n",
    "\n",
    "#from sagemaker.predictor import csv_serializer, csv_deserializer\n",
    "#from sagemaker.analytics import TrainingJobAnalytics\n",
    "from sagemaker.amazon.amazon_estimator import get_image_uri\n",
    "\n",
    "#from datetime import datetime\n",
    "from sklearn.externals import joblib\n",
    "from sklearn.model_selection import train_test_split\n",
    "from sklearn.preprocessing import MinMaxScaler\n",
    "\n",
    "sns.set_style('darkgrid')"
   ]
  },
  {
   "cell_type": "markdown",
   "metadata": {},
   "source": [
    "### Set general information about this SageMaker session"
   ]
  },
  {
   "cell_type": "code",
   "execution_count": 5,
   "metadata": {},
   "outputs": [],
   "source": [
    "role = sagemaker.get_execution_role()\n",
    "session = sagemaker.Session()\n",
    "bucket_name = session.default_bucket()\n",
    "region = boto3.Session().region_name\n",
    "prefix = 'nasa_engine_data'"
   ]
  },
  {
   "cell_type": "markdown",
   "metadata": {},
   "source": [
    "### Set random seed\n",
    "This will fix the random behavior of all this notebook to ease reproducibility. **Remove this in a production setting.**"
   ]
  },
  {
   "cell_type": "code",
   "execution_count": 6,
   "metadata": {},
   "outputs": [],
   "source": [
    "import random\n",
    "random.seed(42)"
   ]
  },
  {
   "cell_type": "markdown",
   "metadata": {},
   "source": [
    "## Preparing training and validation data\n",
    "---\n",
    "As a first step, **we will consider each measurement as an independant event**, irregardless of the unit on which the measure took place. We will not consider this as a timeseries analysis and the question we want to answer to is the following:\n",
    "\n",
    "> Given a set of sensor measurements and operation settings, how many cycles does the engine has left (estimating the `rul` column)?\n",
    "\n",
    "Obviously, this is a big approximation as engine wear down is progressive and each timestep depends from the past behavior measured. We will explore this in a subsequent notebook dedicated to timeseries analysis with services like SageMaker DeepAR built-in algorithm or Amazon Forecast."
   ]
  },
  {
   "cell_type": "markdown",
   "metadata": {},
   "source": [
    "### Splitting data"
   ]
  },
  {
   "cell_type": "code",
   "execution_count": 9,
   "metadata": {},
   "outputs": [],
   "source": [
    "# Extract the features (and convert them to float64 to prevent \n",
    "# warning from the scalign step later on) and the target dataframes:\n",
    "X = data.loc[:, 'operational_setting_1':'sensor_measurement_21'].astype(np.float64)\n",
    "y = data.loc[:, 'rul']\n",
    "\n",
    "# Splitting training and validation data:\n",
    "X_train, X_val, y_train, y_val = train_test_split(X, y, test_size=0.20)"
   ]
  },
  {
   "cell_type": "markdown",
   "metadata": {},
   "source": [
    "### Normalizing data\n",
    "Normalizing the features as they have wildly different ranges. We only need to scale the features as the target can only take two values (0 or 1):"
   ]
  },
  {
   "cell_type": "code",
   "execution_count": 10,
   "metadata": {},
   "outputs": [
    {
     "data": {
      "text/plain": [
       "'s3://sagemaker-eu-west-1-123031033346/nasa_engine_data/preprocessing/MinMaxScaler.joblib'"
      ]
     },
     "execution_count": 10,
     "metadata": {},
     "output_type": "execute_result"
    }
   ],
   "source": [
    "# We build a scaler from the training dataset and apply the same \n",
    "# scaler to the validation one. Pay attention that scaling will \n",
    "# yield numpy arrays and not Pandas dataframes:\n",
    "scaler = MinMaxScaler()\n",
    "X_train_scaled = pd.DataFrame(scaler.fit_transform(X_train))\n",
    "X_val_scaled = pd.DataFrame(scaler.fit_transform(X_val))\n",
    "y_train = pd.DataFrame(y_train).reset_index(drop=True)\n",
    "y_val = pd.DataFrame(y_val).reset_index(drop=True)\n",
    "\n",
    "# This exact same scaler will have to be used again on the testing \n",
    "# data before feeding them to the model. Let's persist it on S3:\n",
    "joblib.dump(scaler, 'MinMaxScaler.joblib')\n",
    "session.upload_data(path='MinMaxScaler.joblib', bucket=bucket_name, key_prefix='{}/preprocessing'.format(prefix))"
   ]
  },
  {
   "cell_type": "markdown",
   "metadata": {},
   "source": [
    "### Uploading to S3"
   ]
  },
  {
   "cell_type": "markdown",
   "metadata": {},
   "source": [
    "The XGBoost algorithm we want to use needs a dataset with the **target values in the first column** and the features in the remaining ones. Moreover, we want to **remove any header or index** from the dataframe. Let's assemble our training and validation datasets like this before uploading them to S3:"
   ]
  },
  {
   "cell_type": "code",
   "execution_count": 11,
   "metadata": {},
   "outputs": [],
   "source": [
    "pd.concat([y_train, X_train_scaled], axis='columns').to_csv('training.csv', header=False, index=False)\n",
    "pd.concat([y_val, X_val_scaled], axis='columns').to_csv('validation.csv', header=False, index=False)\n",
    "session.upload_data(path='training.csv', bucket=bucket_name, key_prefix='{}/input'.format(prefix));\n",
    "session.upload_data(path='validation.csv', bucket=bucket_name, key_prefix='{}/input'.format(prefix));"
   ]
  },
  {
   "cell_type": "markdown",
   "metadata": {},
   "source": [
    "## Model training\n",
    "---\n",
    "Encapsulating inputs in S3 object to ensure content type (text/csv in this case) is correctly identified by the algorithm:"
   ]
  },
  {
   "cell_type": "code",
   "execution_count": 12,
   "metadata": {},
   "outputs": [],
   "source": [
    "s3_input_train = sagemaker.s3_input(s3_data='s3://{}/{}/input/training.csv'.format(bucket_name, prefix), content_type='text/csv')\n",
    "s3_input_validation = sagemaker.s3_input(s3_data='s3://{}/{}/input/validation.csv'.format(bucket_name, prefix), content_type='text/csv')"
   ]
  },
  {
   "cell_type": "markdown",
   "metadata": {},
   "source": [
    "Build an `Estimator` object that will be used to train the model afterward:"
   ]
  },
  {
   "cell_type": "code",
   "execution_count": 14,
   "metadata": {},
   "outputs": [],
   "source": [
    "# Fetch the training container for SageMaker built-in XGBoost algorithm:\n",
    "xgb_container = get_image_uri(region, 'xgboost', '0.90-1')\n",
    "\n",
    "# Build a training job name:\n",
    "training_job_name = 'xgboost-model-v1-small-instance'\n",
    "\n",
    "# Build the estimator object:\n",
    "model_artifacts_path = 's3://{}/{}/output'.format(bucket_name, prefix)\n",
    "xgb_estimator = sagemaker.estimator.Estimator(\n",
    "    image_name=xgb_container,\n",
    "    role=role,\n",
    "    train_instance_count=1,\n",
    "    train_instance_type='ml.m5.large',\n",
    "    output_path=model_artifacts_path,\n",
    "    sagemaker_session=session,\n",
    "    base_job_name=training_job_name\n",
    ")\n",
    "\n",
    "# Link hyperparameters to this estimator:\n",
    "xgb_estimator.set_hyperparameters(\n",
    "    max_depth=6,\n",
    "    eta=0.2,\n",
    "    gamma=5,\n",
    "    min_child_weight=6,\n",
    "    subsample=0.9,\n",
    "    silent=0,\n",
    "    objective='reg:squarederror',\n",
    "    num_round=40\n",
    ")"
   ]
  },
  {
   "cell_type": "markdown",
   "metadata": {},
   "source": [
    "Launch training:"
   ]
  },
  {
   "cell_type": "code",
   "execution_count": null,
   "metadata": {
    "scrolled": true
   },
   "outputs": [
    {
     "name": "stdout",
     "output_type": "stream",
     "text": [
      "2020-05-11 12:00:59 Starting - Starting the training job...\n",
      "2020-05-11 12:01:01 Starting - Launching requested ML instances...\n",
      "2020-05-11 12:01:59 Starting - Preparing the instances for training......\n",
      "2020-05-11 12:02:44 Downloading - Downloading input data..."
     ]
    }
   ],
   "source": [
    "xgb_estimator.fit({'train': s3_input_train, 'validation': s3_input_validation})"
   ]
  },
  {
   "cell_type": "markdown",
   "metadata": {},
   "source": [
    "### Plot training metrics\n",
    "The metrics are stored in the Amazon Cloudwatch Logs service."
   ]
  },
  {
   "cell_type": "code",
   "execution_count": null,
   "metadata": {},
   "outputs": [],
   "source": [
    "# Gets a Cloudwatch logs client:\n",
    "cwlogs_client = boto3.client('logs')\n",
    "\n",
    "# Each training has its log stored in a given log stream under the TrainingJobs logs group:\n",
    "response = cwlogs_client.describe_log_streams(\n",
    "    logGroupName='/aws/sagemaker/TrainingJobs',\n",
    "    logStreamNamePrefix=training_job_name,\n",
    ")\n",
    "training_log_stream_name = response['logStreams'][0]['logStreamName']\n",
    "\n",
    "# We can then get the events from this particular log stream:\n",
    "response = cwlogs_client.get_log_events(\n",
    "    logGroupName='/aws/sagemaker/TrainingJobs',\n",
    "    logStreamName=training_log_stream_name,\n",
    "    startFromHead=True\n",
    ")\n",
    "\n",
    "# Process the event logs to get the detailed train and validation metrics:\n",
    "metrics_df = pd.DataFrame(columns=['train:rmse', 'validation:rmse'])\n",
    "for event in response['events']:\n",
    "    message = event['message'].split('#')\n",
    "    if (len(message) > 1):\n",
    "        train_rmse = float(message[1][14:])\n",
    "        validation_rmse = float(message[2][19:])\n",
    "        timestamp = datetime.fromtimestamp(float(event['timestamp'])/1000)\n",
    "        \n",
    "        metrics_df = metrics_df.append({'train:rmse': train_rmse, 'validation:rmse': validation_rmse}, ignore_index=True)\n",
    "\n",
    "metrics_df.head()"
   ]
  },
  {
   "cell_type": "code",
   "execution_count": null,
   "metadata": {},
   "outputs": [],
   "source": [
    "fig = plt.figure(figsize=(18,4))\n",
    "chart = sns.lineplot(data=metrics_df)\n",
    "chart.set_ylabel('Training metrics');\n",
    "chart.set_xlabel('Rounds');"
   ]
  },
  {
   "cell_type": "markdown",
   "metadata": {},
   "source": [
    "### Feature importance\n",
    "To get the feature importance, we need to download first the model artifacts stored during the training on S3:"
   ]
  },
  {
   "cell_type": "code",
   "execution_count": null,
   "metadata": {},
   "outputs": [],
   "source": [
    "model_artifacts_key = 'nasa_engine_data/output/{}/output/model.tar.gz'.format(xgb_estimator._current_job_name)\n",
    "print('Downloading model artifacts from s3://{}/{}'.format(bucket_name, model_artifacts_key))\n",
    "s3_client = boto3.Session().resource('s3')\n",
    "s3_client.Bucket(bucket_name).download_file(model_artifacts_key, 'model.tar.gz')\n",
    "!tar -xzf model.tar.gz"
   ]
  },
  {
   "cell_type": "markdown",
   "metadata": {},
   "source": [
    "XGBoost is installed in the training container we used previously. It is not installed by default on the notebook instance. Installing the open source XGBoost module (with the same version as the latest built-in SageMaker one):"
   ]
  },
  {
   "cell_type": "code",
   "execution_count": null,
   "metadata": {},
   "outputs": [],
   "source": [
    "!pip install xgboost==0.90"
   ]
  },
  {
   "cell_type": "markdown",
   "metadata": {},
   "source": [
    "Load the model into a booster object:"
   ]
  },
  {
   "cell_type": "code",
   "execution_count": null,
   "metadata": {},
   "outputs": [],
   "source": [
    "booster = pkl.load(open('xgboost-model', 'rb'))"
   ]
  },
  {
   "cell_type": "markdown",
   "metadata": {},
   "source": [
    "Get feature importance from the XGBoost model:"
   ]
  },
  {
   "cell_type": "code",
   "execution_count": null,
   "metadata": {},
   "outputs": [],
   "source": [
    "fscores = booster.get_fscore()\n",
    "feature_importance = pd.DataFrame(columns=['feature', 'score'])\n",
    "for feature in fscores:\n",
    "    index = int(feature[1:])\n",
    "    feature_importance = feature_importance.append({\n",
    "        'feature': X_train.columns.tolist()[index],\n",
    "        'score': fscores[feature]\n",
    "    }, ignore_index=True)\n",
    "    \n",
    "feature_importance = feature_importance.sort_values(by='score', ascending=False)"
   ]
  },
  {
   "cell_type": "code",
   "execution_count": null,
   "metadata": {},
   "outputs": [],
   "source": [
    "fig = plt.figure(figsize=(15,6))\n",
    "chart = sns.barplot(x='feature', y='score', data=feature_importance)\n",
    "chart.set_xticklabels(chart.get_xticklabels(), rotation=45, horizontalalignment='right');\n",
    "chart.set_title('NASA Turbofan Engine Faults - XGBoost Feature Importance');"
   ]
  },
  {
   "cell_type": "markdown",
   "metadata": {},
   "source": [
    "## Model validation\n",
    "---\n",
    "### Preparing the testing data"
   ]
  },
  {
   "cell_type": "code",
   "execution_count": 24,
   "metadata": {},
   "outputs": [],
   "source": [
    "test_dataset_path = '../data/interim/test_FD001.txt'\n",
    "ground_truth_dataset_path = '../data/interim/RUL_FD001.txt'"
   ]
  },
  {
   "cell_type": "code",
   "execution_count": 25,
   "metadata": {},
   "outputs": [
    {
     "name": "stdout",
     "output_type": "stream",
     "text": [
      "(100, 1)\n"
     ]
    },
    {
     "data": {
      "text/html": [
       "<div>\n",
       "<style scoped>\n",
       "    .dataframe tbody tr th:only-of-type {\n",
       "        vertical-align: middle;\n",
       "    }\n",
       "\n",
       "    .dataframe tbody tr th {\n",
       "        vertical-align: top;\n",
       "    }\n",
       "\n",
       "    .dataframe thead th {\n",
       "        text-align: right;\n",
       "    }\n",
       "</style>\n",
       "<table border=\"1\" class=\"dataframe\">\n",
       "  <thead>\n",
       "    <tr style=\"text-align: right;\">\n",
       "      <th></th>\n",
       "      <th>rul</th>\n",
       "    </tr>\n",
       "  </thead>\n",
       "  <tbody>\n",
       "    <tr>\n",
       "      <th>0</th>\n",
       "      <td>112</td>\n",
       "    </tr>\n",
       "    <tr>\n",
       "      <th>1</th>\n",
       "      <td>98</td>\n",
       "    </tr>\n",
       "    <tr>\n",
       "      <th>2</th>\n",
       "      <td>69</td>\n",
       "    </tr>\n",
       "    <tr>\n",
       "      <th>3</th>\n",
       "      <td>82</td>\n",
       "    </tr>\n",
       "    <tr>\n",
       "      <th>4</th>\n",
       "      <td>91</td>\n",
       "    </tr>\n",
       "  </tbody>\n",
       "</table>\n",
       "</div>"
      ],
      "text/plain": [
       "   rul\n",
       "0  112\n",
       "1   98\n",
       "2   69\n",
       "3   82\n",
       "4   91"
      ]
     },
     "execution_count": 25,
     "metadata": {},
     "output_type": "execute_result"
    }
   ],
   "source": [
    "rul_data = pd.read_csv(ground_truth_dataset_path, header=None, sep=' ')\n",
    "rul_data.dropna(axis='columns', how='all', inplace=True)\n",
    "rul_data.columns = ['rul']\n",
    "print(rul_data.shape)\n",
    "rul_data.head()"
   ]
  },
  {
   "cell_type": "code",
   "execution_count": 28,
   "metadata": {},
   "outputs": [],
   "source": [
    "test_data = pd.read_csv(test_dataset_path, header=None, sep=' ')\n",
    "test_data.dropna(axis='columns', how='all', inplace=True)\n",
    "test_data.columns = columns"
   ]
  },
  {
   "cell_type": "code",
   "execution_count": 29,
   "metadata": {},
   "outputs": [
    {
     "data": {
      "text/html": [
       "<div>\n",
       "<style scoped>\n",
       "    .dataframe tbody tr th:only-of-type {\n",
       "        vertical-align: middle;\n",
       "    }\n",
       "\n",
       "    .dataframe tbody tr th {\n",
       "        vertical-align: top;\n",
       "    }\n",
       "\n",
       "    .dataframe thead th {\n",
       "        text-align: right;\n",
       "    }\n",
       "</style>\n",
       "<table border=\"1\" class=\"dataframe\">\n",
       "  <thead>\n",
       "    <tr style=\"text-align: right;\">\n",
       "      <th></th>\n",
       "      <th>unit_number</th>\n",
       "      <th>time</th>\n",
       "      <th>operational_setting_1</th>\n",
       "      <th>operational_setting_2</th>\n",
       "      <th>operational_setting_3</th>\n",
       "      <th>sensor_measurement_1</th>\n",
       "      <th>sensor_measurement_2</th>\n",
       "      <th>sensor_measurement_3</th>\n",
       "      <th>sensor_measurement_4</th>\n",
       "      <th>sensor_measurement_5</th>\n",
       "      <th>...</th>\n",
       "      <th>sensor_measurement_13</th>\n",
       "      <th>sensor_measurement_14</th>\n",
       "      <th>sensor_measurement_15</th>\n",
       "      <th>sensor_measurement_16</th>\n",
       "      <th>sensor_measurement_17</th>\n",
       "      <th>sensor_measurement_18</th>\n",
       "      <th>sensor_measurement_19</th>\n",
       "      <th>sensor_measurement_20</th>\n",
       "      <th>sensor_measurement_21</th>\n",
       "      <th>rul</th>\n",
       "    </tr>\n",
       "  </thead>\n",
       "  <tbody>\n",
       "    <tr>\n",
       "      <th>0</th>\n",
       "      <td>1</td>\n",
       "      <td>1</td>\n",
       "      <td>0.0023</td>\n",
       "      <td>0.0003</td>\n",
       "      <td>100.0</td>\n",
       "      <td>518.67</td>\n",
       "      <td>643.02</td>\n",
       "      <td>1585.29</td>\n",
       "      <td>1398.21</td>\n",
       "      <td>14.62</td>\n",
       "      <td>...</td>\n",
       "      <td>2388.03</td>\n",
       "      <td>8125.55</td>\n",
       "      <td>8.4052</td>\n",
       "      <td>0.03</td>\n",
       "      <td>392</td>\n",
       "      <td>2388</td>\n",
       "      <td>100.0</td>\n",
       "      <td>38.86</td>\n",
       "      <td>23.3735</td>\n",
       "      <td>142</td>\n",
       "    </tr>\n",
       "    <tr>\n",
       "      <th>1</th>\n",
       "      <td>1</td>\n",
       "      <td>2</td>\n",
       "      <td>-0.0027</td>\n",
       "      <td>-0.0003</td>\n",
       "      <td>100.0</td>\n",
       "      <td>518.67</td>\n",
       "      <td>641.71</td>\n",
       "      <td>1588.45</td>\n",
       "      <td>1395.42</td>\n",
       "      <td>14.62</td>\n",
       "      <td>...</td>\n",
       "      <td>2388.06</td>\n",
       "      <td>8139.62</td>\n",
       "      <td>8.3803</td>\n",
       "      <td>0.03</td>\n",
       "      <td>393</td>\n",
       "      <td>2388</td>\n",
       "      <td>100.0</td>\n",
       "      <td>39.02</td>\n",
       "      <td>23.3916</td>\n",
       "      <td>141</td>\n",
       "    </tr>\n",
       "    <tr>\n",
       "      <th>2</th>\n",
       "      <td>1</td>\n",
       "      <td>3</td>\n",
       "      <td>0.0003</td>\n",
       "      <td>0.0001</td>\n",
       "      <td>100.0</td>\n",
       "      <td>518.67</td>\n",
       "      <td>642.46</td>\n",
       "      <td>1586.94</td>\n",
       "      <td>1401.34</td>\n",
       "      <td>14.62</td>\n",
       "      <td>...</td>\n",
       "      <td>2388.03</td>\n",
       "      <td>8130.10</td>\n",
       "      <td>8.4441</td>\n",
       "      <td>0.03</td>\n",
       "      <td>393</td>\n",
       "      <td>2388</td>\n",
       "      <td>100.0</td>\n",
       "      <td>39.08</td>\n",
       "      <td>23.4166</td>\n",
       "      <td>140</td>\n",
       "    </tr>\n",
       "    <tr>\n",
       "      <th>3</th>\n",
       "      <td>1</td>\n",
       "      <td>4</td>\n",
       "      <td>0.0042</td>\n",
       "      <td>0.0000</td>\n",
       "      <td>100.0</td>\n",
       "      <td>518.67</td>\n",
       "      <td>642.44</td>\n",
       "      <td>1584.12</td>\n",
       "      <td>1406.42</td>\n",
       "      <td>14.62</td>\n",
       "      <td>...</td>\n",
       "      <td>2388.05</td>\n",
       "      <td>8132.90</td>\n",
       "      <td>8.3917</td>\n",
       "      <td>0.03</td>\n",
       "      <td>391</td>\n",
       "      <td>2388</td>\n",
       "      <td>100.0</td>\n",
       "      <td>39.00</td>\n",
       "      <td>23.3737</td>\n",
       "      <td>139</td>\n",
       "    </tr>\n",
       "    <tr>\n",
       "      <th>4</th>\n",
       "      <td>1</td>\n",
       "      <td>5</td>\n",
       "      <td>0.0014</td>\n",
       "      <td>0.0000</td>\n",
       "      <td>100.0</td>\n",
       "      <td>518.67</td>\n",
       "      <td>642.51</td>\n",
       "      <td>1587.19</td>\n",
       "      <td>1401.92</td>\n",
       "      <td>14.62</td>\n",
       "      <td>...</td>\n",
       "      <td>2388.03</td>\n",
       "      <td>8129.54</td>\n",
       "      <td>8.4031</td>\n",
       "      <td>0.03</td>\n",
       "      <td>390</td>\n",
       "      <td>2388</td>\n",
       "      <td>100.0</td>\n",
       "      <td>38.99</td>\n",
       "      <td>23.4130</td>\n",
       "      <td>138</td>\n",
       "    </tr>\n",
       "  </tbody>\n",
       "</table>\n",
       "<p>5 rows × 27 columns</p>\n",
       "</div>"
      ],
      "text/plain": [
       "   unit_number  time  operational_setting_1  operational_setting_2  \\\n",
       "0            1     1                 0.0023                 0.0003   \n",
       "1            1     2                -0.0027                -0.0003   \n",
       "2            1     3                 0.0003                 0.0001   \n",
       "3            1     4                 0.0042                 0.0000   \n",
       "4            1     5                 0.0014                 0.0000   \n",
       "\n",
       "   operational_setting_3  sensor_measurement_1  sensor_measurement_2  \\\n",
       "0                  100.0                518.67                643.02   \n",
       "1                  100.0                518.67                641.71   \n",
       "2                  100.0                518.67                642.46   \n",
       "3                  100.0                518.67                642.44   \n",
       "4                  100.0                518.67                642.51   \n",
       "\n",
       "   sensor_measurement_3  sensor_measurement_4  sensor_measurement_5  ...  \\\n",
       "0               1585.29               1398.21                 14.62  ...   \n",
       "1               1588.45               1395.42                 14.62  ...   \n",
       "2               1586.94               1401.34                 14.62  ...   \n",
       "3               1584.12               1406.42                 14.62  ...   \n",
       "4               1587.19               1401.92                 14.62  ...   \n",
       "\n",
       "   sensor_measurement_13  sensor_measurement_14  sensor_measurement_15  \\\n",
       "0                2388.03                8125.55                 8.4052   \n",
       "1                2388.06                8139.62                 8.3803   \n",
       "2                2388.03                8130.10                 8.4441   \n",
       "3                2388.05                8132.90                 8.3917   \n",
       "4                2388.03                8129.54                 8.4031   \n",
       "\n",
       "   sensor_measurement_16  sensor_measurement_17  sensor_measurement_18  \\\n",
       "0                   0.03                    392                   2388   \n",
       "1                   0.03                    393                   2388   \n",
       "2                   0.03                    393                   2388   \n",
       "3                   0.03                    391                   2388   \n",
       "4                   0.03                    390                   2388   \n",
       "\n",
       "   sensor_measurement_19  sensor_measurement_20  sensor_measurement_21  rul  \n",
       "0                  100.0                  38.86                23.3735  142  \n",
       "1                  100.0                  39.02                23.3916  141  \n",
       "2                  100.0                  39.08                23.4166  140  \n",
       "3                  100.0                  39.00                23.3737  139  \n",
       "4                  100.0                  38.99                23.4130  138  \n",
       "\n",
       "[5 rows x 27 columns]"
      ]
     },
     "execution_count": 29,
     "metadata": {},
     "output_type": "execute_result"
    }
   ],
   "source": [
    "# Add a RUL column and group the data by unit_number:\n",
    "test_data['rul'] = 0\n",
    "grouped_data = test_data.groupby(by='unit_number')\n",
    "\n",
    "# Loops through each unit number to get the lifecycle counts:\n",
    "for unit, rul in enumerate(grouped_data.count()['time']):\n",
    "    current_df = test_data[test_data['unit_number'] == (unit+1)].copy()\n",
    "    current_df['rul'] = rul - current_df['time'] + rul_data.loc[unit, 'rul']\n",
    "    test_data[test_data['unit_number'] == (unit+1)] = current_df\n",
    "    \n",
    "tmp = test_data[X_train.columns]\n",
    "test_data.head(5)"
   ]
  },
  {
   "cell_type": "code",
   "execution_count": 31,
   "metadata": {},
   "outputs": [
    {
     "data": {
      "text/html": [
       "<div>\n",
       "<style scoped>\n",
       "    .dataframe tbody tr th:only-of-type {\n",
       "        vertical-align: middle;\n",
       "    }\n",
       "\n",
       "    .dataframe tbody tr th {\n",
       "        vertical-align: top;\n",
       "    }\n",
       "\n",
       "    .dataframe thead th {\n",
       "        text-align: right;\n",
       "    }\n",
       "</style>\n",
       "<table border=\"1\" class=\"dataframe\">\n",
       "  <thead>\n",
       "    <tr style=\"text-align: right;\">\n",
       "      <th></th>\n",
       "      <th>unit_number</th>\n",
       "      <th>time</th>\n",
       "      <th>rul</th>\n",
       "      <th>operational_setting_1</th>\n",
       "      <th>operational_setting_2</th>\n",
       "      <th>sensor_measurement_2</th>\n",
       "      <th>sensor_measurement_3</th>\n",
       "      <th>sensor_measurement_4</th>\n",
       "      <th>sensor_measurement_6</th>\n",
       "      <th>sensor_measurement_7</th>\n",
       "      <th>sensor_measurement_8</th>\n",
       "      <th>sensor_measurement_9</th>\n",
       "      <th>sensor_measurement_11</th>\n",
       "      <th>sensor_measurement_12</th>\n",
       "      <th>sensor_measurement_13</th>\n",
       "      <th>sensor_measurement_14</th>\n",
       "      <th>sensor_measurement_15</th>\n",
       "      <th>sensor_measurement_17</th>\n",
       "      <th>sensor_measurement_20</th>\n",
       "      <th>sensor_measurement_21</th>\n",
       "    </tr>\n",
       "  </thead>\n",
       "  <tbody>\n",
       "    <tr>\n",
       "      <th>0</th>\n",
       "      <td>1</td>\n",
       "      <td>1</td>\n",
       "      <td>142</td>\n",
       "      <td>0.677215</td>\n",
       "      <td>0.750000</td>\n",
       "      <td>0.545181</td>\n",
       "      <td>0.313711</td>\n",
       "      <td>0.286381</td>\n",
       "      <td>1.0</td>\n",
       "      <td>0.644283</td>\n",
       "      <td>0.266667</td>\n",
       "      <td>0.136065</td>\n",
       "      <td>0.224359</td>\n",
       "      <td>0.646055</td>\n",
       "      <td>0.297872</td>\n",
       "      <td>0.147855</td>\n",
       "      <td>0.298307</td>\n",
       "      <td>0.4</td>\n",
       "      <td>0.577982</td>\n",
       "      <td>0.661834</td>\n",
       "    </tr>\n",
       "    <tr>\n",
       "      <th>1</th>\n",
       "      <td>1</td>\n",
       "      <td>2</td>\n",
       "      <td>141</td>\n",
       "      <td>0.360759</td>\n",
       "      <td>0.250000</td>\n",
       "      <td>0.150602</td>\n",
       "      <td>0.390262</td>\n",
       "      <td>0.236318</td>\n",
       "      <td>1.0</td>\n",
       "      <td>0.816697</td>\n",
       "      <td>0.200000</td>\n",
       "      <td>0.158392</td>\n",
       "      <td>0.416667</td>\n",
       "      <td>0.739872</td>\n",
       "      <td>0.361702</td>\n",
       "      <td>0.229086</td>\n",
       "      <td>0.190187</td>\n",
       "      <td>0.5</td>\n",
       "      <td>0.724771</td>\n",
       "      <td>0.686827</td>\n",
       "    </tr>\n",
       "    <tr>\n",
       "      <th>2</th>\n",
       "      <td>1</td>\n",
       "      <td>3</td>\n",
       "      <td>140</td>\n",
       "      <td>0.550633</td>\n",
       "      <td>0.583333</td>\n",
       "      <td>0.376506</td>\n",
       "      <td>0.353682</td>\n",
       "      <td>0.342544</td>\n",
       "      <td>1.0</td>\n",
       "      <td>0.682396</td>\n",
       "      <td>0.288889</td>\n",
       "      <td>0.171736</td>\n",
       "      <td>0.416667</td>\n",
       "      <td>0.699360</td>\n",
       "      <td>0.297872</td>\n",
       "      <td>0.174124</td>\n",
       "      <td>0.467217</td>\n",
       "      <td>0.5</td>\n",
       "      <td>0.779817</td>\n",
       "      <td>0.721348</td>\n",
       "    </tr>\n",
       "    <tr>\n",
       "      <th>3</th>\n",
       "      <td>1</td>\n",
       "      <td>4</td>\n",
       "      <td>139</td>\n",
       "      <td>0.797468</td>\n",
       "      <td>0.500000</td>\n",
       "      <td>0.370482</td>\n",
       "      <td>0.285368</td>\n",
       "      <td>0.433698</td>\n",
       "      <td>1.0</td>\n",
       "      <td>0.675136</td>\n",
       "      <td>0.244444</td>\n",
       "      <td>0.110428</td>\n",
       "      <td>0.275641</td>\n",
       "      <td>0.573561</td>\n",
       "      <td>0.340426</td>\n",
       "      <td>0.190289</td>\n",
       "      <td>0.239687</td>\n",
       "      <td>0.3</td>\n",
       "      <td>0.706422</td>\n",
       "      <td>0.662110</td>\n",
       "    </tr>\n",
       "    <tr>\n",
       "      <th>4</th>\n",
       "      <td>1</td>\n",
       "      <td>5</td>\n",
       "      <td>138</td>\n",
       "      <td>0.620253</td>\n",
       "      <td>0.500000</td>\n",
       "      <td>0.391566</td>\n",
       "      <td>0.359738</td>\n",
       "      <td>0.352952</td>\n",
       "      <td>1.0</td>\n",
       "      <td>0.691470</td>\n",
       "      <td>0.200000</td>\n",
       "      <td>0.106541</td>\n",
       "      <td>0.294872</td>\n",
       "      <td>0.737740</td>\n",
       "      <td>0.297872</td>\n",
       "      <td>0.170891</td>\n",
       "      <td>0.289188</td>\n",
       "      <td>0.2</td>\n",
       "      <td>0.697248</td>\n",
       "      <td>0.716377</td>\n",
       "    </tr>\n",
       "  </tbody>\n",
       "</table>\n",
       "</div>"
      ],
      "text/plain": [
       "   unit_number  time  rul  operational_setting_1  operational_setting_2  \\\n",
       "0            1     1  142               0.677215               0.750000   \n",
       "1            1     2  141               0.360759               0.250000   \n",
       "2            1     3  140               0.550633               0.583333   \n",
       "3            1     4  139               0.797468               0.500000   \n",
       "4            1     5  138               0.620253               0.500000   \n",
       "\n",
       "   sensor_measurement_2  sensor_measurement_3  sensor_measurement_4  \\\n",
       "0              0.545181              0.313711              0.286381   \n",
       "1              0.150602              0.390262              0.236318   \n",
       "2              0.376506              0.353682              0.342544   \n",
       "3              0.370482              0.285368              0.433698   \n",
       "4              0.391566              0.359738              0.352952   \n",
       "\n",
       "   sensor_measurement_6  sensor_measurement_7  sensor_measurement_8  \\\n",
       "0                   1.0              0.644283              0.266667   \n",
       "1                   1.0              0.816697              0.200000   \n",
       "2                   1.0              0.682396              0.288889   \n",
       "3                   1.0              0.675136              0.244444   \n",
       "4                   1.0              0.691470              0.200000   \n",
       "\n",
       "   sensor_measurement_9  sensor_measurement_11  sensor_measurement_12  \\\n",
       "0              0.136065               0.224359               0.646055   \n",
       "1              0.158392               0.416667               0.739872   \n",
       "2              0.171736               0.416667               0.699360   \n",
       "3              0.110428               0.275641               0.573561   \n",
       "4              0.106541               0.294872               0.737740   \n",
       "\n",
       "   sensor_measurement_13  sensor_measurement_14  sensor_measurement_15  \\\n",
       "0               0.297872               0.147855               0.298307   \n",
       "1               0.361702               0.229086               0.190187   \n",
       "2               0.297872               0.174124               0.467217   \n",
       "3               0.340426               0.190289               0.239687   \n",
       "4               0.297872               0.170891               0.289188   \n",
       "\n",
       "   sensor_measurement_17  sensor_measurement_20  sensor_measurement_21  \n",
       "0                    0.4               0.577982               0.661834  \n",
       "1                    0.5               0.724771               0.686827  \n",
       "2                    0.5               0.779817               0.721348  \n",
       "3                    0.3               0.706422               0.662110  \n",
       "4                    0.2               0.697248               0.716377  "
      ]
     },
     "execution_count": 31,
     "metadata": {},
     "output_type": "execute_result"
    }
   ],
   "source": [
    "# Get the scaler previously persisted on S3 to transform the test data \n",
    "# using the same normalization method than for the training dataset:\n",
    "test_data_scaled = pd.DataFrame(scaler.transform(tmp))\n",
    "test_data_scaled.columns = X_train.columns\n",
    "test_data_scaled = pd.concat([test_data[['unit_number', 'time', 'rul']], test_data_scaled], axis='columns')\n",
    "test_data_scaled.head()"
   ]
  },
  {
   "cell_type": "markdown",
   "metadata": {},
   "source": [
    "### Deploying an endpoint for the trained model"
   ]
  },
  {
   "cell_type": "code",
   "execution_count": 32,
   "metadata": {},
   "outputs": [
    {
     "name": "stdout",
     "output_type": "stream",
     "text": [
      "The following endpoint will be created: xgboost-nasa-predictive-maintenance-v1-20200511-095539\n",
      "---------------!"
     ]
    }
   ],
   "source": [
    "endpoint_name = 'xgboost-nasa-predictive-maintenance-v1-{}'.format(datetime.now().strftime(\"%Y%m%d-%H%M%S\"))\n",
    "print('The following endpoint will be created:', endpoint_name)\n",
    "\n",
    "xgb_predictor = xgb_estimator.deploy(\n",
    "    initial_instance_count = 1, \n",
    "    instance_type = 'ml.t2.medium',\n",
    "    endpoint_name=endpoint_name\n",
    ")\n",
    "xgb_predictor.content_type = 'text/csv'\n",
    "xgb_predictor.serializer = csv_serializer\n",
    "xgb_predictor.deserializer = csv_deserializer"
   ]
  },
  {
   "cell_type": "markdown",
   "metadata": {},
   "source": [
    "### Get prediction for the test data"
   ]
  },
  {
   "cell_type": "code",
   "execution_count": 33,
   "metadata": {},
   "outputs": [
    {
     "data": {
      "text/html": [
       "<div>\n",
       "<style scoped>\n",
       "    .dataframe tbody tr th:only-of-type {\n",
       "        vertical-align: middle;\n",
       "    }\n",
       "\n",
       "    .dataframe tbody tr th {\n",
       "        vertical-align: top;\n",
       "    }\n",
       "\n",
       "    .dataframe thead th {\n",
       "        text-align: right;\n",
       "    }\n",
       "</style>\n",
       "<table border=\"1\" class=\"dataframe\">\n",
       "  <thead>\n",
       "    <tr style=\"text-align: right;\">\n",
       "      <th></th>\n",
       "      <th>real_rul</th>\n",
       "      <th>predicted_rul</th>\n",
       "    </tr>\n",
       "    <tr>\n",
       "      <th>unit_number</th>\n",
       "      <th></th>\n",
       "      <th></th>\n",
       "    </tr>\n",
       "  </thead>\n",
       "  <tbody>\n",
       "    <tr>\n",
       "      <th>1.0</th>\n",
       "      <td>112.0</td>\n",
       "      <td>160.877884</td>\n",
       "    </tr>\n",
       "    <tr>\n",
       "      <th>2.0</th>\n",
       "      <td>98.0</td>\n",
       "      <td>112.165833</td>\n",
       "    </tr>\n",
       "    <tr>\n",
       "      <th>3.0</th>\n",
       "      <td>69.0</td>\n",
       "      <td>41.955009</td>\n",
       "    </tr>\n",
       "    <tr>\n",
       "      <th>4.0</th>\n",
       "      <td>82.0</td>\n",
       "      <td>75.459587</td>\n",
       "    </tr>\n",
       "    <tr>\n",
       "      <th>5.0</th>\n",
       "      <td>91.0</td>\n",
       "      <td>116.342041</td>\n",
       "    </tr>\n",
       "  </tbody>\n",
       "</table>\n",
       "</div>"
      ],
      "text/plain": [
       "             real_rul  predicted_rul\n",
       "unit_number                         \n",
       "1.0             112.0     160.877884\n",
       "2.0              98.0     112.165833\n",
       "3.0              69.0      41.955009\n",
       "4.0              82.0      75.459587\n",
       "5.0              91.0     116.342041"
      ]
     },
     "execution_count": 33,
     "metadata": {},
     "output_type": "execute_result"
    }
   ],
   "source": [
    "df = pd.DataFrame(columns=['unit_number', 'real_rul', 'predicted_rul'])\n",
    "\n",
    "for i in range(0, 100):\n",
    "    row = test_data_scaled[test_data_scaled['unit_number'] == (i+1)].iloc[-1, :]\n",
    "    test_sample = ', '.join(row[X_train.columns].map(str).tolist())\n",
    "    prediction = xgb_predictor.predict(test_sample)\n",
    "    df = df.append({\n",
    "        'unit_number': (i+1),\n",
    "        'real_rul': row['rul'],\n",
    "        'predicted_rul': float(prediction[0][0])\n",
    "    }, ignore_index=True)\n",
    "    \n",
    "df = df.set_index('unit_number')\n",
    "df.head()"
   ]
  },
  {
   "cell_type": "code",
   "execution_count": 34,
   "metadata": {},
   "outputs": [
    {
     "data": {
      "text/plain": [
       "0.5224447908936467"
      ]
     },
     "execution_count": 34,
     "metadata": {},
     "output_type": "execute_result"
    }
   ],
   "source": [
    "from sklearn.metrics import r2_score\n",
    "\n",
    "r2_score(df['real_rul'], df['predicted_rul'])"
   ]
  },
  {
   "cell_type": "code",
   "execution_count": 35,
   "metadata": {},
   "outputs": [
    {
     "data": {
      "image/png": "[encoded data removed]",
      "text/plain": [
       "<Figure size 720x720 with 1 Axes>"
      ]
     },
     "metadata": {},
     "output_type": "display_data"
    }
   ],
   "source": [
    "figure=plt.figure(figsize=(10,10))\n",
    "chart = sns.scatterplot(x=df['real_rul'], y=df['predicted_rul'], s=100, alpha=0.6);\n",
    "chart.set_title('NASA Turbofan Engine Faults - Prediction vs. Real RUL');"
   ]
  },
  {
   "cell_type": "markdown",
   "metadata": {},
   "source": [
    "## Conclusion\n",
    "---"
   ]
  },
  {
   "cell_type": "markdown",
   "metadata": {},
   "source": [
    "Obviously, the model still needs vast improvement to be used in a predictive maintenance context. However, we can already see on the previous figure that we are capturing the right predicting behaviour."
   ]
  },
  {
   "cell_type": "markdown",
   "metadata": {},
   "source": [
    "### Cleanup"
   ]
  },
  {
   "cell_type": "code",
   "execution_count": 36,
   "metadata": {
    "jupyter": {
     "outputs_hidden": true
    }
   },
   "outputs": [],
   "source": [
    "client = boto3.client('sagemaker').delete_endpoint(EndpointName=endpoint_name)"
   ]
  },
  {
   "cell_type": "markdown",
   "metadata": {},
   "source": [
    "# TO DO\n",
    "* Use sagemaker preprocessing to put all the previous preprocessing steps into an reproducible pipeline"
   ]
  }
 ],
 "metadata": {
  "kernelspec": {
   "display_name": "conda_python3",
   "language": "python",
   "name": "conda_python3"
  },
  "language_info": {
   "codemirror_mode": {
    "name": "ipython",
    "version": 3
   },
   "file_extension": ".py",
   "mimetype": "text/x-python",
   "name": "python",
   "nbconvert_exporter": "python",
   "pygments_lexer": "ipython3",
   "version": "3.6.5"
  }
 },
 "nbformat": 4,
 "nbformat_minor": 4
}
