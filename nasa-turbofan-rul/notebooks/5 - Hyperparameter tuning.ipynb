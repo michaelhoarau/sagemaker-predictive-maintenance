{
 "cells": [
  {
   "cell_type": "markdown",
   "metadata": {},
   "source": [
    "# Predictive Maintenance using Machine Learning on Sagemaker\n",
    "*Part 4 - Hyperparameter tuning*"
   ]
  },
  {
   "cell_type": "markdown",
   "metadata": {},
   "source": [
    "## Initialization\n",
    "---\n",
    "Directory structure to run this notebook:\n",
    "```\n",
    "sagemaker-predictive-maintenance\n",
    "|\n",
    "+--- data\n",
    "|   |\n",
    "|   +--- interim: intermediate data we can manipulate and process\n",
    "|   |\n",
    "|   \\--- raw: *immutable* data downloaded from the source website\n",
    "|\n",
    "+--- notebooks: all the notebooks are positionned here\n",
    "```"
   ]
  },
  {
   "cell_type": "markdown",
   "metadata": {},
   "source": [
    "### Imports"
   ]
  },
  {
   "cell_type": "code",
   "execution_count": 3,
   "metadata": {},
   "outputs": [],
   "source": [
    "import matplotlib.pyplot as plt\n",
    "import time\n",
    "import sagemaker\n",
    "import boto3\n",
    "import seaborn as sns\n",
    "import pandas as pd\n",
    "\n",
    "from sagemaker.amazon.amazon_estimator import get_image_uri\n",
    "from sagemaker.predictor import RealTimePredictor, csv_serializer, csv_deserializer\n",
    "\n",
    "from datetime import datetime\n",
    "from sklearn.externals import joblib\n",
    "\n",
    "sns.set_style('darkgrid')"
   ]
  },
  {
   "cell_type": "code",
   "execution_count": 4,
   "metadata": {},
   "outputs": [
    {
     "name": "stdout",
     "output_type": "stream",
     "text": [
      "Collecting tabulate\n",
      "  Downloading https://files.pythonhosted.org/packages/c4/f4/770ae9385990f5a19a91431163d262182d3203662ea2b5739d0fcfc080f1/tabulate-0.8.7-py3-none-any.whl\n",
      "Installing collected packages: tabulate\n",
      "Successfully installed tabulate-0.8.7\n",
      "\u001b[33mYou are using pip version 10.0.1, however version 20.1 is available.\n",
      "You should consider upgrading via the 'pip install --upgrade pip' command.\u001b[0m\n"
     ]
    }
   ],
   "source": [
    "!pip install tabulate\n",
    "import tabulate"
   ]
  },
  {
   "cell_type": "markdown",
   "metadata": {},
   "source": [
    "### Loading data from the previous notebook"
   ]
  },
  {
   "cell_type": "code",
   "execution_count": 5,
   "metadata": {},
   "outputs": [
    {
     "name": "stdout",
     "output_type": "stream",
     "text": [
      "Loaded \"test_data_scaled\", \"reg_results_df\" and \"cls_results_df\"\n"
     ]
    }
   ],
   "source": [
    "%store -r\n",
    "\n",
    "# If the data are not present in the notebook local storage, we need to load them from disk:\n",
    "success_msg = 'Loaded \"test_data_scaled\", \"reg_results_df\" and \"cls_results_df\"'\n",
    "if 'test_data_scaled' not in locals():\n",
    "    try:\n",
    "        local_path = '../data/interim'\n",
    "        test_data_scaled = pd.read_csv(os.path.join(local_path, 'test_data_scaled.csv'))\n",
    "        reg_results_df = pd.read_csv(os.path.join(local_path, 'reg_results_df.csv'))\n",
    "        cls_results_df = pd.read_csv(os.path.join(local_path, 'cls_results_df.csv'))\n",
    "            \n",
    "        print(success_msg)\n",
    "            \n",
    "    except Exception as e:\n",
    "        if (e.errno == errno.ENOENT):\n",
    "            print('Files not found to load data from: you need to execute the previous notebook.')\n",
    "            \n",
    "else:\n",
    "    print(success_msg)"
   ]
  },
  {
   "cell_type": "markdown",
   "metadata": {},
   "source": [
    "### Set general information about this SageMaker session"
   ]
  },
  {
   "cell_type": "code",
   "execution_count": 6,
   "metadata": {},
   "outputs": [],
   "source": [
    "role = sagemaker.get_execution_role()\n",
    "session = sagemaker.Session()\n",
    "bucket_name = session.default_bucket()\n",
    "region = boto3.Session().region_name\n",
    "prefix = 'nasa_engine_data'"
   ]
  },
  {
   "cell_type": "markdown",
   "metadata": {},
   "source": [
    "## Hyperparameter tuning job\n",
    "---\n",
    "### Optimizing the classification model\n",
    "#### Defining the model and the tuning job"
   ]
  },
  {
   "cell_type": "markdown",
   "metadata": {},
   "source": [
    "> # ### TO DO ###"
   ]
  },
  {
   "cell_type": "markdown",
   "metadata": {},
   "source": [
    "### Optimizing the regression model\n",
    "#### Defining the model and the tuning job\n",
    "Before launching a tuning job, we need to define the base Estimator object that will be used. This is similar to the Estimator object created during a single training occurrence:"
   ]
  },
  {
   "cell_type": "code",
   "execution_count": 7,
   "metadata": {},
   "outputs": [],
   "source": [
    "# Fetch the training container for SageMaker built-in XGBoost algorithm:\n",
    "xgb_container = get_image_uri(region, 'xgboost', '0.90-1')\n",
    "\n",
    "# Build a training job name:\n",
    "training_job_name = 'xgboost-nasa-rul-reg'\n",
    "\n",
    "# Build the estimator object:\n",
    "model_artifacts_path = 's3://{}/{}/output'.format(bucket_name, prefix)\n",
    "xgb_regression_estimator = sagemaker.estimator.Estimator(\n",
    "    image_name=xgb_container,\n",
    "    role=role,\n",
    "    train_instance_count=1,\n",
    "    train_instance_type='ml.m5.large',\n",
    "    output_path=model_artifacts_path,\n",
    "    sagemaker_session=session,\n",
    "    base_job_name=training_job_name\n",
    ")\n",
    "\n",
    "# Link hyperparameters to this estimator:\n",
    "xgb_regression_estimator.set_hyperparameters(\n",
    "    max_depth=6,                   # Max depth of a given tree\n",
    "    eta=0.3,                       # Step size shrinkage used in updates to prevent overfitting\n",
    "    gamma=0,                       # Minimum loss reduction required to make a further partition on a leaf node of the tree\n",
    "    min_child_weight=1,            # Minimum sum of instance weight (hessian) needed in a child\n",
    "    subsample=1.0,                 # Subsample ratio of the training instance\n",
    "    silent=0,                      # 0 means print running messages\n",
    "    objective='reg:squarederror',  # Learning task and learning objective\n",
    "    num_round=40                   # The number of rounds to run the training\n",
    ")"
   ]
  },
  {
   "cell_type": "markdown",
   "metadata": {},
   "source": [
    "Now we need to define the hyperparameters tuning job exploration ranges. You can refer yourself to [this page](https://docs.aws.amazon.com/sagemaker/latest/dg/xgboost-tuning.html) to understand the different metrics computed by the XGBoost algorithm and the associated optimization direction:"
   ]
  },
  {
   "cell_type": "code",
   "execution_count": 8,
   "metadata": {},
   "outputs": [],
   "source": [
    "from sagemaker.tuner import HyperparameterTuner, IntegerParameter, ContinuousParameter\n",
    "\n",
    "xgb_regression_tuner = HyperparameterTuner(\n",
    "    estimator = xgb_regression_estimator,         # The estimator object to use as the basis for the training jobs.\n",
    "    objective_metric_name = 'validation:rmse',    # The metric used to compare trained models (RMSE in this case).\n",
    "    objective_type = 'Minimize',                  # We wish to minimize this error metric.\n",
    "    max_jobs = 10,                                # The total number of models to train\n",
    "    max_parallel_jobs = 2,                        # The number of models to train in parallel\n",
    "    hyperparameter_ranges = {\n",
    "        'max_depth': IntegerParameter(3, 10),\n",
    "        'eta': ContinuousParameter(0.01, 0.3),\n",
    "        'gamma': ContinuousParameter(0, 10),\n",
    "        'subsample': ContinuousParameter(0.5, 1.0),\n",
    "        'colsample_bytree': ContinuousParameter(0.5, 1.0)\n",
    "    },\n",
    "    base_tuning_job_name = training_job_name + '-tuner'\n",
    ")"
   ]
  },
  {
   "cell_type": "markdown",
   "metadata": {},
   "source": [
    "We still need to encapsulate the inputs in S3 objects to make sure content type is correctly identified by the algorithm:"
   ]
  },
  {
   "cell_type": "code",
   "execution_count": 9,
   "metadata": {},
   "outputs": [],
   "source": [
    "s3_input_train = sagemaker.s3_input(s3_data='s3://{}/{}/input/training_regression.csv'.format(bucket_name, prefix), content_type='text/csv')\n",
    "s3_input_validation = sagemaker.s3_input(s3_data='s3://{}/{}/input/validation_regression.csv'.format(bucket_name, prefix), content_type='text/csv')"
   ]
  },
  {
   "cell_type": "markdown",
   "metadata": {},
   "source": [
    "We can now launch the hyperparameter job by training the tuner created previously. Note that by default the command gives back control to the notebook and does not wait for the tuning job to be finished."
   ]
  },
  {
   "cell_type": "code",
   "execution_count": 14,
   "metadata": {},
   "outputs": [],
   "source": [
    "xgb_regression_tuner.fit(inputs={'train': s3_input_train, 'validation': s3_input_validation}, logs=True)"
   ]
  },
  {
   "cell_type": "markdown",
   "metadata": {},
   "source": [
    "The following cell illustrates how to follow what is going on in the background. It provides similar insights than what can be visible in the AWS Console for the SageMaker Hyperparameter Tuning Jobs section:"
   ]
  },
  {
   "cell_type": "code",
   "execution_count": 16,
   "metadata": {},
   "outputs": [
    {
     "name": "stdout",
     "output_type": "stream",
     "text": [
      "Tuning job in progress (status: InProgress)\n",
      "9 training jobs are complete:\n",
      "+----+--------------------------------------------+---------------------+-----------------------+-----------+-----------+-------------+-------------+--------------------+---------------------------+\n",
      "|    | TrainingJobName                            | TrainingJobStatus   |   FinalObjectiveValue |       eta |     gamma |   max_depth |   subsample |   colsample_bytree | TrainingStartTime         |\n",
      "|----+--------------------------------------------+---------------------+-----------------------+-----------+-----------+-------------+-------------+--------------------+---------------------------|\n",
      "|  3 | sagemaker-xgboost-200514-1623-007-966f0cad | Completed           |               42.9391 | 0.234323  | 4.92108   |           6 |    0.837986 |           0.84723  | 2020-05-14 16:36:15+00:00 |\n",
      "|  2 | sagemaker-xgboost-200514-1623-008-fe37c6aa | Completed           |               43.5915 | 0.260873  | 9.08876   |           6 |    0.791223 |           0.918642 | 2020-05-14 16:36:09+00:00 |\n",
      "|  4 | sagemaker-xgboost-200514-1623-006-7fc5f6c6 | Completed           |               42.4356 | 0.234951  | 6.88325   |           4 |    0.594929 |           0.936449 | 2020-05-14 16:33:17+00:00 |\n",
      "|  5 | sagemaker-xgboost-200514-1623-005-884178d9 | Completed           |               43.6606 | 0.261811  | 2.87335   |           5 |    0.570988 |           0.667634 | 2020-05-14 16:32:20+00:00 |\n",
      "|  7 | sagemaker-xgboost-200514-1623-003-43226269 | Completed           |               45.3489 | 0.245403  | 5.58148   |           9 |    0.685215 |           0.708873 | 2020-05-14 16:29:48+00:00 |\n",
      "|  6 | sagemaker-xgboost-200514-1623-004-794d7049 | Completed           |               55.9563 | 0.0309034 | 6.65376   |           3 |    0.782673 |           0.569017 | 2020-05-14 16:29:17+00:00 |\n",
      "|  9 | sagemaker-xgboost-200514-1623-001-4487456e | Completed           |               81.3664 | 0.0149849 | 0.0286021 |           9 |    0.761809 |           0.744696 | 2020-05-14 16:26:22+00:00 |\n",
      "|  8 | sagemaker-xgboost-200514-1623-002-c4436f6a | Completed           |               43.1852 | 0.0659108 | 3.11042   |           4 |    0.733727 |           0.832351 | 2020-05-14 16:25:50+00:00 |\n",
      "+----+--------------------------------------------+---------------------+-----------------------+-----------+-----------+-------------+-------------+--------------------+---------------------------+\n"
     ]
    }
   ],
   "source": [
    "from IPython.display import clear_output\n",
    "import time\n",
    "import tabulate\n",
    "\n",
    "# Get a description of the current tuning job:\n",
    "utils.get_tuner_status(xgb_regression_tuner._current_job_name)"
   ]
  },
  {
   "cell_type": "markdown",
   "metadata": {},
   "source": [
    "#### Deploying an endpoint to query the best model found\n",
    "Now that the hyperparameter tuning job is finished, we can deploy an endpoint to query the best model found:"
   ]
  },
  {
   "cell_type": "code",
   "execution_count": 17,
   "metadata": {},
   "outputs": [
    {
     "name": "stdout",
     "output_type": "stream",
     "text": [
      "The following endpoint will be created for the best estimator previously found: xgboost-nasa-regression-v2-20200514-164238\n"
     ]
    }
   ],
   "source": [
    "endpoint_name = 'xgboost-nasa-regression-v2-{}'.format(datetime.now().strftime(\"%Y%m%d-%H%M%S\"))\n",
    "print('The following endpoint will be created for the best estimator previously found:', endpoint_name)\n",
    "\n",
    "# Get the training job descriptor to extract the location of the \n",
    "# model artifacts on S3 and the container for the algorithm image:\n",
    "# Collect the best training job name and associated estimator:\n",
    "sm_client = boto3.client('sagemaker')\n",
    "best_xgb_training_job = xgb_regression_tuner.best_training_job()\n",
    "training_job_description = sm_client.describe_training_job(TrainingJobName=best_xgb_training_job)\n",
    "model_artifacts = training_job_description['ModelArtifacts']['S3ModelArtifacts']\n",
    "training_image = training_job_description['AlgorithmSpecification']['TrainingImage']\n",
    "\n",
    "# Create a deployable model:\n",
    "sm_client.create_model(\n",
    "    ModelName = endpoint_name + '-model',\n",
    "    ExecutionRoleArn = role,\n",
    "    PrimaryContainer = {\n",
    "        'Image': training_image,\n",
    "        'ModelDataUrl': model_artifacts\n",
    "    }\n",
    ")\n",
    "\n",
    "# Creates the endpoint configuration: this entity describes the distribution of traffic \n",
    "# across the models, whether split, shadowed, or sampled in some way:\n",
    "sm_client.create_endpoint_config(\n",
    "    EndpointConfigName = endpoint_name + '-endpoint-cfg',\n",
    "    ProductionVariants=[{\n",
    "        'InstanceType': 'ml.t2.medium',\n",
    "        'InitialVariantWeight': 1,\n",
    "        'InitialInstanceCount': 1,\n",
    "        'ModelName': endpoint_name + '-model',\n",
    "        'VariantName':'AllTraffic'\n",
    "    }]\n",
    ")\n",
    "\n",
    "# Creates the endpoint: this entity serves up the model, through \n",
    "# specifying the name and configuration defined above:\n",
    "xgb_regression_predictor = sm_client.create_endpoint(\n",
    "    EndpointName = endpoint_name,\n",
    "    EndpointConfigName = endpoint_name + '-endpoint-cfg'\n",
    ")"
   ]
  },
  {
   "cell_type": "markdown",
   "metadata": {},
   "source": [
    "Let's wait for the endpoint to be created:"
   ]
  },
  {
   "cell_type": "code",
   "execution_count": 18,
   "metadata": {},
   "outputs": [
    {
     "name": "stdout",
     "output_type": "stream",
     "text": [
      "Endpoint creation in progress...\n",
      "Endpoint creation in progress...\n",
      "Endpoint creation in progress...\n",
      "Endpoint creation in progress...\n",
      "Endpoint creation in progress...\n",
      "Endpoint creation in progress...\n",
      "Endpoint creation in progress...\n",
      "Endpoint creation in progress...\n",
      "Endpoint creation successful.\n"
     ]
    }
   ],
   "source": [
    "status = sm_client.describe_endpoint(EndpointName=endpoint_name)['EndpointStatus']\n",
    "print('Endpoint creation in progress... ', end='')\n",
    "while status == 'Creating':\n",
    "    time.sleep(60)\n",
    "    print('#', end='')\n",
    "    status = sm_client.describe_endpoint(EndpointName=endpoint_name)['EndpointStatus']\n",
    "    \n",
    "if (status == 'InService'):\n",
    "    print('\\nEndpoint creation successful.')\n",
    "    \n",
    "    # Build a predictor object which will receive our prediction requests:\n",
    "    xgb_regression_predictor = RealTimePredictor(\n",
    "        endpoint = endpoint_name,\n",
    "        sagemaker_session = session,\n",
    "        serializer = csv_serializer,\n",
    "        deserializer = csv_deserializer\n",
    "    )\n",
    "    \n",
    "else:\n",
    "    print('\\nEndpoint creation failed.')"
   ]
  },
  {
   "cell_type": "markdown",
   "metadata": {},
   "source": [
    "#### Get prediction for the test data"
   ]
  },
  {
   "cell_type": "code",
   "execution_count": 19,
   "metadata": {},
   "outputs": [
    {
     "data": {
      "text/html": [
       "<div>\n",
       "<style scoped>\n",
       "    .dataframe tbody tr th:only-of-type {\n",
       "        vertical-align: middle;\n",
       "    }\n",
       "\n",
       "    .dataframe tbody tr th {\n",
       "        vertical-align: top;\n",
       "    }\n",
       "\n",
       "    .dataframe thead th {\n",
       "        text-align: right;\n",
       "    }\n",
       "</style>\n",
       "<table border=\"1\" class=\"dataframe\">\n",
       "  <thead>\n",
       "    <tr style=\"text-align: right;\">\n",
       "      <th></th>\n",
       "      <th>real_rul</th>\n",
       "      <th>predicted_rul</th>\n",
       "    </tr>\n",
       "    <tr>\n",
       "      <th>unit_number</th>\n",
       "      <th></th>\n",
       "      <th></th>\n",
       "    </tr>\n",
       "  </thead>\n",
       "  <tbody>\n",
       "    <tr>\n",
       "      <th>1.0</th>\n",
       "      <td>112.0</td>\n",
       "      <td>154.593552</td>\n",
       "    </tr>\n",
       "    <tr>\n",
       "      <th>2.0</th>\n",
       "      <td>98.0</td>\n",
       "      <td>129.266235</td>\n",
       "    </tr>\n",
       "    <tr>\n",
       "      <th>3.0</th>\n",
       "      <td>69.0</td>\n",
       "      <td>61.693615</td>\n",
       "    </tr>\n",
       "    <tr>\n",
       "      <th>4.0</th>\n",
       "      <td>82.0</td>\n",
       "      <td>95.877014</td>\n",
       "    </tr>\n",
       "    <tr>\n",
       "      <th>5.0</th>\n",
       "      <td>91.0</td>\n",
       "      <td>116.271301</td>\n",
       "    </tr>\n",
       "  </tbody>\n",
       "</table>\n",
       "</div>"
      ],
      "text/plain": [
       "             real_rul  predicted_rul\n",
       "unit_number                         \n",
       "1.0             112.0     154.593552\n",
       "2.0              98.0     129.266235\n",
       "3.0              69.0      61.693615\n",
       "4.0              82.0      95.877014\n",
       "5.0              91.0     116.271301"
      ]
     },
     "execution_count": 19,
     "metadata": {},
     "output_type": "execute_result"
    }
   ],
   "source": [
    "# We want to estimate the remaining useful lifetime for each unit:\n",
    "tuned_reg_results_df = pd.DataFrame(columns=['unit_number', 'real_rul', 'predicted_rul'])\n",
    "\n",
    "# Loops through each unit:\n",
    "for i in range(0, 100):\n",
    "    # Get all the test data for the current unit:\n",
    "    row = test_data_scaled[test_data_scaled['unit_number'] == (i+1)].iloc[-1, :]\n",
    "    \n",
    "    # Join them together into a list before sending them to the predictor:\n",
    "    test_sample = ', '.join(row[X_train.columns].map(str).tolist())\n",
    "    prediction = xgb_regression_predictor.predict(test_sample)\n",
    "    \n",
    "    # Add the result for the current unit to the results dataframe:\n",
    "    tuned_reg_results_df = tuned_reg_results_df.append({\n",
    "        'unit_number': (i+1),\n",
    "        'real_rul': row['rul'],\n",
    "        'predicted_rul': float(prediction[0][0])\n",
    "    }, ignore_index=True)\n",
    "    \n",
    "tuned_reg_results_df = tuned_reg_results_df.set_index('unit_number')\n",
    "tuned_reg_results_df.head()"
   ]
  },
  {
   "cell_type": "markdown",
   "metadata": {},
   "source": [
    "We can use the following dataframe to perform some error analysis:"
   ]
  },
  {
   "cell_type": "code",
   "execution_count": 20,
   "metadata": {},
   "outputs": [
    {
     "data": {
      "text/html": [
       "<div>\n",
       "<style scoped>\n",
       "    .dataframe tbody tr th:only-of-type {\n",
       "        vertical-align: middle;\n",
       "    }\n",
       "\n",
       "    .dataframe tbody tr th {\n",
       "        vertical-align: top;\n",
       "    }\n",
       "\n",
       "    .dataframe thead th {\n",
       "        text-align: right;\n",
       "    }\n",
       "</style>\n",
       "<table border=\"1\" class=\"dataframe\">\n",
       "  <thead>\n",
       "    <tr style=\"text-align: right;\">\n",
       "      <th></th>\n",
       "      <th>Real RUL</th>\n",
       "      <th>Initial Prediction</th>\n",
       "      <th>After HP Tuning</th>\n",
       "    </tr>\n",
       "    <tr>\n",
       "      <th>unit_number</th>\n",
       "      <th></th>\n",
       "      <th></th>\n",
       "      <th></th>\n",
       "    </tr>\n",
       "  </thead>\n",
       "  <tbody>\n",
       "    <tr>\n",
       "      <th>1.0</th>\n",
       "      <td>112.0</td>\n",
       "      <td>154.593552</td>\n",
       "      <td>147.754944</td>\n",
       "    </tr>\n",
       "    <tr>\n",
       "      <th>2.0</th>\n",
       "      <td>98.0</td>\n",
       "      <td>129.266235</td>\n",
       "      <td>126.293488</td>\n",
       "    </tr>\n",
       "    <tr>\n",
       "      <th>3.0</th>\n",
       "      <td>69.0</td>\n",
       "      <td>61.693615</td>\n",
       "      <td>59.875839</td>\n",
       "    </tr>\n",
       "    <tr>\n",
       "      <th>4.0</th>\n",
       "      <td>82.0</td>\n",
       "      <td>95.877014</td>\n",
       "      <td>111.328903</td>\n",
       "    </tr>\n",
       "    <tr>\n",
       "      <th>5.0</th>\n",
       "      <td>91.0</td>\n",
       "      <td>116.271301</td>\n",
       "      <td>106.703590</td>\n",
       "    </tr>\n",
       "    <tr>\n",
       "      <th>6.0</th>\n",
       "      <td>93.0</td>\n",
       "      <td>128.255066</td>\n",
       "      <td>74.711128</td>\n",
       "    </tr>\n",
       "    <tr>\n",
       "      <th>7.0</th>\n",
       "      <td>91.0</td>\n",
       "      <td>105.454819</td>\n",
       "      <td>115.125412</td>\n",
       "    </tr>\n",
       "    <tr>\n",
       "      <th>8.0</th>\n",
       "      <td>95.0</td>\n",
       "      <td>103.107292</td>\n",
       "      <td>77.082909</td>\n",
       "    </tr>\n",
       "    <tr>\n",
       "      <th>9.0</th>\n",
       "      <td>111.0</td>\n",
       "      <td>114.027756</td>\n",
       "      <td>121.945366</td>\n",
       "    </tr>\n",
       "    <tr>\n",
       "      <th>10.0</th>\n",
       "      <td>96.0</td>\n",
       "      <td>117.801987</td>\n",
       "      <td>158.282867</td>\n",
       "    </tr>\n",
       "  </tbody>\n",
       "</table>\n",
       "</div>"
      ],
      "text/plain": [
       "             Real RUL  Initial Prediction  After HP Tuning\n",
       "unit_number                                               \n",
       "1.0             112.0          154.593552       147.754944\n",
       "2.0              98.0          129.266235       126.293488\n",
       "3.0              69.0           61.693615        59.875839\n",
       "4.0              82.0           95.877014       111.328903\n",
       "5.0              91.0          116.271301       106.703590\n",
       "6.0              93.0          128.255066        74.711128\n",
       "7.0              91.0          105.454819       115.125412\n",
       "8.0              95.0          103.107292        77.082909\n",
       "9.0             111.0          114.027756       121.945366\n",
       "10.0             96.0          117.801987       158.282867"
      ]
     },
     "execution_count": 20,
     "metadata": {},
     "output_type": "execute_result"
    }
   ],
   "source": [
    "df = pd.merge(reg_results_df, tuned_reg_results_df, how='inner', left_index=True, right_index=True)\n",
    "df = df[['real_rul_x', 'predicted_rul_y', 'predicted_rul_x']]\n",
    "df.columns = ['Real RUL', 'Initial Prediction', 'After HP Tuning']\n",
    "df.head(10)"
   ]
  },
  {
   "cell_type": "code",
   "execution_count": 21,
   "metadata": {},
   "outputs": [
    {
     "name": "stdout",
     "output_type": "stream",
     "text": [
      "R² (initial): 0.39705319922447724\n",
      "R² (after hyperparameter tuning): 0.44298449755454905\n"
     ]
    }
   ],
   "source": [
    "from sklearn.metrics import r2_score\n",
    "\n",
    "print('R² (initial):', r2_score(reg_results_df['real_rul'], reg_results_df['predicted_rul']))\n",
    "print('R² (after hyperparameter tuning):', r2_score(tuned_reg_results_df['real_rul'], tuned_reg_results_df['predicted_rul']))"
   ]
  },
  {
   "cell_type": "code",
   "execution_count": 22,
   "metadata": {},
   "outputs": [
    {
     "data": {
      "image/png": "[encoded data removed]",
      "text/plain": [
       "<Figure size 720x720 with 1 Axes>"
      ]
     },
     "metadata": {},
     "output_type": "display_data"
    }
   ],
   "source": [
    "figure=plt.figure(figsize=(10,10))\n",
    "chart = sns.scatterplot(x=reg_results_df['real_rul'], y=reg_results_df['predicted_rul'], s=100, alpha=0.3, label='Initial training');\n",
    "chart = sns.scatterplot(x=tuned_reg_results_df['real_rul'], y=tuned_reg_results_df['predicted_rul'], s=50, alpha=0.6, color='#CC0000', label='Hyperparameters tuned');\n",
    "chart.set_title('NASA Turbofan Engine Faults - Prediction vs. Real RUL');\n",
    "chart.legend(loc='lower right');"
   ]
  },
  {
   "cell_type": "markdown",
   "metadata": {},
   "source": [
    "## Conclusion\n",
    "---\n",
    "Although the R² almost doubled from the initial training, we are still very far from a usable model in production. In the next series of Notebook, we will consider timeseries analysis.\n",
    "### Cleanup"
   ]
  },
  {
   "cell_type": "code",
   "execution_count": 23,
   "metadata": {},
   "outputs": [],
   "source": [
    "sm_client.delete_endpoint(EndpointName=endpoint_name);\n",
    "sm_client.delete_endpoint_config(EndpointConfigName=endpoint_name + '-endpoint-cfg');\n",
    "sm_client.delete_model(ModelName=endpoint_name + '-model');"
   ]
  }
 ],
 "metadata": {
  "kernelspec": {
   "display_name": "conda_python3",
   "language": "python",
   "name": "conda_python3"
  },
  "language_info": {
   "codemirror_mode": {
    "name": "ipython",
    "version": 3
   },
   "file_extension": ".py",
   "mimetype": "text/x-python",
   "name": "python",
   "nbconvert_exporter": "python",
   "pygments_lexer": "ipython3",
   "version": "3.6.5"
  }
 },
 "nbformat": 4,
 "nbformat_minor": 4
}
