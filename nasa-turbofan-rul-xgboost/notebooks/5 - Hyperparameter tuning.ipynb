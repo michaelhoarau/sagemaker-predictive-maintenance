{
 "cells": [
  {
   "cell_type": "markdown",
   "metadata": {},
   "source": [
    "# Predictive Maintenance using Machine Learning on Sagemaker\n",
    "*Part 4 - Hyperparameter tuning*"
   ]
  },
  {
   "cell_type": "markdown",
   "metadata": {},
   "source": [
    "## Initialization\n",
    "---\n",
    "Directory structure to run this notebook:\n",
    "```\n",
    "nasa-turbofan-rul-xgboost\n",
    "|\n",
    "+--- data\n",
    "|   |\n",
    "|   +--- interim: intermediate data we can manipulate and process\n",
    "|   |\n",
    "|   \\--- raw: *immutable* data downloaded from the source website\n",
    "|\n",
    "+--- notebooks: all the notebooks are positionned here\n",
    "```"
   ]
  },
  {
   "cell_type": "markdown",
   "metadata": {},
   "source": [
    "### Imports"
   ]
  },
  {
   "cell_type": "code",
   "execution_count": 1,
   "metadata": {},
   "outputs": [],
   "source": [
    "import matplotlib.pyplot as plt\n",
    "import time\n",
    "import sagemaker\n",
    "import boto3\n",
    "import seaborn as sns\n",
    "import pandas as pd\n",
    "import time\n",
    "import utils\n",
    "\n",
    "from sagemaker.amazon.amazon_estimator import get_image_uri\n",
    "from sagemaker.predictor import RealTimePredictor, csv_serializer, csv_deserializer\n",
    "from IPython.display import clear_output\n",
    "\n",
    "from datetime import datetime\n",
    "from sklearn.externals import joblib\n",
    "from sklearn.metrics import confusion_matrix, accuracy_score, r2_score, roc_auc_score, precision_score, recall_score, f1_score\n",
    "\n",
    "sns.set_style('darkgrid')"
   ]
  },
  {
   "cell_type": "code",
   "execution_count": 3,
   "metadata": {},
   "outputs": [
    {
     "name": "stdout",
     "output_type": "stream",
     "text": [
      "Requirement already satisfied: tabulate in /home/ec2-user/anaconda3/envs/python3/lib/python3.6/site-packages (0.8.7)\n",
      "\u001b[33mYou are using pip version 10.0.1, however version 20.1 is available.\n",
      "You should consider upgrading via the 'pip install --upgrade pip' command.\u001b[0m\n"
     ]
    }
   ],
   "source": [
    "!pip install tabulate\n",
    "import tabulate"
   ]
  },
  {
   "cell_type": "markdown",
   "metadata": {},
   "source": [
    "### Loading data from the previous notebook"
   ]
  },
  {
   "cell_type": "code",
   "execution_count": 4,
   "metadata": {},
   "outputs": [
    {
     "name": "stdout",
     "output_type": "stream",
     "text": [
      "Loaded \"test_data_scaled\", \"reg_results_df\" and \"cls_results_df\"\n"
     ]
    }
   ],
   "source": [
    "%store -r\n",
    "\n",
    "# If the data are not present in the notebook local storage, we need to load them from disk:\n",
    "success_msg = 'Loaded \"test_data_scaled\", \"reg_results_df\" and \"cls_results_df\"'\n",
    "if 'test_data_scaled' not in locals():\n",
    "    print('Data not available from previous notebook, loading from disk.')\n",
    "    try:\n",
    "        local_path = '../data/interim'\n",
    "        test_data_scaled = pd.read_csv(os.path.join(local_path, 'test_data_scaled.csv'))\n",
    "        reg_results_df = pd.read_csv(os.path.join(local_path, 'reg_results_df.csv'))\n",
    "        cls_results_df = pd.read_csv(os.path.join(local_path, 'cls_results_df.csv'))\n",
    "            \n",
    "        print(success_msg)\n",
    "            \n",
    "    except Exception as e:\n",
    "        if (e.errno == errno.ENOENT):\n",
    "            print('Files not found to load data from: you need to execute the previous notebook.')\n",
    "            \n",
    "else:\n",
    "    print(success_msg)"
   ]
  },
  {
   "cell_type": "markdown",
   "metadata": {},
   "source": [
    "### Set general information about this SageMaker session"
   ]
  },
  {
   "cell_type": "code",
   "execution_count": 5,
   "metadata": {},
   "outputs": [],
   "source": [
    "role = sagemaker.get_execution_role()\n",
    "session = sagemaker.Session()\n",
    "bucket_name = session.default_bucket()\n",
    "region = boto3.Session().region_name\n",
    "prefix = 'nasa_engine_data'\n",
    "\n",
    "# Fetch the training container for SageMaker built-in XGBoost algorithm:\n",
    "xgb_container = get_image_uri(region, 'xgboost', '0.90-1')"
   ]
  },
  {
   "cell_type": "markdown",
   "metadata": {},
   "source": [
    "## Hyperparameter tuning job\n",
    "---\n",
    "### Optimizing the classification model\n",
    "#### Defining the model and the tuning job\n",
    "Before launching a tuning job, we need to define the base Estimator object that will be used. This is similar to the Estimator object created during a single training occurrence:"
   ]
  },
  {
   "cell_type": "code",
   "execution_count": 6,
   "metadata": {},
   "outputs": [],
   "source": [
    "# Build a training job name:\n",
    "training_job_name = 'xgboost-nasa-health'\n",
    "\n",
    "# Build the estimator object:\n",
    "model_artifacts_path = 's3://{}/{}/output'.format(bucket_name, prefix)\n",
    "xgb_classification_estimator = sagemaker.estimator.Estimator(\n",
    "    image_name=xgb_container,\n",
    "    role=role,\n",
    "    train_instance_count=1,\n",
    "    train_instance_type='ml.m5.large',\n",
    "    output_path=model_artifacts_path,\n",
    "    sagemaker_session=session,\n",
    "    base_job_name=training_job_name\n",
    ")\n",
    "\n",
    "# Link hyperparameters to this estimator:\n",
    "xgb_classification_estimator.set_hyperparameters(\n",
    "    max_depth=6,                   # Max depth of a given tree\n",
    "    eta=0.3,                       # Step size shrinkage used in updates to prevent overfitting\n",
    "    gamma=0,                       # Minimum loss reduction required to make a further partition on a leaf node of the tree\n",
    "    min_child_weight=1,            # Minimum sum of instance weight (hessian) needed in a child\n",
    "    subsample=1.0,                 # Subsample ratio of the training instance\n",
    "    silent=0,                      # 0 means print running messages\n",
    "    objective='binary:logistic',  # Learning task and learning objective\n",
    "    num_round=40                   # The number of rounds to run the training\n",
    ")"
   ]
  },
  {
   "cell_type": "markdown",
   "metadata": {},
   "source": [
    "Now we need to define the hyperparameters tuning job exploration ranges. You can refer yourself to [this page](https://docs.aws.amazon.com/sagemaker/latest/dg/xgboost-tuning.html) to understand the different metrics computed by the XGBoost algorithm and the associated optimization direction:"
   ]
  },
  {
   "cell_type": "code",
   "execution_count": 7,
   "metadata": {},
   "outputs": [],
   "source": [
    "from sagemaker.tuner import HyperparameterTuner, IntegerParameter, ContinuousParameter\n",
    "\n",
    "xgb_classification_tuner = HyperparameterTuner(\n",
    "    estimator = xgb_classification_estimator,     # The estimator object to use as the basis for the training jobs.\n",
    "    objective_metric_name = 'validation:error',   # The metric used to compare trained models (classification error in this case).\n",
    "    objective_type = 'Minimize',                  # We wish to minimize this error metric.\n",
    "    max_jobs = 10,                                # The total number of models to train\n",
    "    max_parallel_jobs = 2,                        # The number of models to train in parallel\n",
    "    hyperparameter_ranges = {\n",
    "        'max_depth': IntegerParameter(3, 10),\n",
    "        'eta': ContinuousParameter(0.01, 0.3),\n",
    "        'gamma': ContinuousParameter(0, 10),\n",
    "        'subsample': ContinuousParameter(0.5, 1.0),\n",
    "        'colsample_bytree': ContinuousParameter(0.5, 1.0)\n",
    "    },\n",
    "    base_tuning_job_name = training_job_name + '-tuner'\n",
    ")"
   ]
  },
  {
   "cell_type": "markdown",
   "metadata": {},
   "source": [
    "We still need to encapsulate the inputs in S3 objects to make sure content type is correctly identified by the algorithm:"
   ]
  },
  {
   "cell_type": "code",
   "execution_count": 8,
   "metadata": {},
   "outputs": [],
   "source": [
    "s3_input_train = sagemaker.s3_input(s3_data='s3://{}/{}/input/training_classification.csv'.format(bucket_name, prefix), content_type='text/csv')\n",
    "s3_input_validation = sagemaker.s3_input(s3_data='s3://{}/{}/input/validation_classification.csv'.format(bucket_name, prefix), content_type='text/csv')"
   ]
  },
  {
   "cell_type": "markdown",
   "metadata": {},
   "source": [
    "We can now launch the hyperparameter job by training the tuner created previously. Note that by default the command gives back control to the notebook and does not wait for the tuning job to be finished."
   ]
  },
  {
   "cell_type": "code",
   "execution_count": 9,
   "metadata": {},
   "outputs": [],
   "source": [
    "xgb_classification_tuner.fit(inputs={'train': s3_input_train, 'validation': s3_input_validation}, logs=True)"
   ]
  },
  {
   "cell_type": "markdown",
   "metadata": {},
   "source": [
    "The following cell illustrates how to follow what is going on in the background. It provides similar insights than what can be visible in the AWS Console for the SageMaker Hyperparameter Tuning Jobs section:"
   ]
  },
  {
   "cell_type": "code",
   "execution_count": 10,
   "metadata": {},
   "outputs": [
    {
     "name": "stdout",
     "output_type": "stream",
     "text": [
      "Tuning job in progress (status: InProgress)\n",
      "8 training jobs are complete:\n",
      "+----+-----------------------------------------------+-----------------------+-----------+----------+-------------+-------------+--------------------+\n",
      "|    | TrainingJobName                               |   FinalObjectiveValue |       eta |    gamma |   max_depth |   subsample |   colsample_bytree |\n",
      "|----+-----------------------------------------------+-----------------------+-----------+----------+-------------+-------------+--------------------|\n",
      "|  2 | xgboost-nasa-health--200515-1220-008-7de0f75a |              0.046523 | 0.0203725 | 0.309479 |           3 |    0.980986 |           0.70999  |\n",
      "|  3 | xgboost-nasa-health--200515-1220-007-8b819baa |              0.049673 | 0.0163843 | 9.46931  |           8 |    0.874694 |           0.977721 |\n",
      "|  4 | xgboost-nasa-health--200515-1220-006-84f06328 |              0.058638 | 0.274152  | 0.103553 |           9 |    0.830779 |           0.674763 |\n",
      "|  5 | xgboost-nasa-health--200515-1220-005-7e8af942 |              0.050157 | 0.0101384 | 0.203668 |           8 |    0.535521 |           0.935414 |\n",
      "|  6 | xgboost-nasa-health--200515-1220-004-b304ec19 |              0.052338 | 0.129211  | 1.23098  |          10 |    0.870726 |           0.619252 |\n",
      "|  7 | xgboost-nasa-health--200515-1220-003-16aec8a4 |              0.055246 | 0.290914  | 5.56204  |           3 |    0.778685 |           0.777953 |\n",
      "|  9 | xgboost-nasa-health--200515-1220-001-b114a3df |              0.047008 | 0.060496  | 0.209158 |           3 |    0.84528  |           0.813776 |\n",
      "|  8 | xgboost-nasa-health--200515-1220-002-e86d7663 |              0.053792 | 0.146725  | 5.84248  |           5 |    0.598682 |           0.90188  |\n",
      "+----+-----------------------------------------------+-----------------------+-----------+----------+-------------+-------------+--------------------+\n"
     ]
    }
   ],
   "source": [
    "status = utils.get_tuner_status(xgb_classification_tuner._current_job_name)\n",
    "if (status != 'Completed'):\n",
    "    print('Hyperparameter job not completed: ' + status)"
   ]
  },
  {
   "cell_type": "markdown",
   "metadata": {},
   "source": [
    "#### Deploying an endpoint to query the best model found\n",
    "Now that the hyperparameter tuning job is finished, we can deploy an endpoint to query the best model found:"
   ]
  },
  {
   "cell_type": "code",
   "execution_count": 11,
   "metadata": {},
   "outputs": [
    {
     "name": "stdout",
     "output_type": "stream",
     "text": [
      "The following endpoint will be created for the best estimator previously found: xgboost-nasa-classification-v2-20200515-123805\n"
     ]
    }
   ],
   "source": [
    "cls_endpoint_name = 'xgboost-nasa-classification-v2-{}'.format(datetime.now().strftime(\"%Y%m%d-%H%M%S\"))\n",
    "print('The following endpoint will be created for the best estimator previously found:', cls_endpoint_name)\n",
    "\n",
    "# Get the training job descriptor to extract the location of the \n",
    "# model artifacts on S3 and the container for the algorithm image:\n",
    "# Collect the best training job name and associated estimator:\n",
    "sm_client = boto3.client('sagemaker')\n",
    "best_xgb_training_job = xgb_classification_tuner.best_training_job()\n",
    "training_job_description = sm_client.describe_training_job(TrainingJobName=best_xgb_training_job)\n",
    "model_artifacts = training_job_description['ModelArtifacts']['S3ModelArtifacts']\n",
    "training_image = training_job_description['AlgorithmSpecification']['TrainingImage']\n",
    "\n",
    "# Create a deployable model:\n",
    "sm_client.create_model(\n",
    "    ModelName = cls_endpoint_name + '-model',\n",
    "    ExecutionRoleArn = role,\n",
    "    PrimaryContainer = {\n",
    "        'Image': training_image,\n",
    "        'ModelDataUrl': model_artifacts\n",
    "    }\n",
    ")\n",
    "\n",
    "# Creates the endpoint configuration: this entity describes the distribution of traffic \n",
    "# across the models, whether split, shadowed, or sampled in some way:\n",
    "sm_client.create_endpoint_config(\n",
    "    EndpointConfigName = cls_endpoint_name + '-endpoint-cfg',\n",
    "    ProductionVariants=[{\n",
    "        'InstanceType': 'ml.t2.medium',\n",
    "        'InitialVariantWeight': 1,\n",
    "        'InitialInstanceCount': 1,\n",
    "        'ModelName': cls_endpoint_name + '-model',\n",
    "        'VariantName':'AllTraffic'\n",
    "    }]\n",
    ")\n",
    "\n",
    "# Creates the endpoint: this entity serves up the model, through \n",
    "# specifying the name and configuration defined above:\n",
    "xgb_classification_predictor = sm_client.create_endpoint(\n",
    "    EndpointName = cls_endpoint_name,\n",
    "    EndpointConfigName = cls_endpoint_name + '-endpoint-cfg'\n",
    ")"
   ]
  },
  {
   "cell_type": "markdown",
   "metadata": {},
   "source": [
    "Let's wait for the endpoint to be created:"
   ]
  },
  {
   "cell_type": "code",
   "execution_count": 12,
   "metadata": {},
   "outputs": [
    {
     "name": "stdout",
     "output_type": "stream",
     "text": [
      "Endpoint creation in progress... ##########\n",
      "Endpoint creation successful.\n"
     ]
    }
   ],
   "source": [
    "status = sm_client.describe_endpoint(EndpointName=cls_endpoint_name)['EndpointStatus']\n",
    "print('Endpoint creation in progress... ', end='')\n",
    "while status == 'Creating':\n",
    "    time.sleep(60)\n",
    "    print('#', end='')\n",
    "    status = sm_client.describe_endpoint(EndpointName=cls_endpoint_name)['EndpointStatus']\n",
    "    \n",
    "if (status == 'InService'):\n",
    "    print('\\nEndpoint creation successful.')\n",
    "    \n",
    "    # Build a predictor object which will receive our prediction requests:\n",
    "    xgb_classification_predictor = RealTimePredictor(\n",
    "        endpoint = cls_endpoint_name,\n",
    "        sagemaker_session = session,\n",
    "        serializer = csv_serializer,\n",
    "        deserializer = csv_deserializer\n",
    "    )\n",
    "    \n",
    "else:\n",
    "    print('\\nEndpoint creation failed.')"
   ]
  },
  {
   "cell_type": "markdown",
   "metadata": {},
   "source": [
    "#### Get prediction for the test data"
   ]
  },
  {
   "cell_type": "code",
   "execution_count": 13,
   "metadata": {},
   "outputs": [
    {
     "data": {
      "text/html": [
       "<div>\n",
       "<style scoped>\n",
       "    .dataframe tbody tr th:only-of-type {\n",
       "        vertical-align: middle;\n",
       "    }\n",
       "\n",
       "    .dataframe tbody tr th {\n",
       "        vertical-align: top;\n",
       "    }\n",
       "\n",
       "    .dataframe thead th {\n",
       "        text-align: right;\n",
       "    }\n",
       "</style>\n",
       "<table border=\"1\" class=\"dataframe\">\n",
       "  <thead>\n",
       "    <tr style=\"text-align: right;\">\n",
       "      <th></th>\n",
       "      <th>real_label</th>\n",
       "      <th>predicted_label</th>\n",
       "    </tr>\n",
       "    <tr>\n",
       "      <th>unit_number</th>\n",
       "      <th></th>\n",
       "      <th></th>\n",
       "    </tr>\n",
       "  </thead>\n",
       "  <tbody>\n",
       "    <tr>\n",
       "      <th>1.0</th>\n",
       "      <td>0.0</td>\n",
       "      <td>0.0</td>\n",
       "    </tr>\n",
       "    <tr>\n",
       "      <th>2.0</th>\n",
       "      <td>0.0</td>\n",
       "      <td>0.0</td>\n",
       "    </tr>\n",
       "    <tr>\n",
       "      <th>3.0</th>\n",
       "      <td>0.0</td>\n",
       "      <td>0.0</td>\n",
       "    </tr>\n",
       "    <tr>\n",
       "      <th>4.0</th>\n",
       "      <td>0.0</td>\n",
       "      <td>0.0</td>\n",
       "    </tr>\n",
       "    <tr>\n",
       "      <th>5.0</th>\n",
       "      <td>0.0</td>\n",
       "      <td>0.0</td>\n",
       "    </tr>\n",
       "  </tbody>\n",
       "</table>\n",
       "</div>"
      ],
      "text/plain": [
       "             real_label  predicted_label\n",
       "unit_number                             \n",
       "1.0                 0.0              0.0\n",
       "2.0                 0.0              0.0\n",
       "3.0                 0.0              0.0\n",
       "4.0                 0.0              0.0\n",
       "5.0                 0.0              0.0"
      ]
     },
     "execution_count": 13,
     "metadata": {},
     "output_type": "execute_result"
    }
   ],
   "source": [
    "# We want to estimate the healthy of each unit:\n",
    "tuned_cls_results_df = pd.DataFrame(columns=['unit_number', 'real_label', 'predicted_label'])\n",
    "\n",
    "# Loops through each unit:\n",
    "for i in range(0, 100):\n",
    "    # Get all the test data for the current unit:\n",
    "    row = test_data_scaled[test_data_scaled['unit_number'] == (i+1)].iloc[-1, :]\n",
    "    \n",
    "    # Join them together into a list before sending them to the predictor:\n",
    "    test_sample = ', '.join(row[X_train.columns].map(str).tolist())\n",
    "    prediction = xgb_classification_predictor.predict(test_sample)\n",
    "    \n",
    "    # Add the result for the current unit to the results dataframe:\n",
    "    tuned_cls_results_df = tuned_cls_results_df.append({\n",
    "        'unit_number': (i+1),\n",
    "        'real_label': row['label'],\n",
    "        'predicted_label': round(float(prediction[0][0]))\n",
    "    }, ignore_index=True)\n",
    "    \n",
    "tuned_cls_results_df = tuned_cls_results_df.set_index('unit_number')\n",
    "tuned_cls_results_df.head()"
   ]
  },
  {
   "cell_type": "markdown",
   "metadata": {},
   "source": [
    "#### Classification scores"
   ]
  },
  {
   "cell_type": "code",
   "execution_count": 14,
   "metadata": {},
   "outputs": [
    {
     "data": {
      "text/html": [
       "<div>\n",
       "<style scoped>\n",
       "    .dataframe tbody tr th:only-of-type {\n",
       "        vertical-align: middle;\n",
       "    }\n",
       "\n",
       "    .dataframe tbody tr th {\n",
       "        vertical-align: top;\n",
       "    }\n",
       "\n",
       "    .dataframe thead th {\n",
       "        text-align: right;\n",
       "    }\n",
       "</style>\n",
       "<table border=\"1\" class=\"dataframe\">\n",
       "  <thead>\n",
       "    <tr style=\"text-align: right;\">\n",
       "      <th></th>\n",
       "      <th>Metric</th>\n",
       "      <th>Initial model</th>\n",
       "      <th>Tuned model</th>\n",
       "    </tr>\n",
       "  </thead>\n",
       "  <tbody>\n",
       "    <tr>\n",
       "      <th>0</th>\n",
       "      <td>Accuracy</td>\n",
       "      <td>0.94</td>\n",
       "      <td>0.92</td>\n",
       "    </tr>\n",
       "    <tr>\n",
       "      <th>1</th>\n",
       "      <td>Roc AuC</td>\n",
       "      <td>0.89</td>\n",
       "      <td>0.87</td>\n",
       "    </tr>\n",
       "    <tr>\n",
       "      <th>2</th>\n",
       "      <td>Precision</td>\n",
       "      <td>0.95</td>\n",
       "      <td>0.90</td>\n",
       "    </tr>\n",
       "    <tr>\n",
       "      <th>3</th>\n",
       "      <td>Recall</td>\n",
       "      <td>0.80</td>\n",
       "      <td>0.76</td>\n",
       "    </tr>\n",
       "    <tr>\n",
       "      <th>4</th>\n",
       "      <td>F1 Score</td>\n",
       "      <td>0.87</td>\n",
       "      <td>0.83</td>\n",
       "    </tr>\n",
       "  </tbody>\n",
       "</table>\n",
       "</div>"
      ],
      "text/plain": [
       "      Metric  Initial model  Tuned model\n",
       "0   Accuracy           0.94         0.92\n",
       "1    Roc AuC           0.89         0.87\n",
       "2  Precision           0.95         0.90\n",
       "3     Recall           0.80         0.76\n",
       "4   F1 Score           0.87         0.83"
      ]
     },
     "execution_count": 14,
     "metadata": {},
     "output_type": "execute_result"
    }
   ],
   "source": [
    "y = cls_results_df['real_label']\n",
    "yhat = cls_results_df['predicted_label']\n",
    "tuned_y = tuned_cls_results_df['real_label']\n",
    "tuned_yhat = tuned_cls_results_df['predicted_label']\n",
    "\n",
    "cls_results_comparison = pd.DataFrame(columns=['Metric', 'Initial model', 'Tuned model'])\n",
    "cls_results_comparison = cls_results_comparison.append({\n",
    "    'Metric': 'Accuracy',\n",
    "    'Initial model': round(accuracy_score(y, yhat), 2),\n",
    "    'Tuned model': round(accuracy_score(tuned_y, tuned_yhat), 2),\n",
    "}, ignore_index=True)\n",
    "cls_results_comparison = cls_results_comparison.append({\n",
    "    'Metric': 'Roc AuC',\n",
    "    'Initial model': round(roc_auc_score(y, yhat), 2),\n",
    "    'Tuned model': round(roc_auc_score(tuned_y, tuned_yhat), 2),\n",
    "}, ignore_index=True)\n",
    "cls_results_comparison = cls_results_comparison.append({\n",
    "    'Metric': 'Precision',\n",
    "    'Initial model': round(precision_score(y, yhat), 2),\n",
    "    'Tuned model': round(precision_score(tuned_y, tuned_yhat), 2),\n",
    "}, ignore_index=True)\n",
    "cls_results_comparison = cls_results_comparison.append({\n",
    "    'Metric': 'Recall',\n",
    "    'Initial model': round(recall_score(y, yhat), 2),\n",
    "    'Tuned model': round(recall_score(tuned_y, tuned_yhat), 2),\n",
    "}, ignore_index=True)\n",
    "cls_results_comparison = cls_results_comparison.append({\n",
    "    'Metric': 'F1 Score',\n",
    "    'Initial model': round(f1_score(y, yhat, 'binary'), 2),\n",
    "    'Tuned model': round(f1_score(tuned_y, tuned_yhat, 'binary'), 2),\n",
    "}, ignore_index=True)\n",
    "\n",
    "cls_results_comparison"
   ]
  },
  {
   "cell_type": "markdown",
   "metadata": {},
   "source": [
    "#### Confusion matrix"
   ]
  },
  {
   "cell_type": "code",
   "execution_count": 15,
   "metadata": {},
   "outputs": [
    {
     "data": {
      "image/png": "[encoded data removed]",
      "text/plain": [
       "<Figure size 432x288 with 2 Axes>"
      ]
     },
     "metadata": {},
     "output_type": "display_data"
    },
    {
     "data": {
      "image/png": "[encoded data removed]",
      "text/plain": [
       "<Figure size 432x288 with 2 Axes>"
      ]
     },
     "metadata": {},
     "output_type": "display_data"
    }
   ],
   "source": [
    "cm1 = confusion_matrix(y, yhat)\n",
    "fig1 = utils.print_confusion_matrix(cm1, ['healthy', 'not healthy'], figsize = (6,4))\n",
    "cm2 = confusion_matrix(tuned_y, tuned_yhat)\n",
    "fig2 = utils.print_confusion_matrix(cm2, ['healthy', 'not healthy'], figsize = (6,4))"
   ]
  },
  {
   "cell_type": "markdown",
   "metadata": {},
   "source": [
    "### Optimizing the regression model\n",
    "#### Defining the model and the tuning job\n",
    "Before launching a tuning job, we need to define the base Estimator object that will be used. This is similar to the Estimator object created during a single training occurrence:"
   ]
  },
  {
   "cell_type": "code",
   "execution_count": 16,
   "metadata": {},
   "outputs": [],
   "source": [
    "# Build a training job name:\n",
    "training_job_name = 'xgboost-nasa-rul'\n",
    "\n",
    "# Build the estimator object:\n",
    "model_artifacts_path = 's3://{}/{}/output'.format(bucket_name, prefix)\n",
    "xgb_regression_estimator = sagemaker.estimator.Estimator(\n",
    "    image_name=xgb_container,\n",
    "    role=role,\n",
    "    train_instance_count=1,\n",
    "    train_instance_type='ml.m5.large',\n",
    "    output_path=model_artifacts_path,\n",
    "    sagemaker_session=session,\n",
    "    base_job_name=training_job_name\n",
    ")\n",
    "\n",
    "# Link hyperparameters to this estimator:\n",
    "xgb_regression_estimator.set_hyperparameters(\n",
    "    max_depth=6,                   # Max depth of a given tree\n",
    "    eta=0.3,                       # Step size shrinkage used in updates to prevent overfitting\n",
    "    gamma=0,                       # Minimum loss reduction required to make a further partition on a leaf node of the tree\n",
    "    min_child_weight=1,            # Minimum sum of instance weight (hessian) needed in a child\n",
    "    subsample=1.0,                 # Subsample ratio of the training instance\n",
    "    silent=0,                      # 0 means print running messages\n",
    "    objective='reg:squarederror',  # Learning task and learning objective\n",
    "    num_round=40                   # The number of rounds to run the training\n",
    ")"
   ]
  },
  {
   "cell_type": "markdown",
   "metadata": {},
   "source": [
    "Now we need to define the hyperparameters tuning job exploration ranges. You can refer yourself to [this page](https://docs.aws.amazon.com/sagemaker/latest/dg/xgboost-tuning.html) to understand the different metrics computed by the XGBoost algorithm and the associated optimization direction:"
   ]
  },
  {
   "cell_type": "code",
   "execution_count": 17,
   "metadata": {},
   "outputs": [],
   "source": [
    "from sagemaker.tuner import HyperparameterTuner, IntegerParameter, ContinuousParameter\n",
    "\n",
    "xgb_regression_tuner = HyperparameterTuner(\n",
    "    estimator = xgb_regression_estimator,         # The estimator object to use as the basis for the training jobs.\n",
    "    objective_metric_name = 'validation:rmse',    # The metric used to compare trained models (RMSE in this case).\n",
    "    objective_type = 'Minimize',                  # We wish to minimize this error metric.\n",
    "    max_jobs = 10,                                # The total number of models to train\n",
    "    max_parallel_jobs = 2,                        # The number of models to train in parallel\n",
    "    hyperparameter_ranges = {\n",
    "        'max_depth': IntegerParameter(3, 10),\n",
    "        'eta': ContinuousParameter(0.01, 0.3),\n",
    "        'gamma': ContinuousParameter(0, 10),\n",
    "        'subsample': ContinuousParameter(0.5, 1.0),\n",
    "        'colsample_bytree': ContinuousParameter(0.5, 1.0)\n",
    "    },\n",
    "    base_tuning_job_name = training_job_name + '-tuner'\n",
    ")"
   ]
  },
  {
   "cell_type": "markdown",
   "metadata": {},
   "source": [
    "We still need to encapsulate the inputs in S3 objects to make sure content type is correctly identified by the algorithm:"
   ]
  },
  {
   "cell_type": "code",
   "execution_count": 18,
   "metadata": {},
   "outputs": [],
   "source": [
    "s3_input_train = sagemaker.s3_input(s3_data='s3://{}/{}/input/training_regression.csv'.format(bucket_name, prefix), content_type='text/csv')\n",
    "s3_input_validation = sagemaker.s3_input(s3_data='s3://{}/{}/input/validation_regression.csv'.format(bucket_name, prefix), content_type='text/csv')"
   ]
  },
  {
   "cell_type": "markdown",
   "metadata": {},
   "source": [
    "We can now launch the hyperparameter job by training the tuner created previously. Note that by default the command gives back control to the notebook and does not wait for the tuning job to be finished."
   ]
  },
  {
   "cell_type": "code",
   "execution_count": 19,
   "metadata": {},
   "outputs": [],
   "source": [
    "xgb_regression_tuner.fit(inputs={'train': s3_input_train, 'validation': s3_input_validation}, logs=True)"
   ]
  },
  {
   "cell_type": "markdown",
   "metadata": {},
   "source": [
    "The following cell illustrates how to follow what is going on in the background. It provides similar insights than what can be visible in the AWS Console for the SageMaker Hyperparameter Tuning Jobs section:"
   ]
  },
  {
   "cell_type": "code",
   "execution_count": 20,
   "metadata": {},
   "outputs": [
    {
     "name": "stdout",
     "output_type": "stream",
     "text": [
      "Tuning job in progress (status: InProgress)\n",
      "9 training jobs are complete:\n",
      "+----+-----------------------------------------------+-----------------------+-----------+----------+-------------+-------------+--------------------+\n",
      "|    | TrainingJobName                               |   FinalObjectiveValue |       eta |    gamma |   max_depth |   subsample |   colsample_bytree |\n",
      "|----+-----------------------------------------------+-----------------------+-----------+----------+-------------+-------------+--------------------|\n",
      "|  2 | xgboost-nasa-rul-tun-200515-1248-008-9dc283af |               44.0584 | 0.284479  | 0.865915 |           4 |    0.569478 |           0.512512 |\n",
      "|  3 | xgboost-nasa-rul-tun-200515-1248-007-4f76e2b4 |               43.0794 | 0.26254   | 0.484751 |           3 |    0.68832  |           0.500002 |\n",
      "|  5 | xgboost-nasa-rul-tun-200515-1248-005-ef630788 |               43.3705 | 0.298506  | 8.62591  |           3 |    0.707375 |           0.562393 |\n",
      "|  4 | xgboost-nasa-rul-tun-200515-1248-006-638ff70f |               42.9373 | 0.265062  | 4.95954  |           3 |    0.770571 |           0.522064 |\n",
      "|  6 | xgboost-nasa-rul-tun-200515-1248-004-37c12ffc |               43.5286 | 0.284886  | 5.99939  |           4 |    0.669985 |           0.550384 |\n",
      "|  7 | xgboost-nasa-rul-tun-200515-1248-003-a65b9da3 |               47.3927 | 0.243149  | 8.20276  |           9 |    0.577751 |           0.840972 |\n",
      "|  9 | xgboost-nasa-rul-tun-200515-1248-001-3eb392d6 |               46.314  | 0.0765576 | 9.64572  |          10 |    0.552244 |           0.876246 |\n",
      "|  8 | xgboost-nasa-rul-tun-200515-1248-002-1ab1ca8d |               48.089  | 0.0581141 | 4.428    |          10 |    0.829879 |           0.950419 |\n",
      "+----+-----------------------------------------------+-----------------------+-----------+----------+-------------+-------------+--------------------+\n"
     ]
    },
    {
     "data": {
      "text/plain": [
       "'Completed'"
      ]
     },
     "execution_count": 20,
     "metadata": {},
     "output_type": "execute_result"
    }
   ],
   "source": [
    "status = utils.get_tuner_status(xgb_regression_tuner._current_job_name)\n",
    "if (status != 'Completed'):\n",
    "    print('Hyperparameter job not completed: ' + status)"
   ]
  },
  {
   "cell_type": "markdown",
   "metadata": {},
   "source": [
    "#### Deploying an endpoint to query the best model found\n",
    "Now that the hyperparameter tuning job is finished, we can deploy an endpoint to query the best model found:"
   ]
  },
  {
   "cell_type": "code",
   "execution_count": 21,
   "metadata": {},
   "outputs": [
    {
     "name": "stdout",
     "output_type": "stream",
     "text": [
      "The following endpoint will be created for the best estimator previously found: xgboost-nasa-regression-v2-20200515-130516\n"
     ]
    }
   ],
   "source": [
    "reg_endpoint_name = 'xgboost-nasa-regression-v2-{}'.format(datetime.now().strftime(\"%Y%m%d-%H%M%S\"))\n",
    "print('The following endpoint will be created for the best estimator previously found:', reg_endpoint_name)\n",
    "\n",
    "# Get the training job descriptor to extract the location of the \n",
    "# model artifacts on S3 and the container for the algorithm image:\n",
    "# Collect the best training job name and associated estimator:\n",
    "sm_client = boto3.client('sagemaker')\n",
    "best_xgb_training_job = xgb_regression_tuner.best_training_job()\n",
    "training_job_description = sm_client.describe_training_job(TrainingJobName=best_xgb_training_job)\n",
    "model_artifacts = training_job_description['ModelArtifacts']['S3ModelArtifacts']\n",
    "training_image = training_job_description['AlgorithmSpecification']['TrainingImage']\n",
    "\n",
    "# Create a deployable model:\n",
    "sm_client.create_model(\n",
    "    ModelName = reg_endpoint_name + '-model',\n",
    "    ExecutionRoleArn = role,\n",
    "    PrimaryContainer = {\n",
    "        'Image': training_image,\n",
    "        'ModelDataUrl': model_artifacts\n",
    "    }\n",
    ")\n",
    "\n",
    "# Creates the endpoint configuration: this entity describes the distribution of traffic \n",
    "# across the models, whether split, shadowed, or sampled in some way:\n",
    "sm_client.create_endpoint_config(\n",
    "    EndpointConfigName = reg_endpoint_name + '-endpoint-cfg',\n",
    "    ProductionVariants=[{\n",
    "        'InstanceType': 'ml.t2.medium',\n",
    "        'InitialVariantWeight': 1,\n",
    "        'InitialInstanceCount': 1,\n",
    "        'ModelName': reg_endpoint_name + '-model',\n",
    "        'VariantName':'AllTraffic'\n",
    "    }]\n",
    ")\n",
    "\n",
    "# Creates the endpoint: this entity serves up the model, through \n",
    "# specifying the name and configuration defined above:\n",
    "xgb_regression_predictor = sm_client.create_endpoint(\n",
    "    EndpointName = reg_endpoint_name,\n",
    "    EndpointConfigName = reg_endpoint_name + '-endpoint-cfg'\n",
    ")"
   ]
  },
  {
   "cell_type": "markdown",
   "metadata": {},
   "source": [
    "Let's wait for the endpoint to be created:"
   ]
  },
  {
   "cell_type": "code",
   "execution_count": 22,
   "metadata": {},
   "outputs": [
    {
     "name": "stdout",
     "output_type": "stream",
     "text": [
      "Endpoint creation in progress... #########\n",
      "Endpoint creation successful.\n"
     ]
    }
   ],
   "source": [
    "status = sm_client.describe_endpoint(EndpointName=reg_endpoint_name)['EndpointStatus']\n",
    "print('Endpoint creation in progress... ', end='')\n",
    "while status == 'Creating':\n",
    "    time.sleep(60)\n",
    "    print('#', end='')\n",
    "    status = sm_client.describe_endpoint(EndpointName=reg_endpoint_name)['EndpointStatus']\n",
    "    \n",
    "if (status == 'InService'):\n",
    "    print('\\nEndpoint creation successful.')\n",
    "    \n",
    "    # Build a predictor object which will receive our prediction requests:\n",
    "    xgb_regression_predictor = RealTimePredictor(\n",
    "        endpoint = reg_endpoint_name,\n",
    "        sagemaker_session = session,\n",
    "        serializer = csv_serializer,\n",
    "        deserializer = csv_deserializer\n",
    "    )\n",
    "    \n",
    "else:\n",
    "    print('\\nEndpoint creation failed.')"
   ]
  },
  {
   "cell_type": "markdown",
   "metadata": {},
   "source": [
    "#### Get prediction for the test data"
   ]
  },
  {
   "cell_type": "code",
   "execution_count": 23,
   "metadata": {},
   "outputs": [
    {
     "data": {
      "text/html": [
       "<div>\n",
       "<style scoped>\n",
       "    .dataframe tbody tr th:only-of-type {\n",
       "        vertical-align: middle;\n",
       "    }\n",
       "\n",
       "    .dataframe tbody tr th {\n",
       "        vertical-align: top;\n",
       "    }\n",
       "\n",
       "    .dataframe thead th {\n",
       "        text-align: right;\n",
       "    }\n",
       "</style>\n",
       "<table border=\"1\" class=\"dataframe\">\n",
       "  <thead>\n",
       "    <tr style=\"text-align: right;\">\n",
       "      <th></th>\n",
       "      <th>real_rul</th>\n",
       "      <th>predicted_rul</th>\n",
       "    </tr>\n",
       "    <tr>\n",
       "      <th>unit_number</th>\n",
       "      <th></th>\n",
       "      <th></th>\n",
       "    </tr>\n",
       "  </thead>\n",
       "  <tbody>\n",
       "    <tr>\n",
       "      <th>1.0</th>\n",
       "      <td>112.0</td>\n",
       "      <td>169.608353</td>\n",
       "    </tr>\n",
       "    <tr>\n",
       "      <th>2.0</th>\n",
       "      <td>98.0</td>\n",
       "      <td>122.374947</td>\n",
       "    </tr>\n",
       "    <tr>\n",
       "      <th>3.0</th>\n",
       "      <td>69.0</td>\n",
       "      <td>72.169350</td>\n",
       "    </tr>\n",
       "    <tr>\n",
       "      <th>4.0</th>\n",
       "      <td>82.0</td>\n",
       "      <td>87.839935</td>\n",
       "    </tr>\n",
       "    <tr>\n",
       "      <th>5.0</th>\n",
       "      <td>91.0</td>\n",
       "      <td>105.901909</td>\n",
       "    </tr>\n",
       "  </tbody>\n",
       "</table>\n",
       "</div>"
      ],
      "text/plain": [
       "             real_rul  predicted_rul\n",
       "unit_number                         \n",
       "1.0             112.0     169.608353\n",
       "2.0              98.0     122.374947\n",
       "3.0              69.0      72.169350\n",
       "4.0              82.0      87.839935\n",
       "5.0              91.0     105.901909"
      ]
     },
     "execution_count": 23,
     "metadata": {},
     "output_type": "execute_result"
    }
   ],
   "source": [
    "# We want to estimate the remaining useful lifetime for each unit:\n",
    "tuned_reg_results_df = pd.DataFrame(columns=['unit_number', 'real_rul', 'predicted_rul'])\n",
    "\n",
    "# Loops through each unit:\n",
    "for i in range(0, 100):\n",
    "    # Get all the test data for the current unit:\n",
    "    row = test_data_scaled[test_data_scaled['unit_number'] == (i+1)].iloc[-1, :]\n",
    "    \n",
    "    # Join them together into a list before sending them to the predictor:\n",
    "    test_sample = ', '.join(row[X_train.columns].map(str).tolist())\n",
    "    prediction = xgb_regression_predictor.predict(test_sample)\n",
    "    \n",
    "    # Add the result for the current unit to the results dataframe:\n",
    "    tuned_reg_results_df = tuned_reg_results_df.append({\n",
    "        'unit_number': (i+1),\n",
    "        'real_rul': row['rul'],\n",
    "        'predicted_rul': float(prediction[0][0])\n",
    "    }, ignore_index=True)\n",
    "    \n",
    "tuned_reg_results_df = tuned_reg_results_df.set_index('unit_number')\n",
    "tuned_reg_results_df.head()"
   ]
  },
  {
   "cell_type": "markdown",
   "metadata": {},
   "source": [
    "We can use the following dataframe to perform some error analysis:"
   ]
  },
  {
   "cell_type": "code",
   "execution_count": 28,
   "metadata": {},
   "outputs": [
    {
     "data": {
      "text/html": [
       "<div>\n",
       "<style scoped>\n",
       "    .dataframe tbody tr th:only-of-type {\n",
       "        vertical-align: middle;\n",
       "    }\n",
       "\n",
       "    .dataframe tbody tr th {\n",
       "        vertical-align: top;\n",
       "    }\n",
       "\n",
       "    .dataframe thead th {\n",
       "        text-align: right;\n",
       "    }\n",
       "</style>\n",
       "<table border=\"1\" class=\"dataframe\">\n",
       "  <thead>\n",
       "    <tr style=\"text-align: right;\">\n",
       "      <th></th>\n",
       "      <th>Real RUL</th>\n",
       "      <th>Initial Prediction</th>\n",
       "      <th>After HP Tuning</th>\n",
       "    </tr>\n",
       "    <tr>\n",
       "      <th>unit_number</th>\n",
       "      <th></th>\n",
       "      <th></th>\n",
       "      <th></th>\n",
       "    </tr>\n",
       "  </thead>\n",
       "  <tbody>\n",
       "    <tr>\n",
       "      <th>1.0</th>\n",
       "      <td>112.0</td>\n",
       "      <td>206.669495</td>\n",
       "      <td>169.608353</td>\n",
       "    </tr>\n",
       "    <tr>\n",
       "      <th>2.0</th>\n",
       "      <td>98.0</td>\n",
       "      <td>121.977745</td>\n",
       "      <td>122.374947</td>\n",
       "    </tr>\n",
       "    <tr>\n",
       "      <th>3.0</th>\n",
       "      <td>69.0</td>\n",
       "      <td>31.511415</td>\n",
       "      <td>72.169350</td>\n",
       "    </tr>\n",
       "    <tr>\n",
       "      <th>4.0</th>\n",
       "      <td>82.0</td>\n",
       "      <td>77.445061</td>\n",
       "      <td>87.839935</td>\n",
       "    </tr>\n",
       "    <tr>\n",
       "      <th>5.0</th>\n",
       "      <td>91.0</td>\n",
       "      <td>104.225723</td>\n",
       "      <td>105.901909</td>\n",
       "    </tr>\n",
       "    <tr>\n",
       "      <th>6.0</th>\n",
       "      <td>93.0</td>\n",
       "      <td>120.800323</td>\n",
       "      <td>123.683266</td>\n",
       "    </tr>\n",
       "    <tr>\n",
       "      <th>7.0</th>\n",
       "      <td>91.0</td>\n",
       "      <td>88.835861</td>\n",
       "      <td>113.535286</td>\n",
       "    </tr>\n",
       "    <tr>\n",
       "      <th>8.0</th>\n",
       "      <td>95.0</td>\n",
       "      <td>109.767479</td>\n",
       "      <td>97.844170</td>\n",
       "    </tr>\n",
       "    <tr>\n",
       "      <th>9.0</th>\n",
       "      <td>111.0</td>\n",
       "      <td>130.915497</td>\n",
       "      <td>121.883804</td>\n",
       "    </tr>\n",
       "    <tr>\n",
       "      <th>10.0</th>\n",
       "      <td>96.0</td>\n",
       "      <td>115.082314</td>\n",
       "      <td>123.195915</td>\n",
       "    </tr>\n",
       "  </tbody>\n",
       "</table>\n",
       "</div>"
      ],
      "text/plain": [
       "             Real RUL  Initial Prediction  After HP Tuning\n",
       "unit_number                                               \n",
       "1.0             112.0          206.669495       169.608353\n",
       "2.0              98.0          121.977745       122.374947\n",
       "3.0              69.0           31.511415        72.169350\n",
       "4.0              82.0           77.445061        87.839935\n",
       "5.0              91.0          104.225723       105.901909\n",
       "6.0              93.0          120.800323       123.683266\n",
       "7.0              91.0           88.835861       113.535286\n",
       "8.0              95.0          109.767479        97.844170\n",
       "9.0             111.0          130.915497       121.883804\n",
       "10.0             96.0          115.082314       123.195915"
      ]
     },
     "execution_count": 28,
     "metadata": {},
     "output_type": "execute_result"
    }
   ],
   "source": [
    "df = pd.merge(reg_results_df, tuned_reg_results_df, how='inner', left_index=True, right_index=True)\n",
    "df = df[['real_rul_x', 'predicted_rul_x', 'predicted_rul_y']]\n",
    "df.columns = ['Real RUL', 'Initial Prediction', 'After HP Tuning']\n",
    "df.head(10)"
   ]
  },
  {
   "cell_type": "code",
   "execution_count": 25,
   "metadata": {},
   "outputs": [
    {
     "name": "stdout",
     "output_type": "stream",
     "text": [
      "R² (initial): 0.4395086423376081\n",
      "R² (after hyperparameter tuning): 0.5052761899088645\n"
     ]
    }
   ],
   "source": [
    "from sklearn.metrics import r2_score\n",
    "\n",
    "print('R² (initial):', r2_score(reg_results_df['real_rul'], reg_results_df['predicted_rul']))\n",
    "print('R² (after hyperparameter tuning):', r2_score(tuned_reg_results_df['real_rul'], tuned_reg_results_df['predicted_rul']))"
   ]
  },
  {
   "cell_type": "code",
   "execution_count": 26,
   "metadata": {},
   "outputs": [
    {
     "data": {
      "image/png": "[encoded data removed]",
      "text/plain": [
       "<Figure size 720x720 with 1 Axes>"
      ]
     },
     "metadata": {},
     "output_type": "display_data"
    }
   ],
   "source": [
    "figure=plt.figure(figsize=(10,10))\n",
    "chart = sns.scatterplot(x=reg_results_df['real_rul'], y=reg_results_df['predicted_rul'], s=100, alpha=0.3, label='Initial training');\n",
    "chart = sns.scatterplot(x=tuned_reg_results_df['real_rul'], y=tuned_reg_results_df['predicted_rul'], s=50, alpha=0.6, color='#CC0000', label='Hyperparameters tuned');\n",
    "chart.set_title('NASA Turbofan Engine Faults - Prediction vs. Real RUL');\n",
    "chart.legend(loc='lower right');"
   ]
  },
  {
   "cell_type": "markdown",
   "metadata": {},
   "source": [
    "## Conclusion\n",
    "---\n",
    "* The **classification algorithm** did not get any improvement from the hyperparameter tuning job, although a larger scope of exploration might help.\n",
    "* Concerning the **regression algorithm**: although the R² was improved by ~7 points (reaching a mere 50.5%), we are still very far from a usable model in production. In the next series of notebooks, we will consider timeseries analysis to address this topic.\n",
    "\n",
    "### Cleanup"
   ]
  },
  {
   "cell_type": "code",
   "execution_count": 27,
   "metadata": {},
   "outputs": [],
   "source": [
    "# Deleting the classification endpoint:\n",
    "sm_client.delete_endpoint(EndpointName=cls_endpoint_name);\n",
    "sm_client.delete_endpoint_config(EndpointConfigName=cls_endpoint_name + '-endpoint-cfg');\n",
    "sm_client.delete_model(ModelName=cls_endpoint_name + '-model');\n",
    "\n",
    "# Deleting the regression endpoint:\n",
    "sm_client.delete_endpoint(EndpointName=reg_endpoint_name);\n",
    "sm_client.delete_endpoint_config(EndpointConfigName=reg_endpoint_name + '-endpoint-cfg');\n",
    "sm_client.delete_model(ModelName=reg_endpoint_name + '-model');"
   ]
  }
 ],
 "metadata": {
  "kernelspec": {
   "display_name": "conda_python3",
   "language": "python",
   "name": "conda_python3"
  },
  "language_info": {
   "codemirror_mode": {
    "name": "ipython",
    "version": 3
   },
   "file_extension": ".py",
   "mimetype": "text/x-python",
   "name": "python",
   "nbconvert_exporter": "python",
   "pygments_lexer": "ipython3",
   "version": "3.6.5"
  }
 },
 "nbformat": 4,
 "nbformat_minor": 4
}
