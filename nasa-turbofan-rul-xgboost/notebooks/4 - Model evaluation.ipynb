{
 "cells": [
  {
   "cell_type": "markdown",
   "metadata": {},
   "source": [
    "# Predictive Maintenance using Machine Learning on Sagemaker\n",
    "*Part 4 - Model evaluation*"
   ]
  },
  {
   "cell_type": "markdown",
   "metadata": {},
   "source": [
    "## Initialization\n",
    "---\n",
    "Directory structure to run this notebook:\n",
    "```\n",
    "sagemaker-predictive-maintenance\n",
    "|\n",
    "+--- data\n",
    "|   |\n",
    "|   +--- interim: intermediate data we can manipulate and process\n",
    "|   |\n",
    "|   \\--- raw: *immutable* data downloaded from the source website\n",
    "|\n",
    "+--- notebooks: all the notebooks are positionned here\n",
    "```"
   ]
  },
  {
   "cell_type": "markdown",
   "metadata": {},
   "source": [
    "### Imports"
   ]
  },
  {
   "cell_type": "code",
   "execution_count": 1,
   "metadata": {},
   "outputs": [],
   "source": [
    "import os\n",
    "import matplotlib.pyplot as plt\n",
    "import time\n",
    "import sagemaker\n",
    "import boto3\n",
    "import seaborn as sns\n",
    "import pandas as pd\n",
    "\n",
    "from sagemaker.predictor import RealTimePredictor, csv_serializer, csv_deserializer\n",
    "from datetime import datetime\n",
    "from sklearn.externals import joblib\n",
    "from sklearn.metrics import confusion_matrix, accuracy_score, r2_score, roc_auc_score, precision_score, recall_score, f1_score\n",
    "\n",
    "# Helper functions\n",
    "import utils\n",
    "\n",
    "sns.set_style('darkgrid')"
   ]
  },
  {
   "cell_type": "markdown",
   "metadata": {},
   "source": [
    "### Loading data from the previous notebook"
   ]
  },
  {
   "cell_type": "code",
   "execution_count": 2,
   "metadata": {},
   "outputs": [
    {
     "name": "stdout",
     "output_type": "stream",
     "text": [
      "Loaded \"data\", \"columns\", \"xgb_classification_job\", and \"xgb_regression_job\"\n"
     ]
    }
   ],
   "source": [
    "%store -r\n",
    "\n",
    "# If the data are not present in the notebook local storage, we need to load them from disk:\n",
    "success_msg = 'Loaded \"data\", \"columns\", \"xgb_classification_job\", and \"xgb_regression_job\"'\n",
    "if 'X_train' not in locals():\n",
    "    try:\n",
    "        local_path = '../data/interim'\n",
    "        data = pd.read_csv(os.path.join(local_path, 'data.csv'))\n",
    "        X_train = pd.read_csv(os.path.join(local_path, 'X_train.csv'))\n",
    "\n",
    "        with open(os.path.join(local_path, 'columns.txt'), 'r') as f:\n",
    "            columns = f.readline().split(',')\n",
    "            \n",
    "        with open(os.path.join(local_path, 'job_names.txt'), 'r') as f:\n",
    "            xgb_classification_job = f.readline()\n",
    "            xgb_regression_job = f.readline()\n",
    "            \n",
    "        print(success_msg)\n",
    "            \n",
    "    except Exception as e:\n",
    "        if (e.errno == errno.ENOENT):\n",
    "            print('Files not found to load data from: you need to execute the previous notebook.')\n",
    "            \n",
    "else:\n",
    "    print(success_msg)"
   ]
  },
  {
   "cell_type": "markdown",
   "metadata": {},
   "source": [
    "### Set general information about this SageMaker session"
   ]
  },
  {
   "cell_type": "code",
   "execution_count": 3,
   "metadata": {},
   "outputs": [],
   "source": [
    "role = sagemaker.get_execution_role()\n",
    "session = sagemaker.Session()\n",
    "bucket_name = session.default_bucket()\n",
    "region = boto3.Session().region_name\n",
    "prefix = 'nasa_engine_data'"
   ]
  },
  {
   "cell_type": "markdown",
   "metadata": {},
   "source": [
    "## Models validation\n",
    "---\n",
    "### Preparing the testing data"
   ]
  },
  {
   "cell_type": "code",
   "execution_count": 4,
   "metadata": {},
   "outputs": [],
   "source": [
    "test_dataset_path = '../data/interim/test_FD001.txt'\n",
    "ground_truth_dataset_path = '../data/interim/RUL_FD001.txt'"
   ]
  },
  {
   "cell_type": "code",
   "execution_count": 5,
   "metadata": {},
   "outputs": [
    {
     "name": "stdout",
     "output_type": "stream",
     "text": [
      "(100, 1)\n"
     ]
    },
    {
     "data": {
      "text/html": [
       "<div>\n",
       "<style scoped>\n",
       "    .dataframe tbody tr th:only-of-type {\n",
       "        vertical-align: middle;\n",
       "    }\n",
       "\n",
       "    .dataframe tbody tr th {\n",
       "        vertical-align: top;\n",
       "    }\n",
       "\n",
       "    .dataframe thead th {\n",
       "        text-align: right;\n",
       "    }\n",
       "</style>\n",
       "<table border=\"1\" class=\"dataframe\">\n",
       "  <thead>\n",
       "    <tr style=\"text-align: right;\">\n",
       "      <th></th>\n",
       "      <th>rul</th>\n",
       "    </tr>\n",
       "  </thead>\n",
       "  <tbody>\n",
       "    <tr>\n",
       "      <th>0</th>\n",
       "      <td>112</td>\n",
       "    </tr>\n",
       "    <tr>\n",
       "      <th>1</th>\n",
       "      <td>98</td>\n",
       "    </tr>\n",
       "    <tr>\n",
       "      <th>2</th>\n",
       "      <td>69</td>\n",
       "    </tr>\n",
       "    <tr>\n",
       "      <th>3</th>\n",
       "      <td>82</td>\n",
       "    </tr>\n",
       "    <tr>\n",
       "      <th>4</th>\n",
       "      <td>91</td>\n",
       "    </tr>\n",
       "  </tbody>\n",
       "</table>\n",
       "</div>"
      ],
      "text/plain": [
       "   rul\n",
       "0  112\n",
       "1   98\n",
       "2   69\n",
       "3   82\n",
       "4   91"
      ]
     },
     "execution_count": 5,
     "metadata": {},
     "output_type": "execute_result"
    }
   ],
   "source": [
    "rul_data = pd.read_csv(ground_truth_dataset_path, header=None, sep=' ')\n",
    "rul_data.dropna(axis='columns', how='all', inplace=True)\n",
    "rul_data.columns = ['rul']\n",
    "print(rul_data.shape)\n",
    "rul_data.head()"
   ]
  },
  {
   "cell_type": "code",
   "execution_count": 6,
   "metadata": {},
   "outputs": [
    {
     "data": {
      "text/html": [
       "<div>\n",
       "<style scoped>\n",
       "    .dataframe tbody tr th:only-of-type {\n",
       "        vertical-align: middle;\n",
       "    }\n",
       "\n",
       "    .dataframe tbody tr th {\n",
       "        vertical-align: top;\n",
       "    }\n",
       "\n",
       "    .dataframe thead th {\n",
       "        text-align: right;\n",
       "    }\n",
       "</style>\n",
       "<table border=\"1\" class=\"dataframe\">\n",
       "  <thead>\n",
       "    <tr style=\"text-align: right;\">\n",
       "      <th></th>\n",
       "      <th>unit_number</th>\n",
       "      <th>rul</th>\n",
       "      <th>rul_failed</th>\n",
       "    </tr>\n",
       "  </thead>\n",
       "  <tbody>\n",
       "    <tr>\n",
       "      <th>0</th>\n",
       "      <td>1</td>\n",
       "      <td>112</td>\n",
       "      <td>143</td>\n",
       "    </tr>\n",
       "    <tr>\n",
       "      <th>1</th>\n",
       "      <td>2</td>\n",
       "      <td>98</td>\n",
       "      <td>147</td>\n",
       "    </tr>\n",
       "    <tr>\n",
       "      <th>2</th>\n",
       "      <td>3</td>\n",
       "      <td>69</td>\n",
       "      <td>195</td>\n",
       "    </tr>\n",
       "    <tr>\n",
       "      <th>3</th>\n",
       "      <td>4</td>\n",
       "      <td>82</td>\n",
       "      <td>188</td>\n",
       "    </tr>\n",
       "    <tr>\n",
       "      <th>4</th>\n",
       "      <td>5</td>\n",
       "      <td>91</td>\n",
       "      <td>189</td>\n",
       "    </tr>\n",
       "  </tbody>\n",
       "</table>\n",
       "</div>"
      ],
      "text/plain": [
       "   unit_number  rul  rul_failed\n",
       "0            1  112         143\n",
       "1            2   98         147\n",
       "2            3   69         195\n",
       "3            4   82         188\n",
       "4            5   91         189"
      ]
     },
     "execution_count": 6,
     "metadata": {},
     "output_type": "execute_result"
    }
   ],
   "source": [
    "test_data = pd.read_csv(test_dataset_path, header=None, sep=' ')\n",
    "test_data.dropna(axis='columns', how='all', inplace=True)\n",
    "test_data.columns = columns\n",
    "\n",
    "tmp = pd.DataFrame(test_data.groupby(by='unit_number')['time'].max()).reset_index()\n",
    "tmp.columns = ['unit_number', 'max']\n",
    "\n",
    "rul_data['rul_failed'] = rul_data['rul'] + tmp['max']\n",
    "rul_data['unit_number'] = rul_data.index + 1\n",
    "rul_data = rul_data[['unit_number', 'rul', 'rul_failed']]\n",
    "rul_data.head()"
   ]
  },
  {
   "cell_type": "code",
   "execution_count": 7,
   "metadata": {},
   "outputs": [
    {
     "data": {
      "text/html": [
       "<div>\n",
       "<style scoped>\n",
       "    .dataframe tbody tr th:only-of-type {\n",
       "        vertical-align: middle;\n",
       "    }\n",
       "\n",
       "    .dataframe tbody tr th {\n",
       "        vertical-align: top;\n",
       "    }\n",
       "\n",
       "    .dataframe thead th {\n",
       "        text-align: right;\n",
       "    }\n",
       "</style>\n",
       "<table border=\"1\" class=\"dataframe\">\n",
       "  <thead>\n",
       "    <tr style=\"text-align: right;\">\n",
       "      <th></th>\n",
       "      <th>unit_number</th>\n",
       "      <th>time</th>\n",
       "      <th>operational_setting_1</th>\n",
       "      <th>operational_setting_2</th>\n",
       "      <th>operational_setting_3</th>\n",
       "      <th>sensor_measurement_1</th>\n",
       "      <th>sensor_measurement_2</th>\n",
       "      <th>sensor_measurement_3</th>\n",
       "      <th>sensor_measurement_4</th>\n",
       "      <th>sensor_measurement_5</th>\n",
       "      <th>...</th>\n",
       "      <th>sensor_measurement_14</th>\n",
       "      <th>sensor_measurement_15</th>\n",
       "      <th>sensor_measurement_16</th>\n",
       "      <th>sensor_measurement_17</th>\n",
       "      <th>sensor_measurement_18</th>\n",
       "      <th>sensor_measurement_19</th>\n",
       "      <th>sensor_measurement_20</th>\n",
       "      <th>sensor_measurement_21</th>\n",
       "      <th>rul</th>\n",
       "      <th>label</th>\n",
       "    </tr>\n",
       "  </thead>\n",
       "  <tbody>\n",
       "    <tr>\n",
       "      <th>0</th>\n",
       "      <td>1</td>\n",
       "      <td>1</td>\n",
       "      <td>0.0023</td>\n",
       "      <td>0.0003</td>\n",
       "      <td>100.0</td>\n",
       "      <td>518.67</td>\n",
       "      <td>643.02</td>\n",
       "      <td>1585.29</td>\n",
       "      <td>1398.21</td>\n",
       "      <td>14.62</td>\n",
       "      <td>...</td>\n",
       "      <td>8125.55</td>\n",
       "      <td>8.4052</td>\n",
       "      <td>0.03</td>\n",
       "      <td>392</td>\n",
       "      <td>2388</td>\n",
       "      <td>100.0</td>\n",
       "      <td>38.86</td>\n",
       "      <td>23.3735</td>\n",
       "      <td>142</td>\n",
       "      <td>0</td>\n",
       "    </tr>\n",
       "    <tr>\n",
       "      <th>1</th>\n",
       "      <td>1</td>\n",
       "      <td>2</td>\n",
       "      <td>-0.0027</td>\n",
       "      <td>-0.0003</td>\n",
       "      <td>100.0</td>\n",
       "      <td>518.67</td>\n",
       "      <td>641.71</td>\n",
       "      <td>1588.45</td>\n",
       "      <td>1395.42</td>\n",
       "      <td>14.62</td>\n",
       "      <td>...</td>\n",
       "      <td>8139.62</td>\n",
       "      <td>8.3803</td>\n",
       "      <td>0.03</td>\n",
       "      <td>393</td>\n",
       "      <td>2388</td>\n",
       "      <td>100.0</td>\n",
       "      <td>39.02</td>\n",
       "      <td>23.3916</td>\n",
       "      <td>141</td>\n",
       "      <td>0</td>\n",
       "    </tr>\n",
       "    <tr>\n",
       "      <th>2</th>\n",
       "      <td>1</td>\n",
       "      <td>3</td>\n",
       "      <td>0.0003</td>\n",
       "      <td>0.0001</td>\n",
       "      <td>100.0</td>\n",
       "      <td>518.67</td>\n",
       "      <td>642.46</td>\n",
       "      <td>1586.94</td>\n",
       "      <td>1401.34</td>\n",
       "      <td>14.62</td>\n",
       "      <td>...</td>\n",
       "      <td>8130.10</td>\n",
       "      <td>8.4441</td>\n",
       "      <td>0.03</td>\n",
       "      <td>393</td>\n",
       "      <td>2388</td>\n",
       "      <td>100.0</td>\n",
       "      <td>39.08</td>\n",
       "      <td>23.4166</td>\n",
       "      <td>140</td>\n",
       "      <td>0</td>\n",
       "    </tr>\n",
       "    <tr>\n",
       "      <th>3</th>\n",
       "      <td>1</td>\n",
       "      <td>4</td>\n",
       "      <td>0.0042</td>\n",
       "      <td>0.0000</td>\n",
       "      <td>100.0</td>\n",
       "      <td>518.67</td>\n",
       "      <td>642.44</td>\n",
       "      <td>1584.12</td>\n",
       "      <td>1406.42</td>\n",
       "      <td>14.62</td>\n",
       "      <td>...</td>\n",
       "      <td>8132.90</td>\n",
       "      <td>8.3917</td>\n",
       "      <td>0.03</td>\n",
       "      <td>391</td>\n",
       "      <td>2388</td>\n",
       "      <td>100.0</td>\n",
       "      <td>39.00</td>\n",
       "      <td>23.3737</td>\n",
       "      <td>139</td>\n",
       "      <td>0</td>\n",
       "    </tr>\n",
       "    <tr>\n",
       "      <th>4</th>\n",
       "      <td>1</td>\n",
       "      <td>5</td>\n",
       "      <td>0.0014</td>\n",
       "      <td>0.0000</td>\n",
       "      <td>100.0</td>\n",
       "      <td>518.67</td>\n",
       "      <td>642.51</td>\n",
       "      <td>1587.19</td>\n",
       "      <td>1401.92</td>\n",
       "      <td>14.62</td>\n",
       "      <td>...</td>\n",
       "      <td>8129.54</td>\n",
       "      <td>8.4031</td>\n",
       "      <td>0.03</td>\n",
       "      <td>390</td>\n",
       "      <td>2388</td>\n",
       "      <td>100.0</td>\n",
       "      <td>38.99</td>\n",
       "      <td>23.4130</td>\n",
       "      <td>138</td>\n",
       "      <td>0</td>\n",
       "    </tr>\n",
       "  </tbody>\n",
       "</table>\n",
       "<p>5 rows × 28 columns</p>\n",
       "</div>"
      ],
      "text/plain": [
       "   unit_number  time  operational_setting_1  operational_setting_2  \\\n",
       "0            1     1                 0.0023                 0.0003   \n",
       "1            1     2                -0.0027                -0.0003   \n",
       "2            1     3                 0.0003                 0.0001   \n",
       "3            1     4                 0.0042                 0.0000   \n",
       "4            1     5                 0.0014                 0.0000   \n",
       "\n",
       "   operational_setting_3  sensor_measurement_1  sensor_measurement_2  \\\n",
       "0                  100.0                518.67                643.02   \n",
       "1                  100.0                518.67                641.71   \n",
       "2                  100.0                518.67                642.46   \n",
       "3                  100.0                518.67                642.44   \n",
       "4                  100.0                518.67                642.51   \n",
       "\n",
       "   sensor_measurement_3  sensor_measurement_4  sensor_measurement_5  ...  \\\n",
       "0               1585.29               1398.21                 14.62  ...   \n",
       "1               1588.45               1395.42                 14.62  ...   \n",
       "2               1586.94               1401.34                 14.62  ...   \n",
       "3               1584.12               1406.42                 14.62  ...   \n",
       "4               1587.19               1401.92                 14.62  ...   \n",
       "\n",
       "   sensor_measurement_14  sensor_measurement_15  sensor_measurement_16  \\\n",
       "0                8125.55                 8.4052                   0.03   \n",
       "1                8139.62                 8.3803                   0.03   \n",
       "2                8130.10                 8.4441                   0.03   \n",
       "3                8132.90                 8.3917                   0.03   \n",
       "4                8129.54                 8.4031                   0.03   \n",
       "\n",
       "   sensor_measurement_17  sensor_measurement_18  sensor_measurement_19  \\\n",
       "0                    392                   2388                  100.0   \n",
       "1                    393                   2388                  100.0   \n",
       "2                    393                   2388                  100.0   \n",
       "3                    391                   2388                  100.0   \n",
       "4                    390                   2388                  100.0   \n",
       "\n",
       "   sensor_measurement_20  sensor_measurement_21  rul  label  \n",
       "0                  38.86                23.3735  142      0  \n",
       "1                  39.02                23.3916  141      0  \n",
       "2                  39.08                23.4166  140      0  \n",
       "3                  39.00                23.3737  139      0  \n",
       "4                  38.99                23.4130  138      0  \n",
       "\n",
       "[5 rows x 28 columns]"
      ]
     },
     "execution_count": 7,
     "metadata": {},
     "output_type": "execute_result"
    }
   ],
   "source": [
    "test_data = test_data.merge(rul_data.drop(['rul'], axis=1), on=['unit_number'], how='left')\n",
    "test_data['rul'] = test_data['rul_failed'] - test_data['time']\n",
    "test_data.drop(columns=['rul_failed'], axis='columns', inplace=True)\n",
    "tmp = test_data[X_train.columns]\n",
    "\n",
    "low_cycle = 30\n",
    "test_data['label'] = test_data['rul'].apply(lambda x: 1 if x <= low_cycle else 0)\n",
    "test_data.head()"
   ]
  },
  {
   "cell_type": "code",
   "execution_count": 8,
   "metadata": {},
   "outputs": [
    {
     "data": {
      "text/html": [
       "<div>\n",
       "<style scoped>\n",
       "    .dataframe tbody tr th:only-of-type {\n",
       "        vertical-align: middle;\n",
       "    }\n",
       "\n",
       "    .dataframe tbody tr th {\n",
       "        vertical-align: top;\n",
       "    }\n",
       "\n",
       "    .dataframe thead th {\n",
       "        text-align: right;\n",
       "    }\n",
       "</style>\n",
       "<table border=\"1\" class=\"dataframe\">\n",
       "  <thead>\n",
       "    <tr style=\"text-align: right;\">\n",
       "      <th></th>\n",
       "      <th>unit_number</th>\n",
       "      <th>time</th>\n",
       "      <th>rul</th>\n",
       "      <th>label</th>\n",
       "      <th>operational_setting_1</th>\n",
       "      <th>operational_setting_2</th>\n",
       "      <th>sensor_measurement_2</th>\n",
       "      <th>sensor_measurement_3</th>\n",
       "      <th>sensor_measurement_4</th>\n",
       "      <th>sensor_measurement_6</th>\n",
       "      <th>...</th>\n",
       "      <th>sensor_measurement_8</th>\n",
       "      <th>sensor_measurement_9</th>\n",
       "      <th>sensor_measurement_11</th>\n",
       "      <th>sensor_measurement_12</th>\n",
       "      <th>sensor_measurement_13</th>\n",
       "      <th>sensor_measurement_14</th>\n",
       "      <th>sensor_measurement_15</th>\n",
       "      <th>sensor_measurement_17</th>\n",
       "      <th>sensor_measurement_20</th>\n",
       "      <th>sensor_measurement_21</th>\n",
       "    </tr>\n",
       "  </thead>\n",
       "  <tbody>\n",
       "    <tr>\n",
       "      <th>0</th>\n",
       "      <td>1</td>\n",
       "      <td>1</td>\n",
       "      <td>142</td>\n",
       "      <td>0</td>\n",
       "      <td>0.698718</td>\n",
       "      <td>0.750000</td>\n",
       "      <td>0.542587</td>\n",
       "      <td>0.280233</td>\n",
       "      <td>0.227457</td>\n",
       "      <td>1.0</td>\n",
       "      <td>...</td>\n",
       "      <td>0.295455</td>\n",
       "      <td>0.140465</td>\n",
       "      <td>0.203593</td>\n",
       "      <td>0.635165</td>\n",
       "      <td>0.291667</td>\n",
       "      <td>0.135225</td>\n",
       "      <td>0.284262</td>\n",
       "      <td>0.3</td>\n",
       "      <td>0.615385</td>\n",
       "      <td>0.701860</td>\n",
       "    </tr>\n",
       "    <tr>\n",
       "      <th>1</th>\n",
       "      <td>1</td>\n",
       "      <td>2</td>\n",
       "      <td>141</td>\n",
       "      <td>0</td>\n",
       "      <td>0.378205</td>\n",
       "      <td>0.250000</td>\n",
       "      <td>0.129338</td>\n",
       "      <td>0.356969</td>\n",
       "      <td>0.173586</td>\n",
       "      <td>1.0</td>\n",
       "      <td>...</td>\n",
       "      <td>0.227273</td>\n",
       "      <td>0.163648</td>\n",
       "      <td>0.383234</td>\n",
       "      <td>0.731868</td>\n",
       "      <td>0.354167</td>\n",
       "      <td>0.218930</td>\n",
       "      <td>0.174182</td>\n",
       "      <td>0.4</td>\n",
       "      <td>0.752137</td>\n",
       "      <td>0.728364</td>\n",
       "    </tr>\n",
       "    <tr>\n",
       "      <th>2</th>\n",
       "      <td>1</td>\n",
       "      <td>3</td>\n",
       "      <td>140</td>\n",
       "      <td>0</td>\n",
       "      <td>0.570513</td>\n",
       "      <td>0.583333</td>\n",
       "      <td>0.365931</td>\n",
       "      <td>0.320301</td>\n",
       "      <td>0.287893</td>\n",
       "      <td>1.0</td>\n",
       "      <td>...</td>\n",
       "      <td>0.318182</td>\n",
       "      <td>0.177504</td>\n",
       "      <td>0.383234</td>\n",
       "      <td>0.690110</td>\n",
       "      <td>0.291667</td>\n",
       "      <td>0.162294</td>\n",
       "      <td>0.456233</td>\n",
       "      <td>0.4</td>\n",
       "      <td>0.803419</td>\n",
       "      <td>0.764973</td>\n",
       "    </tr>\n",
       "    <tr>\n",
       "      <th>3</th>\n",
       "      <td>1</td>\n",
       "      <td>4</td>\n",
       "      <td>139</td>\n",
       "      <td>0</td>\n",
       "      <td>0.820513</td>\n",
       "      <td>0.500000</td>\n",
       "      <td>0.359621</td>\n",
       "      <td>0.251821</td>\n",
       "      <td>0.385982</td>\n",
       "      <td>1.0</td>\n",
       "      <td>...</td>\n",
       "      <td>0.272727</td>\n",
       "      <td>0.113845</td>\n",
       "      <td>0.251497</td>\n",
       "      <td>0.560440</td>\n",
       "      <td>0.333333</td>\n",
       "      <td>0.178952</td>\n",
       "      <td>0.224580</td>\n",
       "      <td>0.2</td>\n",
       "      <td>0.735043</td>\n",
       "      <td>0.702153</td>\n",
       "    </tr>\n",
       "    <tr>\n",
       "      <th>4</th>\n",
       "      <td>1</td>\n",
       "      <td>5</td>\n",
       "      <td>138</td>\n",
       "      <td>0</td>\n",
       "      <td>0.641026</td>\n",
       "      <td>0.500000</td>\n",
       "      <td>0.381703</td>\n",
       "      <td>0.326372</td>\n",
       "      <td>0.299092</td>\n",
       "      <td>1.0</td>\n",
       "      <td>...</td>\n",
       "      <td>0.227273</td>\n",
       "      <td>0.109808</td>\n",
       "      <td>0.269461</td>\n",
       "      <td>0.729670</td>\n",
       "      <td>0.291667</td>\n",
       "      <td>0.158962</td>\n",
       "      <td>0.274978</td>\n",
       "      <td>0.1</td>\n",
       "      <td>0.726496</td>\n",
       "      <td>0.759701</td>\n",
       "    </tr>\n",
       "  </tbody>\n",
       "</table>\n",
       "<p>5 rows × 21 columns</p>\n",
       "</div>"
      ],
      "text/plain": [
       "   unit_number  time  rul  label  operational_setting_1  \\\n",
       "0            1     1  142      0               0.698718   \n",
       "1            1     2  141      0               0.378205   \n",
       "2            1     3  140      0               0.570513   \n",
       "3            1     4  139      0               0.820513   \n",
       "4            1     5  138      0               0.641026   \n",
       "\n",
       "   operational_setting_2  sensor_measurement_2  sensor_measurement_3  \\\n",
       "0               0.750000              0.542587              0.280233   \n",
       "1               0.250000              0.129338              0.356969   \n",
       "2               0.583333              0.365931              0.320301   \n",
       "3               0.500000              0.359621              0.251821   \n",
       "4               0.500000              0.381703              0.326372   \n",
       "\n",
       "   sensor_measurement_4  sensor_measurement_6  ...  sensor_measurement_8  \\\n",
       "0              0.227457                   1.0  ...              0.295455   \n",
       "1              0.173586                   1.0  ...              0.227273   \n",
       "2              0.287893                   1.0  ...              0.318182   \n",
       "3              0.385982                   1.0  ...              0.272727   \n",
       "4              0.299092                   1.0  ...              0.227273   \n",
       "\n",
       "   sensor_measurement_9  sensor_measurement_11  sensor_measurement_12  \\\n",
       "0              0.140465               0.203593               0.635165   \n",
       "1              0.163648               0.383234               0.731868   \n",
       "2              0.177504               0.383234               0.690110   \n",
       "3              0.113845               0.251497               0.560440   \n",
       "4              0.109808               0.269461               0.729670   \n",
       "\n",
       "   sensor_measurement_13  sensor_measurement_14  sensor_measurement_15  \\\n",
       "0               0.291667               0.135225               0.284262   \n",
       "1               0.354167               0.218930               0.174182   \n",
       "2               0.291667               0.162294               0.456233   \n",
       "3               0.333333               0.178952               0.224580   \n",
       "4               0.291667               0.158962               0.274978   \n",
       "\n",
       "   sensor_measurement_17  sensor_measurement_20  sensor_measurement_21  \n",
       "0                    0.3               0.615385               0.701860  \n",
       "1                    0.4               0.752137               0.728364  \n",
       "2                    0.4               0.803419               0.764973  \n",
       "3                    0.2               0.735043               0.702153  \n",
       "4                    0.1               0.726496               0.759701  \n",
       "\n",
       "[5 rows x 21 columns]"
      ]
     },
     "execution_count": 8,
     "metadata": {},
     "output_type": "execute_result"
    }
   ],
   "source": [
    "# Get the scaler previously persisted on S3 to transform the test data \n",
    "# using the same normalization method than for the training dataset:\n",
    "session.download_data('.', bucket=bucket_name, key_prefix='{}/preprocessing/MinMaxScaler.joblib'.format(prefix))\n",
    "scaler = joblib.load('./MinMaxScaler.joblib')\n",
    "\n",
    "# Normalize the test data:\n",
    "test_data_scaled = pd.DataFrame(scaler.transform(tmp))\n",
    "test_data_scaled.columns = X_train.columns\n",
    "test_data_scaled = pd.concat([test_data[['unit_number', 'time', 'rul', 'label']], test_data_scaled], axis='columns')\n",
    "test_data_scaled.head()"
   ]
  },
  {
   "cell_type": "markdown",
   "metadata": {},
   "source": [
    "### Deploying an endpoint for the trained models\n",
    "The Estimator objects for both the classification and the regression models were created in the previous Notebook and we don't have them readily available to use right here. We will have to build an endpoint from scratch: this is a good way to have a notebook as independant as possible from the training process itself though. The `xgb_classification_job` and `xgb_regression_job` variables were persisted at the end of the previous notebook. Note that the `.deploy` method from the Estimator objects goes through all these steps for you under the hood\n",
    "\n",
    "#### Endpoint for the classification model"
   ]
  },
  {
   "cell_type": "code",
   "execution_count": 9,
   "metadata": {},
   "outputs": [
    {
     "name": "stdout",
     "output_type": "stream",
     "text": [
      "The following endpoint will be created: xgboost-nasa-classification-v1-20200515-065003\n"
     ]
    }
   ],
   "source": [
    "classification_endpoint_name = 'xgboost-nasa-classification-v1-{}'.format(datetime.now().strftime(\"%Y%m%d-%H%M%S\"))\n",
    "print('The following endpoint will be created:', classification_endpoint_name)\n",
    "\n",
    "# Get the training job descriptor to extract the location of the \n",
    "# model artifacts on S3 and the container for the algorithm image:\n",
    "sm_client = boto3.client('sagemaker')\n",
    "training_job_description = sm_client.describe_training_job(TrainingJobName=xgb_classification_job)\n",
    "model_artifacts = training_job_description['ModelArtifacts']['S3ModelArtifacts']\n",
    "training_image = training_job_description['AlgorithmSpecification']['TrainingImage']\n",
    "\n",
    "# Create a deployable model:\n",
    "sm_client.create_model(\n",
    "    ModelName = classification_endpoint_name + '-model',\n",
    "    ExecutionRoleArn = role,\n",
    "    PrimaryContainer = {\n",
    "        'Image': training_image,\n",
    "        'ModelDataUrl': model_artifacts\n",
    "    }\n",
    ")\n",
    "\n",
    "# Creates the endpoint configuration: this entity describes the distribution of traffic \n",
    "# across the models, whether split, shadowed, or sampled in some way:\n",
    "sm_client.create_endpoint_config(\n",
    "    EndpointConfigName = classification_endpoint_name + '-endpoint-cfg',\n",
    "    ProductionVariants=[{\n",
    "        'InstanceType': 'ml.t2.medium',\n",
    "        'InitialVariantWeight': 1,\n",
    "        'InitialInstanceCount': 1,\n",
    "        'ModelName': classification_endpoint_name + '-model',\n",
    "        'VariantName':'AllTraffic'\n",
    "    }]\n",
    ")\n",
    "\n",
    "# Creates the endpoint: this entity serves up the model, through \n",
    "# specifying the name and configuration defined above:\n",
    "xgb_classification_predictor = sm_client.create_endpoint(\n",
    "    EndpointName = classification_endpoint_name,\n",
    "    EndpointConfigName = classification_endpoint_name + '-endpoint-cfg'\n",
    ")"
   ]
  },
  {
   "cell_type": "code",
   "execution_count": 10,
   "metadata": {},
   "outputs": [
    {
     "name": "stdout",
     "output_type": "stream",
     "text": [
      "Endpoint creation in progress...\n",
      "Endpoint creation in progress...\n",
      "Endpoint creation in progress...\n",
      "Endpoint creation in progress...\n",
      "Endpoint creation in progress...\n",
      "Endpoint creation in progress...\n",
      "Endpoint creation in progress...\n",
      "Endpoint creation in progress...\n",
      "Endpoint creation in progress...\n",
      "Endpoint creation successful.\n"
     ]
    }
   ],
   "source": [
    "status = sm_client.describe_endpoint(EndpointName=classification_endpoint_name)['EndpointStatus']\n",
    "print('Endpoint creation in progress... ', end='')\n",
    "while status == 'Creating':\n",
    "    time.sleep(60)\n",
    "    print('#', end='')\n",
    "    status = sm_client.describe_endpoint(EndpointName=classification_endpoint_name)['EndpointStatus']\n",
    "    \n",
    "if (status == 'InService'):\n",
    "    print('\\nEndpoint creation successful.')\n",
    "    \n",
    "    # Build a predictor object which will receive our prediction requests:\n",
    "    xgb_classification_predictor = RealTimePredictor(\n",
    "        endpoint = classification_endpoint_name,\n",
    "        sagemaker_session = session,\n",
    "        serializer = csv_serializer,\n",
    "        deserializer = csv_deserializer\n",
    "    )\n",
    "    \n",
    "else:\n",
    "    print('\\nEndpoint creation failed.')"
   ]
  },
  {
   "cell_type": "markdown",
   "metadata": {},
   "source": [
    "#### Endpoint for the regression model"
   ]
  },
  {
   "cell_type": "code",
   "execution_count": 28,
   "metadata": {},
   "outputs": [
    {
     "name": "stdout",
     "output_type": "stream",
     "text": [
      "The following endpoint will be created: xgboost-nasa-regression-v1-20200515-071140\n"
     ]
    }
   ],
   "source": [
    "regression_endpoint_name = 'xgboost-nasa-regression-v1-{}'.format(datetime.now().strftime(\"%Y%m%d-%H%M%S\"))\n",
    "print('The following endpoint will be created:', regression_endpoint_name)\n",
    "\n",
    "# Get the training job descriptor to extract the location of the \n",
    "# model artifacts on S3 and the container for the algorithm image:\n",
    "sm_client = boto3.client('sagemaker')\n",
    "training_job_description = sm_client.describe_training_job(TrainingJobName=xgb_regression_job)\n",
    "model_artifacts = training_job_description['ModelArtifacts']['S3ModelArtifacts']\n",
    "training_image = training_job_description['AlgorithmSpecification']['TrainingImage']\n",
    "\n",
    "# Create a deployable model:\n",
    "sm_client.create_model(\n",
    "    ModelName = regression_endpoint_name + '-model',\n",
    "    ExecutionRoleArn = role,\n",
    "    PrimaryContainer = {\n",
    "        'Image': training_image,\n",
    "        'ModelDataUrl': model_artifacts\n",
    "    }\n",
    ")\n",
    "\n",
    "# Creates the endpoint configuration: this entity describes the distribution of traffic \n",
    "# across the models, whether split, shadowed, or sampled in some way:\n",
    "sm_client.create_endpoint_config(\n",
    "    EndpointConfigName = regression_endpoint_name + '-endpoint-cfg',\n",
    "    ProductionVariants=[{\n",
    "        'InstanceType': 'ml.t2.medium',\n",
    "        'InitialVariantWeight': 1,\n",
    "        'InitialInstanceCount': 1,\n",
    "        'ModelName': regression_endpoint_name + '-model',\n",
    "        'VariantName':'AllTraffic'\n",
    "    }]\n",
    ")\n",
    "\n",
    "# Creates the endpoint: this entity serves up the model, through \n",
    "# specifying the name and configuration defined above:\n",
    "xgb_regression_predictor = sm_client.create_endpoint(\n",
    "    EndpointName = regression_endpoint_name,\n",
    "    EndpointConfigName = regression_endpoint_name + '-endpoint-cfg'\n",
    ")"
   ]
  },
  {
   "cell_type": "code",
   "execution_count": 29,
   "metadata": {},
   "outputs": [
    {
     "name": "stdout",
     "output_type": "stream",
     "text": [
      "Endpoint creation in progress... #######\n",
      "Endpoint creation successful.\n"
     ]
    }
   ],
   "source": [
    "status = sm_client.describe_endpoint(EndpointName=regression_endpoint_name)['EndpointStatus']\n",
    "print('Endpoint creation in progress... ', end='')\n",
    "while status == 'Creating':\n",
    "    time.sleep(60)\n",
    "    print('#', end='')\n",
    "    status = sm_client.describe_endpoint(EndpointName=regression_endpoint_name)['EndpointStatus']\n",
    "    \n",
    "if (status == 'InService'):\n",
    "    print('\\nEndpoint creation successful.')\n",
    "    \n",
    "    # Build a predictor object which will receive our prediction requests:\n",
    "    xgb_regression_predictor = RealTimePredictor(\n",
    "        endpoint = regression_endpoint_name,\n",
    "        sagemaker_session = session,\n",
    "        serializer = csv_serializer,\n",
    "        deserializer = csv_deserializer\n",
    "    )\n",
    "    \n",
    "else:\n",
    "    print('\\nEndpoint creation failed.')"
   ]
  },
  {
   "cell_type": "markdown",
   "metadata": {},
   "source": [
    "### Measuring the performance of the classification model\n",
    "#### Get the label predictions for the test data"
   ]
  },
  {
   "cell_type": "code",
   "execution_count": 13,
   "metadata": {},
   "outputs": [
    {
     "data": {
      "text/html": [
       "<div>\n",
       "<style scoped>\n",
       "    .dataframe tbody tr th:only-of-type {\n",
       "        vertical-align: middle;\n",
       "    }\n",
       "\n",
       "    .dataframe tbody tr th {\n",
       "        vertical-align: top;\n",
       "    }\n",
       "\n",
       "    .dataframe thead th {\n",
       "        text-align: right;\n",
       "    }\n",
       "</style>\n",
       "<table border=\"1\" class=\"dataframe\">\n",
       "  <thead>\n",
       "    <tr style=\"text-align: right;\">\n",
       "      <th></th>\n",
       "      <th>real_label</th>\n",
       "      <th>predicted_label</th>\n",
       "    </tr>\n",
       "    <tr>\n",
       "      <th>unit_number</th>\n",
       "      <th></th>\n",
       "      <th></th>\n",
       "    </tr>\n",
       "  </thead>\n",
       "  <tbody>\n",
       "    <tr>\n",
       "      <th>1.0</th>\n",
       "      <td>0.0</td>\n",
       "      <td>0.0</td>\n",
       "    </tr>\n",
       "    <tr>\n",
       "      <th>2.0</th>\n",
       "      <td>0.0</td>\n",
       "      <td>0.0</td>\n",
       "    </tr>\n",
       "    <tr>\n",
       "      <th>3.0</th>\n",
       "      <td>0.0</td>\n",
       "      <td>0.0</td>\n",
       "    </tr>\n",
       "    <tr>\n",
       "      <th>4.0</th>\n",
       "      <td>0.0</td>\n",
       "      <td>0.0</td>\n",
       "    </tr>\n",
       "    <tr>\n",
       "      <th>5.0</th>\n",
       "      <td>0.0</td>\n",
       "      <td>0.0</td>\n",
       "    </tr>\n",
       "  </tbody>\n",
       "</table>\n",
       "</div>"
      ],
      "text/plain": [
       "             real_label  predicted_label\n",
       "unit_number                             \n",
       "1.0                 0.0              0.0\n",
       "2.0                 0.0              0.0\n",
       "3.0                 0.0              0.0\n",
       "4.0                 0.0              0.0\n",
       "5.0                 0.0              0.0"
      ]
     },
     "execution_count": 13,
     "metadata": {},
     "output_type": "execute_result"
    }
   ],
   "source": [
    "# We want to evaluate the probability for each unit to be healty or not:\n",
    "cls_results_df = pd.DataFrame(columns=['unit_number', 'real_label', 'predicted_label'])\n",
    "\n",
    "# Loops through each unit:\n",
    "for i in range(0, 100):\n",
    "    # Get all the scaled test data for the current unit:\n",
    "    row = test_data_scaled[test_data_scaled['unit_number'] == (i+1)].iloc[-1, :]\n",
    "    \n",
    "    # Join them together into a list before sending them to the predictor:\n",
    "    test_sample = ', '.join(row[X_train.columns].map(str).tolist())\n",
    "    prediction = xgb_classification_predictor.predict(test_sample)\n",
    "    \n",
    "    # Add the result for the current unit to the results dataframe:\n",
    "    cls_results_df = cls_results_df.append({\n",
    "        'unit_number': (i+1),\n",
    "        'real_label': row['label'],\n",
    "        'predicted_label': round(float(prediction[0][0]))\n",
    "    }, ignore_index=True)\n",
    "    \n",
    "cls_results_df = cls_results_df.set_index('unit_number')\n",
    "cls_results_df.head()"
   ]
  },
  {
   "cell_type": "markdown",
   "metadata": {},
   "source": [
    "#### Classification scores"
   ]
  },
  {
   "cell_type": "code",
   "execution_count": 14,
   "metadata": {},
   "outputs": [
    {
     "name": "stdout",
     "output_type": "stream",
     "text": [
      "Classification scores:\n",
      "- Accuracy: 0.94\n",
      "- Roc AuC: 0.89\n",
      "- Precision: 0.95\n",
      "- Recall: 0.8\n",
      "- F1 score: 0.87\n"
     ]
    }
   ],
   "source": [
    "y = cls_results_df['real_label']\n",
    "yhat = cls_results_df['predicted_label']\n",
    "\n",
    "print('Classification scores:')\n",
    "print('- Accuracy:', round(accuracy_score(y, yhat), 2))\n",
    "print('- Roc AuC:', round(roc_auc_score(y, yhat), 2))\n",
    "print('- Precision:', round(precision_score(y, yhat), 2))\n",
    "print('- Recall:', round(recall_score(y, yhat), 2))\n",
    "print('- F1 score:', round(f1_score(y, yhat,'binary'), 2))"
   ]
  },
  {
   "cell_type": "markdown",
   "metadata": {},
   "source": [
    "#### Confusion matrix"
   ]
  },
  {
   "cell_type": "code",
   "execution_count": 15,
   "metadata": {},
   "outputs": [
    {
     "data": {
      "image/png": "[encoded data removed]",
      "text/plain": [
       "<Figure size 720x504 with 2 Axes>"
      ]
     },
     "metadata": {},
     "output_type": "display_data"
    }
   ],
   "source": [
    "cm = confusion_matrix(y, yhat)\n",
    "fig = utils.print_confusion_matrix(cm, ['healthy', 'not healthy'])"
   ]
  },
  {
   "cell_type": "markdown",
   "metadata": {},
   "source": [
    "### Measuring the performance of the regression model\n",
    "#### Get the RUL predictions for the test data"
   ]
  },
  {
   "cell_type": "code",
   "execution_count": 16,
   "metadata": {},
   "outputs": [
    {
     "data": {
      "text/html": [
       "<div>\n",
       "<style scoped>\n",
       "    .dataframe tbody tr th:only-of-type {\n",
       "        vertical-align: middle;\n",
       "    }\n",
       "\n",
       "    .dataframe tbody tr th {\n",
       "        vertical-align: top;\n",
       "    }\n",
       "\n",
       "    .dataframe thead th {\n",
       "        text-align: right;\n",
       "    }\n",
       "</style>\n",
       "<table border=\"1\" class=\"dataframe\">\n",
       "  <thead>\n",
       "    <tr style=\"text-align: right;\">\n",
       "      <th></th>\n",
       "      <th>real_rul</th>\n",
       "      <th>predicted_rul</th>\n",
       "    </tr>\n",
       "    <tr>\n",
       "      <th>unit_number</th>\n",
       "      <th></th>\n",
       "      <th></th>\n",
       "    </tr>\n",
       "  </thead>\n",
       "  <tbody>\n",
       "    <tr>\n",
       "      <th>1.0</th>\n",
       "      <td>112.0</td>\n",
       "      <td>206.669495</td>\n",
       "    </tr>\n",
       "    <tr>\n",
       "      <th>2.0</th>\n",
       "      <td>98.0</td>\n",
       "      <td>121.977745</td>\n",
       "    </tr>\n",
       "    <tr>\n",
       "      <th>3.0</th>\n",
       "      <td>69.0</td>\n",
       "      <td>31.511415</td>\n",
       "    </tr>\n",
       "    <tr>\n",
       "      <th>4.0</th>\n",
       "      <td>82.0</td>\n",
       "      <td>77.445061</td>\n",
       "    </tr>\n",
       "    <tr>\n",
       "      <th>5.0</th>\n",
       "      <td>91.0</td>\n",
       "      <td>104.225723</td>\n",
       "    </tr>\n",
       "  </tbody>\n",
       "</table>\n",
       "</div>"
      ],
      "text/plain": [
       "             real_rul  predicted_rul\n",
       "unit_number                         \n",
       "1.0             112.0     206.669495\n",
       "2.0              98.0     121.977745\n",
       "3.0              69.0      31.511415\n",
       "4.0              82.0      77.445061\n",
       "5.0              91.0     104.225723"
      ]
     },
     "execution_count": 16,
     "metadata": {},
     "output_type": "execute_result"
    }
   ],
   "source": [
    "# We want to estimate the remaining useful lifetime for each unit:\n",
    "reg_results_df = pd.DataFrame(columns=['unit_number', 'real_rul', 'predicted_rul'])\n",
    "\n",
    "# Loops through each unit:\n",
    "for i in range(0, 100):\n",
    "    # Get all the test data for the current unit:\n",
    "    row = test_data_scaled[test_data_scaled['unit_number'] == (i+1)].iloc[-1, :]\n",
    "    \n",
    "    # Join them together into a list before sending them to the predictor:\n",
    "    test_sample = ', '.join(row[X_train.columns].map(str).tolist())\n",
    "    prediction = xgb_regression_predictor.predict(test_sample)\n",
    "    \n",
    "    # Add the result for the current unit to the results dataframe:\n",
    "    reg_results_df = reg_results_df.append({\n",
    "        'unit_number': (i+1),\n",
    "        'real_rul': row['rul'],\n",
    "        'predicted_rul': float(prediction[0][0])\n",
    "    }, ignore_index=True)\n",
    "    \n",
    "reg_results_df = reg_results_df.set_index('unit_number')\n",
    "reg_results_df.head()"
   ]
  },
  {
   "cell_type": "markdown",
   "metadata": {},
   "source": [
    "#### Scoring the regression model"
   ]
  },
  {
   "cell_type": "code",
   "execution_count": 17,
   "metadata": {},
   "outputs": [
    {
     "name": "stdout",
     "output_type": "stream",
     "text": [
      "R²: 0.4395086423376081\n"
     ]
    }
   ],
   "source": [
    "from sklearn.metrics import r2_score\n",
    "\n",
    "print('R²:', r2_score(reg_results_df['real_rul'], reg_results_df['predicted_rul']))"
   ]
  },
  {
   "cell_type": "markdown",
   "metadata": {},
   "source": [
    "#### Scatter plot for predicted RUL vs. real RUL"
   ]
  },
  {
   "cell_type": "code",
   "execution_count": 18,
   "metadata": {},
   "outputs": [
    {
     "data": {
      "image/png": "[encoded data removed]",
      "text/plain": [
       "<Figure size 720x720 with 1 Axes>"
      ]
     },
     "metadata": {},
     "output_type": "display_data"
    }
   ],
   "source": [
    "figure=plt.figure(figsize=(10,10))\n",
    "chart = sns.scatterplot(x=reg_results_df['real_rul'], y=reg_results_df['predicted_rul'], s=100, alpha=0.6);\n",
    "chart.set_title('NASA Turbofan Engine Faults - Prediction vs. Real RUL');"
   ]
  },
  {
   "cell_type": "markdown",
   "metadata": {},
   "source": [
    "## Conclusion\n",
    "---\n",
    "Although the training graphs for the classification model hinted overfitting, we get a **decent classification performance**. On the other hand, the **regression model still needs vast improvement** (with a very low R² at this stage) so that it can be used in a predictive maintenance context. However, we can already see on the previous figure that we are capturing the right prediction behaviour.\n",
    "### Cleanup"
   ]
  },
  {
   "cell_type": "code",
   "execution_count": 31,
   "metadata": {},
   "outputs": [],
   "source": [
    "sm_client.delete_endpoint(EndpointName=classification_endpoint_name);\n",
    "sm_client.delete_endpoint_config(EndpointConfigName=classification_endpoint_name + '-endpoint-cfg');\n",
    "sm_client.delete_model(ModelName=classification_endpoint_name + '-model');\n",
    "sm_client.delete_endpoint(EndpointName=regression_endpoint_name);\n",
    "sm_client.delete_endpoint_config(EndpointConfigName=regression_endpoint_name + '-endpoint-cfg');\n",
    "sm_client.delete_model(ModelName=regression_endpoint_name + '-model');"
   ]
  },
  {
   "cell_type": "markdown",
   "metadata": {},
   "source": [
    "### Storing data for the next notebook"
   ]
  },
  {
   "cell_type": "code",
   "execution_count": 20,
   "metadata": {},
   "outputs": [
    {
     "name": "stdout",
     "output_type": "stream",
     "text": [
      "Stored 'test_data_scaled' (DataFrame)\n",
      "Stored 'reg_results_df' (DataFrame)\n",
      "Stored 'cls_results_df' (DataFrame)\n"
     ]
    }
   ],
   "source": [
    "%store test_data_scaled\n",
    "%store reg_results_df\n",
    "%store cls_results_df"
   ]
  },
  {
   "cell_type": "markdown",
   "metadata": {},
   "source": [
    "### Persisting these data to disk\n",
    "This is useful in case you want to be able to execute each notebook independantly (from one session to another) and don't want to reexecute every notebooks whenever you want to focus on a particular step."
   ]
  },
  {
   "cell_type": "code",
   "execution_count": 22,
   "metadata": {},
   "outputs": [],
   "source": [
    "# Create the local path for our artifacts:\n",
    "local_path = '../data/interim'\n",
    "os.makedirs(local_path, exist_ok=True)\n",
    "\n",
    "# Write the dataframes:\n",
    "test_data_scaled.to_csv('test_data_scaled.csv')\n",
    "reg_results_df.to_csv('reg_results_df')\n",
    "cls_results_df.to_csv('cls_results_df')"
   ]
  }
 ],
 "metadata": {
  "kernelspec": {
   "display_name": "conda_python3",
   "language": "python",
   "name": "conda_python3"
  },
  "language_info": {
   "codemirror_mode": {
    "name": "ipython",
    "version": 3
   },
   "file_extension": ".py",
   "mimetype": "text/x-python",
   "name": "python",
   "nbconvert_exporter": "python",
   "pygments_lexer": "ipython3",
   "version": "3.6.5"
  }
 },
 "nbformat": 4,
 "nbformat_minor": 4
}
